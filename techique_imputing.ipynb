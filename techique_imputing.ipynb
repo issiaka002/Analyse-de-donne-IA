{
 "cells": [
  {
   "cell_type": "code",
   "execution_count": 1,
   "id": "bff645f5",
   "metadata": {},
   "outputs": [],
   "source": [
    "import pandas as pd"
   ]
  },
  {
   "cell_type": "code",
   "execution_count": 2,
   "id": "9123f50c",
   "metadata": {},
   "outputs": [
    {
     "data": {
      "text/html": [
       "<div>\n",
       "<style scoped>\n",
       "    .dataframe tbody tr th:only-of-type {\n",
       "        vertical-align: middle;\n",
       "    }\n",
       "\n",
       "    .dataframe tbody tr th {\n",
       "        vertical-align: top;\n",
       "    }\n",
       "\n",
       "    .dataframe thead th {\n",
       "        text-align: right;\n",
       "    }\n",
       "</style>\n",
       "<table border=\"1\" class=\"dataframe\">\n",
       "  <thead>\n",
       "    <tr style=\"text-align: right;\">\n",
       "      <th></th>\n",
       "      <th>marque</th>\n",
       "      <th>carburant</th>\n",
       "      <th>traction</th>\n",
       "      <th>nbre_porte</th>\n",
       "      <th>puissance</th>\n",
       "      <th>prix</th>\n",
       "    </tr>\n",
       "  </thead>\n",
       "  <tbody>\n",
       "    <tr>\n",
       "      <th>0</th>\n",
       "      <td>audi</td>\n",
       "      <td>gaz</td>\n",
       "      <td>fwd</td>\n",
       "      <td>quatre</td>\n",
       "      <td>102.0</td>\n",
       "      <td>13950.0</td>\n",
       "    </tr>\n",
       "    <tr>\n",
       "      <th>1</th>\n",
       "      <td>audi</td>\n",
       "      <td>gaz</td>\n",
       "      <td>4wd</td>\n",
       "      <td>quatre</td>\n",
       "      <td>115.0</td>\n",
       "      <td>17450.0</td>\n",
       "    </tr>\n",
       "    <tr>\n",
       "      <th>2</th>\n",
       "      <td>audi</td>\n",
       "      <td>gaz</td>\n",
       "      <td>fwd</td>\n",
       "      <td>deux</td>\n",
       "      <td>110.0</td>\n",
       "      <td>15250.0</td>\n",
       "    </tr>\n",
       "    <tr>\n",
       "      <th>3</th>\n",
       "      <td>audi</td>\n",
       "      <td>gaz</td>\n",
       "      <td>fwd</td>\n",
       "      <td>quatre</td>\n",
       "      <td>110.0</td>\n",
       "      <td>17650.0</td>\n",
       "    </tr>\n",
       "    <tr>\n",
       "      <th>4</th>\n",
       "      <td>audi</td>\n",
       "      <td>gaz</td>\n",
       "      <td>fwd</td>\n",
       "      <td>quatre</td>\n",
       "      <td>110.0</td>\n",
       "      <td>18920.0</td>\n",
       "    </tr>\n",
       "  </tbody>\n",
       "</table>\n",
       "</div>"
      ],
      "text/plain": [
       "  marque carburant traction nbre_porte  puissance     prix\n",
       "0   audi       gaz      fwd     quatre      102.0  13950.0\n",
       "1   audi       gaz      4wd     quatre      115.0  17450.0\n",
       "2   audi       gaz      fwd       deux      110.0  15250.0\n",
       "3   audi       gaz      fwd     quatre      110.0  17650.0\n",
       "4   audi       gaz      fwd     quatre      110.0  18920.0"
      ]
     },
     "execution_count": 2,
     "metadata": {},
     "output_type": "execute_result"
    }
   ],
   "source": [
    "data = pd.read_csv(\"..\\\\fichiers\\\\voitures.csv\", sep=\";\")\n",
    "df = data.copy()\n",
    "df.head()"
   ]
  },
  {
   "cell_type": "code",
   "execution_count": 6,
   "id": "3a0744fe",
   "metadata": {},
   "outputs": [
    {
     "data": {
      "text/plain": [
       "(83, 6)"
      ]
     },
     "execution_count": 6,
     "metadata": {},
     "output_type": "execute_result"
    }
   ],
   "source": [
    "# Afficher un échatillon du dataframe\n",
    "df.sample(5)\n",
    "# Obtenir le shape du dataframe\n",
    "df.shape"
   ]
  },
  {
   "cell_type": "code",
   "execution_count": 8,
   "id": "46bad996",
   "metadata": {},
   "outputs": [
    {
     "data": {
      "text/plain": [
       "marque        0\n",
       "carburant     2\n",
       "traction      0\n",
       "nbre_porte    3\n",
       "puissance     0\n",
       "prix          0\n",
       "dtype: int64"
      ]
     },
     "execution_count": 8,
     "metadata": {},
     "output_type": "execute_result"
    }
   ],
   "source": [
    "# Vérifier la présence de valeurs manquantes et indiquer le nombre de valeur manquantes dans chaque série\n",
    "df.isnull().sum()"
   ]
  },
  {
   "cell_type": "code",
   "execution_count": 4,
   "id": "c308e4c0",
   "metadata": {},
   "outputs": [
    {
     "name": "stdout",
     "output_type": "stream",
     "text": [
      "marque        0.00\n",
      "carburant     2.41\n",
      "traction      0.00\n",
      "nbre_porte    3.61\n",
      "puissance     0.00\n",
      "prix          0.00\n",
      "dtype: float64\n"
     ]
    }
   ],
   "source": [
    "# En s'aidant du shape, afficher le pourcentage de valeurs manquantes pour chaque série du dataframe\n",
    "percentage = (df.isnull().sum() / df.shape[0]) * 100\n",
    "# afficher 2 chiffres après la virgule\n",
    "print(round(percentage, ndigits = 2))"
   ]
  },
  {
   "cell_type": "code",
   "execution_count": 10,
   "id": "ab4862ae",
   "metadata": {},
   "outputs": [
    {
     "data": {
      "text/html": [
       "<div>\n",
       "<style scoped>\n",
       "    .dataframe tbody tr th:only-of-type {\n",
       "        vertical-align: middle;\n",
       "    }\n",
       "\n",
       "    .dataframe tbody tr th {\n",
       "        vertical-align: top;\n",
       "    }\n",
       "\n",
       "    .dataframe thead th {\n",
       "        text-align: right;\n",
       "    }\n",
       "</style>\n",
       "<table border=\"1\" class=\"dataframe\">\n",
       "  <thead>\n",
       "    <tr style=\"text-align: right;\">\n",
       "      <th></th>\n",
       "      <th>marque</th>\n",
       "      <th>carburant</th>\n",
       "      <th>traction</th>\n",
       "      <th>nbre_porte</th>\n",
       "      <th>puissance</th>\n",
       "      <th>prix</th>\n",
       "    </tr>\n",
       "  </thead>\n",
       "  <tbody>\n",
       "    <tr>\n",
       "      <th>16</th>\n",
       "      <td>honda</td>\n",
       "      <td>gaz</td>\n",
       "      <td>fwd</td>\n",
       "      <td>NaN</td>\n",
       "      <td>60.0</td>\n",
       "      <td>5399.0</td>\n",
       "    </tr>\n",
       "    <tr>\n",
       "      <th>21</th>\n",
       "      <td>honda</td>\n",
       "      <td>gaz</td>\n",
       "      <td>fwd</td>\n",
       "      <td>NaN</td>\n",
       "      <td>86.0</td>\n",
       "      <td>7895.0</td>\n",
       "    </tr>\n",
       "    <tr>\n",
       "      <th>40</th>\n",
       "      <td>mazda</td>\n",
       "      <td>diesel</td>\n",
       "      <td>fwd</td>\n",
       "      <td>NaN</td>\n",
       "      <td>64.0</td>\n",
       "      <td>10795.0</td>\n",
       "    </tr>\n",
       "  </tbody>\n",
       "</table>\n",
       "</div>"
      ],
      "text/plain": [
       "   marque carburant traction nbre_porte  puissance     prix\n",
       "16  honda       gaz      fwd        NaN       60.0   5399.0\n",
       "21  honda       gaz      fwd        NaN       86.0   7895.0\n",
       "40  mazda    diesel      fwd        NaN       64.0  10795.0"
      ]
     },
     "execution_count": 10,
     "metadata": {},
     "output_type": "execute_result"
    }
   ],
   "source": [
    "# Afficher pour la série nbre_porte, les enregistrements contenants des valeurs manquantes\n",
    "df[df.nbre_porte.isnull()]"
   ]
  },
  {
   "cell_type": "code",
   "execution_count": 11,
   "id": "7e820de1",
   "metadata": {},
   "outputs": [],
   "source": [
    "# Utilisez SimpleImputer et une stratégie de remplacement, justifier votre choix de stratégie \n",
    "from sklearn.impute import SimpleImputer"
   ]
  },
  {
   "cell_type": "code",
   "execution_count": 12,
   "id": "3ec582b9",
   "metadata": {},
   "outputs": [],
   "source": [
    "''' imp_mean = SimpleImputer(missing_values=np.nan, strategy='mean') : effectuer la moyenne en ignorant les valeur manquante NaN'''\n",
    "imp = SimpleImputer(strategy=\"most_frequent\")"
   ]
  },
  {
   "cell_type": "code",
   "execution_count": 19,
   "id": "263969c2",
   "metadata": {},
   "outputs": [],
   "source": [
    "# créer un dataframe pour chaque marque qui nous intéresse\n",
    "data_honda = df[df.marque=='honda']\n",
    "data_mazda = df[df.marque=='mazda']"
   ]
  },
  {
   "cell_type": "code",
   "execution_count": 21,
   "id": "94ec0cf4",
   "metadata": {},
   "outputs": [],
   "source": [
    "# Correction des valeur manquantes\n",
    "corr_honda = imp.fit_transform(data_honda)[:,3]\n",
    "corr_mazda = imp.fit_transform(data_mazda)[:,3]"
   ]
  },
  {
   "cell_type": "code",
   "execution_count": 26,
   "id": "0aabc525",
   "metadata": {},
   "outputs": [],
   "source": [
    "# Affecter les corrections\n",
    "df.loc[df.marque==\"honda\",\"nbre_marque\"] = corr_honda    # Slacing df.loc[ligne,colonne]\n",
    "df.loc[df.marque==\"mazda\", \"nbre_marque\"] = corr_mazda"
   ]
  },
  {
   "cell_type": "code",
   "execution_count": 27,
   "id": "92a3048d",
   "metadata": {},
   "outputs": [
    {
     "data": {
      "text/plain": [
       "marque          0\n",
       "carburant       2\n",
       "traction        0\n",
       "nbre_porte      0\n",
       "puissance       0\n",
       "prix            0\n",
       "nbre_marque    53\n",
       "dtype: int64"
      ]
     },
     "execution_count": 27,
     "metadata": {},
     "output_type": "execute_result"
    }
   ],
   "source": [
    "df.isnull().sum()"
   ]
  },
  {
   "cell_type": "code",
   "execution_count": 29,
   "id": "98d77ce9",
   "metadata": {},
   "outputs": [
    {
     "data": {
      "text/html": [
       "<div>\n",
       "<style scoped>\n",
       "    .dataframe tbody tr th:only-of-type {\n",
       "        vertical-align: middle;\n",
       "    }\n",
       "\n",
       "    .dataframe tbody tr th {\n",
       "        vertical-align: top;\n",
       "    }\n",
       "\n",
       "    .dataframe thead th {\n",
       "        text-align: right;\n",
       "    }\n",
       "</style>\n",
       "<table border=\"1\" class=\"dataframe\">\n",
       "  <thead>\n",
       "    <tr style=\"text-align: right;\">\n",
       "      <th></th>\n",
       "      <th>marque</th>\n",
       "      <th>carburant</th>\n",
       "      <th>traction</th>\n",
       "      <th>nbre_porte</th>\n",
       "      <th>puissance</th>\n",
       "      <th>prix</th>\n",
       "      <th>nbre_marque</th>\n",
       "    </tr>\n",
       "  </thead>\n",
       "  <tbody>\n",
       "    <tr>\n",
       "      <th>49</th>\n",
       "      <td>renault</td>\n",
       "      <td>NaN</td>\n",
       "      <td>fwd</td>\n",
       "      <td>quatre</td>\n",
       "      <td>69.0</td>\n",
       "      <td>9295.0</td>\n",
       "      <td>NaN</td>\n",
       "    </tr>\n",
       "    <tr>\n",
       "      <th>50</th>\n",
       "      <td>renault</td>\n",
       "      <td>NaN</td>\n",
       "      <td>fwd</td>\n",
       "      <td>deux</td>\n",
       "      <td>79.0</td>\n",
       "      <td>9895.0</td>\n",
       "      <td>NaN</td>\n",
       "    </tr>\n",
       "  </tbody>\n",
       "</table>\n",
       "</div>"
      ],
      "text/plain": [
       "     marque carburant traction nbre_porte  puissance    prix nbre_marque\n",
       "49  renault       NaN      fwd     quatre       69.0  9295.0         NaN\n",
       "50  renault       NaN      fwd       deux       79.0  9895.0         NaN"
      ]
     },
     "execution_count": 29,
     "metadata": {},
     "output_type": "execute_result"
    }
   ],
   "source": [
    "# afficher les valeurs manquantes \"carburant\" dans un dataframe\n",
    "df[df.carburant.isnull()]"
   ]
  },
  {
   "cell_type": "code",
   "execution_count": 30,
   "id": "3ead2a00",
   "metadata": {},
   "outputs": [],
   "source": [
    "# Affecter une valeur de remplacement\n",
    "df.loc[df.marque==\"renault\", \"carburant\"] = \"gaz\" "
   ]
  },
  {
   "cell_type": "code",
   "execution_count": 31,
   "id": "e7fd0068",
   "metadata": {},
   "outputs": [
    {
     "data": {
      "text/plain": [
       "marque          0\n",
       "carburant       0\n",
       "traction        0\n",
       "nbre_porte      0\n",
       "puissance       0\n",
       "prix            0\n",
       "nbre_marque    53\n",
       "dtype: int64"
      ]
     },
     "execution_count": 31,
     "metadata": {},
     "output_type": "execute_result"
    }
   ],
   "source": [
    "# Verification\n",
    "df.isnull().sum()"
   ]
  },
  {
   "cell_type": "code",
   "execution_count": null,
   "id": "24be927e",
   "metadata": {},
   "outputs": [],
   "source": []
  }
 ],
 "metadata": {
  "kernelspec": {
   "display_name": "Python 3 (ipykernel)",
   "language": "python",
   "name": "python3"
  },
  "language_info": {
   "codemirror_mode": {
    "name": "ipython",
    "version": 3
   },
   "file_extension": ".py",
   "mimetype": "text/x-python",
   "name": "python",
   "nbconvert_exporter": "python",
   "pygments_lexer": "ipython3",
   "version": "3.10.9"
  }
 },
 "nbformat": 4,
 "nbformat_minor": 5
}
