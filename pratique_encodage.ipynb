{
 "cells": [
  {
   "cell_type": "markdown",
   "id": "falling-logistics",
   "metadata": {},
   "source": [
    "<a href=\"https://colab.research.google.com/github/pia-fcse-bdeb/Cours-EDUlib/blob/master/module-3/Exercices/pratique_encodage.ipynb\">\n",
    "  <img src=\"https://colab.research.google.com/assets/colab-badge.svg\" alt=\"Open In Colab\"/>\n",
    "</a>"
   ]
  },
  {
   "cell_type": "markdown",
   "id": "equivalent-mother",
   "metadata": {},
   "source": [
    "# Pratique Encodage categoriel"
   ]
  },
  {
   "cell_type": "markdown",
   "id": "refined-appendix",
   "metadata": {},
   "source": [
    "## pratique 1"
   ]
  },
  {
   "cell_type": "markdown",
   "id": "cellular-invalid",
   "metadata": {},
   "source": [
    "On se propose ici de reprendre le dataframe \"appréciation\" que nous avons vu lors de la vidéo. On va l'encoder avec LabelEncoder, ensuite avec la fonction map et un dictionnaire et mettre le tout dans un dataframe final pour comparer."
   ]
  },
  {
   "cell_type": "markdown",
   "id": "incorrect-rates",
   "metadata": {},
   "source": [
    "### Creation du dataframe appréciation"
   ]
  },
  {
   "cell_type": "code",
   "execution_count": 2,
   "id": "other-translator",
   "metadata": {},
   "outputs": [],
   "source": [
    "import pandas as pd"
   ]
  },
  {
   "cell_type": "code",
   "execution_count": 67,
   "id": "suburban-optimization",
   "metadata": {},
   "outputs": [
    {
     "data": {
      "text/html": [
       "<div>\n",
       "<style scoped>\n",
       "    .dataframe tbody tr th:only-of-type {\n",
       "        vertical-align: middle;\n",
       "    }\n",
       "\n",
       "    .dataframe tbody tr th {\n",
       "        vertical-align: top;\n",
       "    }\n",
       "\n",
       "    .dataframe thead th {\n",
       "        text-align: right;\n",
       "    }\n",
       "</style>\n",
       "<table border=\"1\" class=\"dataframe\">\n",
       "  <thead>\n",
       "    <tr style=\"text-align: right;\">\n",
       "      <th></th>\n",
       "      <th>Cible</th>\n",
       "    </tr>\n",
       "  </thead>\n",
       "  <tbody>\n",
       "    <tr>\n",
       "      <th>0</th>\n",
       "      <td>Satisfait</td>\n",
       "    </tr>\n",
       "    <tr>\n",
       "      <th>1</th>\n",
       "      <td>Insatisfait</td>\n",
       "    </tr>\n",
       "    <tr>\n",
       "      <th>2</th>\n",
       "      <td>Neutre</td>\n",
       "    </tr>\n",
       "    <tr>\n",
       "      <th>3</th>\n",
       "      <td>Satisfait</td>\n",
       "    </tr>\n",
       "    <tr>\n",
       "      <th>4</th>\n",
       "      <td>Très Satisfait</td>\n",
       "    </tr>\n",
       "    <tr>\n",
       "      <th>5</th>\n",
       "      <td>Très Insatisfait</td>\n",
       "    </tr>\n",
       "  </tbody>\n",
       "</table>\n",
       "</div>"
      ],
      "text/plain": [
       "              Cible\n",
       "0         Satisfait\n",
       "1       Insatisfait\n",
       "2            Neutre\n",
       "3         Satisfait\n",
       "4    Très Satisfait\n",
       "5  Très Insatisfait"
      ]
     },
     "execution_count": 67,
     "metadata": {},
     "output_type": "execute_result"
    }
   ],
   "source": [
    "# Création du dataframe\n",
    "df = pd.DataFrame({\"Cible\": [\"Satisfait\", \"Insatisfait\", \"Neutre\", \n",
    "                             \"Satisfait\", \"Très Satisfait\", \"Très Insatisfait\"] })\n",
    "# afficher le dataframe\n",
    "df"
   ]
  },
  {
   "cell_type": "markdown",
   "id": "radio-objective",
   "metadata": {},
   "source": [
    "### Encodage avec LabelEncoder"
   ]
  },
  {
   "cell_type": "code",
   "execution_count": 70,
   "id": "composed-portfolio",
   "metadata": {},
   "outputs": [],
   "source": [
    "# Importer LabelEncoder\n",
    "from sklearn.preprocessing import LabelEncoder"
   ]
  },
  {
   "cell_type": "code",
   "execution_count": 71,
   "id": "identical-appointment",
   "metadata": {},
   "outputs": [],
   "source": [
    "# Créer l'objet LabelEncoder\n",
    "le = LabelEncoder()"
   ]
  },
  {
   "cell_type": "code",
   "execution_count": 72,
   "id": "black-permission",
   "metadata": {},
   "outputs": [],
   "source": [
    "# Créer une nouvelle série encodée avec LabelEncoder \n",
    "df[\"Cible_cat_le\"] = le.fit_transform(df[\"Cible\"])"
   ]
  },
  {
   "cell_type": "code",
   "execution_count": 73,
   "id": "classical-proposal",
   "metadata": {},
   "outputs": [
    {
     "data": {
      "text/html": [
       "<div>\n",
       "<style scoped>\n",
       "    .dataframe tbody tr th:only-of-type {\n",
       "        vertical-align: middle;\n",
       "    }\n",
       "\n",
       "    .dataframe tbody tr th {\n",
       "        vertical-align: top;\n",
       "    }\n",
       "\n",
       "    .dataframe thead th {\n",
       "        text-align: right;\n",
       "    }\n",
       "</style>\n",
       "<table border=\"1\" class=\"dataframe\">\n",
       "  <thead>\n",
       "    <tr style=\"text-align: right;\">\n",
       "      <th></th>\n",
       "      <th>Cible</th>\n",
       "      <th>Cible_cat_le</th>\n",
       "    </tr>\n",
       "  </thead>\n",
       "  <tbody>\n",
       "    <tr>\n",
       "      <th>0</th>\n",
       "      <td>Satisfait</td>\n",
       "      <td>2</td>\n",
       "    </tr>\n",
       "    <tr>\n",
       "      <th>1</th>\n",
       "      <td>Insatisfait</td>\n",
       "      <td>0</td>\n",
       "    </tr>\n",
       "    <tr>\n",
       "      <th>2</th>\n",
       "      <td>Neutre</td>\n",
       "      <td>1</td>\n",
       "    </tr>\n",
       "    <tr>\n",
       "      <th>3</th>\n",
       "      <td>Satisfait</td>\n",
       "      <td>2</td>\n",
       "    </tr>\n",
       "    <tr>\n",
       "      <th>4</th>\n",
       "      <td>Très Satisfait</td>\n",
       "      <td>4</td>\n",
       "    </tr>\n",
       "    <tr>\n",
       "      <th>5</th>\n",
       "      <td>Très Insatisfait</td>\n",
       "      <td>3</td>\n",
       "    </tr>\n",
       "  </tbody>\n",
       "</table>\n",
       "</div>"
      ],
      "text/plain": [
       "              Cible  Cible_cat_le\n",
       "0         Satisfait             2\n",
       "1       Insatisfait             0\n",
       "2            Neutre             1\n",
       "3         Satisfait             2\n",
       "4    Très Satisfait             4\n",
       "5  Très Insatisfait             3"
      ]
     },
     "execution_count": 73,
     "metadata": {},
     "output_type": "execute_result"
    }
   ],
   "source": [
    "# Vérification, afficher le dataframe\n",
    "df"
   ]
  },
  {
   "cell_type": "markdown",
   "id": "portuguese-relevance",
   "metadata": {},
   "source": [
    "### Refaire l'encodage avec une fonction map"
   ]
  },
  {
   "cell_type": "markdown",
   "id": "single-vector",
   "metadata": {},
   "source": [
    "* Créer un dictionnaire qui va servir d'encodeur:\n",
    "    * Le dictionnaire prend comme clé la catégorie et retourne la valeur qui est la catégorie encodée"
   ]
  },
  {
   "cell_type": "code",
   "execution_count": 74,
   "id": "demonstrated-vietnam",
   "metadata": {},
   "outputs": [],
   "source": [
    "# Ici vous devez remplir le dictionnaire et choisir la valeur d'encodage pour chaque catégorie\n",
    "dict_enc = { \"Très Insatisfait\": 1,\n",
    "             \"Insatisfait\": 2,\n",
    "             \"Neutre\": 3,\n",
    "             \"Satisfait\":4,\n",
    "             \"Très Satisfait\":5\n",
    "           }"
   ]
  },
  {
   "cell_type": "markdown",
   "id": "informational-dinner",
   "metadata": {},
   "source": [
    "* Créer une nouvelle série **Cible_cat_dict** contenant catégories encodées à l'aide du dictionnaire et la fonction map"
   ]
  },
  {
   "cell_type": "code",
   "execution_count": 75,
   "id": "changing-photography",
   "metadata": {},
   "outputs": [],
   "source": [
    "# Completez la ligne de code pour encoder à l'aide de la fonction map et le dictionnaire\n",
    "df[\"Cible_cat_dict\"] = df[\"Cible\"].map(lambda x: dict_enc[x])"
   ]
  },
  {
   "cell_type": "code",
   "execution_count": 76,
   "id": "respiratory-hygiene",
   "metadata": {},
   "outputs": [
    {
     "data": {
      "text/html": [
       "<div>\n",
       "<style scoped>\n",
       "    .dataframe tbody tr th:only-of-type {\n",
       "        vertical-align: middle;\n",
       "    }\n",
       "\n",
       "    .dataframe tbody tr th {\n",
       "        vertical-align: top;\n",
       "    }\n",
       "\n",
       "    .dataframe thead th {\n",
       "        text-align: right;\n",
       "    }\n",
       "</style>\n",
       "<table border=\"1\" class=\"dataframe\">\n",
       "  <thead>\n",
       "    <tr style=\"text-align: right;\">\n",
       "      <th></th>\n",
       "      <th>Cible</th>\n",
       "      <th>Cible_cat_le</th>\n",
       "      <th>Cible_cat_dict</th>\n",
       "    </tr>\n",
       "  </thead>\n",
       "  <tbody>\n",
       "    <tr>\n",
       "      <th>0</th>\n",
       "      <td>Satisfait</td>\n",
       "      <td>2</td>\n",
       "      <td>4</td>\n",
       "    </tr>\n",
       "    <tr>\n",
       "      <th>1</th>\n",
       "      <td>Insatisfait</td>\n",
       "      <td>0</td>\n",
       "      <td>2</td>\n",
       "    </tr>\n",
       "    <tr>\n",
       "      <th>2</th>\n",
       "      <td>Neutre</td>\n",
       "      <td>1</td>\n",
       "      <td>3</td>\n",
       "    </tr>\n",
       "    <tr>\n",
       "      <th>3</th>\n",
       "      <td>Satisfait</td>\n",
       "      <td>2</td>\n",
       "      <td>4</td>\n",
       "    </tr>\n",
       "    <tr>\n",
       "      <th>4</th>\n",
       "      <td>Très Satisfait</td>\n",
       "      <td>4</td>\n",
       "      <td>5</td>\n",
       "    </tr>\n",
       "    <tr>\n",
       "      <th>5</th>\n",
       "      <td>Très Insatisfait</td>\n",
       "      <td>3</td>\n",
       "      <td>1</td>\n",
       "    </tr>\n",
       "  </tbody>\n",
       "</table>\n",
       "</div>"
      ],
      "text/plain": [
       "              Cible  Cible_cat_le  Cible_cat_dict\n",
       "0         Satisfait             2               4\n",
       "1       Insatisfait             0               2\n",
       "2            Neutre             1               3\n",
       "3         Satisfait             2               4\n",
       "4    Très Satisfait             4               5\n",
       "5  Très Insatisfait             3               1"
      ]
     },
     "execution_count": 76,
     "metadata": {},
     "output_type": "execute_result"
    }
   ],
   "source": [
    "# Afficher le dataframe df\n",
    "df"
   ]
  },
  {
   "cell_type": "markdown",
   "id": "ambient-departure",
   "metadata": {},
   "source": [
    "## pratique 2"
   ]
  },
  {
   "cell_type": "markdown",
   "id": "mediterranean-century",
   "metadata": {},
   "source": [
    "On s'intéresse maintenant un petit dataset portant sur la vente de billets d'avions. Il contient quatre colonnes:\n",
    "Le genre du client, la tranche d’âge, la classe de siège et l'appréciation du client"
   ]
  },
  {
   "cell_type": "markdown",
   "id": "continuing-india",
   "metadata": {},
   "source": [
    "## Lire le fichier de données en utilisant pandas.read_csv"
   ]
  },
  {
   "cell_type": "markdown",
   "id": "artificial-sussex",
   "metadata": {},
   "source": [
    "On vous fournit les lignes de codes qui permettent de charger les données, vous pouvez soit :\n",
    "* Télécharger le fichier de données et procéder à son chargement sur votre machine locale ou bien sur google Colab. Pour cela, il vous faut décommenter la **cellule A** et commenter la **cellule B**.\n",
    "* Charger les données directement depuis google drive sans avoir à télécharger le fichier sur votre machine locale. Pour ce faire, utilisez les lignes de code de la **cellule B**.\n"
   ]
  },
  {
   "cell_type": "markdown",
   "id": "twelve-alexander",
   "metadata": {},
   "source": [
    "### Cellule A"
   ]
  },
  {
   "cell_type": "code",
   "execution_count": null,
   "id": "caring-player",
   "metadata": {},
   "outputs": [],
   "source": [
    "# # importer la librairie pandas\n",
    "# import pandas as pd\n",
    "# # lecture du fichier de données\n",
    "# data = pd.read_csv(\"data_Bavions.csv\")"
   ]
  },
  {
   "cell_type": "markdown",
   "id": "productive-produce",
   "metadata": {},
   "source": [
    "### Cellule B"
   ]
  },
  {
   "cell_type": "code",
   "execution_count": 77,
   "id": "employed-christmas",
   "metadata": {},
   "outputs": [
    {
     "name": "stdout",
     "output_type": "stream",
     "text": [
      "C:\\Users\\HP\\Analyse de donnee pour IA\n",
      "C:\\Users\\HP\\Analyse de donnee pour IA\\fichiers\n"
     ]
    }
   ],
   "source": [
    "%pwd\n",
    "%cd ..\n",
    "%cd fichiers"
   ]
  },
  {
   "cell_type": "code",
   "execution_count": 78,
   "id": "contemporary-newcastle",
   "metadata": {},
   "outputs": [],
   "source": [
    "# charger les données contenues dans un fichiers csv se trouvant sur drive\n",
    "#URL = 'https://drive.google.com/file/d/1S4QYTIksbUBtHflaipui4ZkFuC3zZyOS/view?usp=sharing'\n",
    "#data_Bavions = 'https://drive.google.com/uc?export=download&id='+URL.split('/')[-2]\n",
    "data = pd.read_csv(\"data_Bavions.csv\")"
   ]
  },
  {
   "cell_type": "code",
   "execution_count": 79,
   "id": "committed-circle",
   "metadata": {},
   "outputs": [],
   "source": [
    "# créer une copie pour ne pas toucher au dataframe d'origine \n",
    "df = data.copy()"
   ]
  },
  {
   "cell_type": "code",
   "execution_count": 80,
   "id": "minor-convertible",
   "metadata": {},
   "outputs": [
    {
     "data": {
      "text/html": [
       "<div>\n",
       "<style scoped>\n",
       "    .dataframe tbody tr th:only-of-type {\n",
       "        vertical-align: middle;\n",
       "    }\n",
       "\n",
       "    .dataframe tbody tr th {\n",
       "        vertical-align: top;\n",
       "    }\n",
       "\n",
       "    .dataframe thead th {\n",
       "        text-align: right;\n",
       "    }\n",
       "</style>\n",
       "<table border=\"1\" class=\"dataframe\">\n",
       "  <thead>\n",
       "    <tr style=\"text-align: right;\">\n",
       "      <th></th>\n",
       "      <th>Genre</th>\n",
       "      <th>Age</th>\n",
       "      <th>Classe</th>\n",
       "      <th>Appreciation</th>\n",
       "    </tr>\n",
       "  </thead>\n",
       "  <tbody>\n",
       "    <tr>\n",
       "      <th>0</th>\n",
       "      <td>femelle</td>\n",
       "      <td>20-30</td>\n",
       "      <td>Économique</td>\n",
       "      <td>Satisfait</td>\n",
       "    </tr>\n",
       "    <tr>\n",
       "      <th>1</th>\n",
       "      <td>Mâle</td>\n",
       "      <td>20-30</td>\n",
       "      <td>Affaires</td>\n",
       "      <td>Insatisfait</td>\n",
       "    </tr>\n",
       "    <tr>\n",
       "      <th>2</th>\n",
       "      <td>Mâle</td>\n",
       "      <td>31-40</td>\n",
       "      <td>Économique</td>\n",
       "      <td>Neutre</td>\n",
       "    </tr>\n",
       "    <tr>\n",
       "      <th>3</th>\n",
       "      <td>femelle</td>\n",
       "      <td>41-50</td>\n",
       "      <td>Première</td>\n",
       "      <td>Satisfait</td>\n",
       "    </tr>\n",
       "    <tr>\n",
       "      <th>4</th>\n",
       "      <td>femelle</td>\n",
       "      <td>&lt;20</td>\n",
       "      <td>Économique</td>\n",
       "      <td>Très Satisfait</td>\n",
       "    </tr>\n",
       "    <tr>\n",
       "      <th>5</th>\n",
       "      <td>Mâle</td>\n",
       "      <td>31-40</td>\n",
       "      <td>Économique</td>\n",
       "      <td>Très Insatisfait</td>\n",
       "    </tr>\n",
       "  </tbody>\n",
       "</table>\n",
       "</div>"
      ],
      "text/plain": [
       "     Genre    Age      Classe      Appreciation\n",
       "0  femelle  20-30  Économique         Satisfait\n",
       "1     Mâle  20-30    Affaires       Insatisfait\n",
       "2     Mâle  31-40  Économique            Neutre\n",
       "3  femelle  41-50    Première         Satisfait\n",
       "4  femelle    <20  Économique    Très Satisfait\n",
       "5     Mâle  31-40  Économique  Très Insatisfait"
      ]
     },
     "execution_count": 80,
     "metadata": {},
     "output_type": "execute_result"
    }
   ],
   "source": [
    "# Afficher dataframe\n",
    "df"
   ]
  },
  {
   "cell_type": "markdown",
   "id": "growing-cookbook",
   "metadata": {},
   "source": [
    "* Aide:\n",
    "    * Utiliser ordinalEncoder pour encoder les colonnes Age, Classe et Appreciation\n",
    "    * On va exclure la série **sexe** pour ne pas introduire un ordre entre les genres."
   ]
  },
  {
   "cell_type": "code",
   "execution_count": 81,
   "id": "meaning-peripheral",
   "metadata": {},
   "outputs": [],
   "source": [
    "# on va donc considérer la liste suivante\n",
    "liste_colonnes = [\"Age\", \"Classe\", \"Appreciation\"]"
   ]
  },
  {
   "cell_type": "code",
   "execution_count": 82,
   "id": "healthy-being",
   "metadata": {},
   "outputs": [],
   "source": [
    "# Importer OrdinalEncoder\n",
    "from sklearn.preprocessing import OrdinalEncoder"
   ]
  },
  {
   "cell_type": "code",
   "execution_count": 83,
   "id": "australian-heart",
   "metadata": {},
   "outputs": [],
   "source": [
    "# Utiliser l'option categories pour indiquer au transformateur l'ordre qu'on souhaite respecter\n",
    "# Completez le code\n",
    "oe = OrdinalEncoder(categories=[ [\"<20\", \"20-30\", \"31-40\", \"41-50\"],\n",
    "                                 [\"Économique\", \"Affaires\", \"Première\"],\n",
    "                                 [\"Très Insatisfait\", \"Insatisfait\", \"Neutre\", \"Satisfait\", \"Très Satisfait\"]\n",
    "                               ]\n",
    "                   )"
   ]
  },
  {
   "cell_type": "code",
   "execution_count": 84,
   "id": "generic-joining",
   "metadata": {},
   "outputs": [],
   "source": [
    "# Proceder à l'ajustement et transformation des données en completant le code\n",
    "resultat = oe.fit_transform(df[liste_colonnes])"
   ]
  },
  {
   "cell_type": "code",
   "execution_count": 85,
   "id": "strong-wilson",
   "metadata": {},
   "outputs": [
    {
     "data": {
      "text/plain": [
       "array([[1., 0., 3.],\n",
       "       [1., 1., 1.],\n",
       "       [2., 0., 2.],\n",
       "       [3., 2., 3.],\n",
       "       [0., 0., 4.],\n",
       "       [2., 0., 0.]])"
      ]
     },
     "execution_count": 85,
     "metadata": {},
     "output_type": "execute_result"
    }
   ],
   "source": [
    "# Afficher resultat\n",
    "resultat"
   ]
  },
  {
   "cell_type": "code",
   "execution_count": 89,
   "id": "requested-venue",
   "metadata": {},
   "outputs": [],
   "source": [
    "# mettre le resultat dans un dataframe en completant le code\n",
    "df_enc = pd.DataFrame(resultat, columns =[\"Age_\", \"Classe_\", \"Appreciation_\"] )"
   ]
  },
  {
   "cell_type": "code",
   "execution_count": 90,
   "id": "characteristic-breeding",
   "metadata": {},
   "outputs": [
    {
     "data": {
      "text/html": [
       "<div>\n",
       "<style scoped>\n",
       "    .dataframe tbody tr th:only-of-type {\n",
       "        vertical-align: middle;\n",
       "    }\n",
       "\n",
       "    .dataframe tbody tr th {\n",
       "        vertical-align: top;\n",
       "    }\n",
       "\n",
       "    .dataframe thead th {\n",
       "        text-align: right;\n",
       "    }\n",
       "</style>\n",
       "<table border=\"1\" class=\"dataframe\">\n",
       "  <thead>\n",
       "    <tr style=\"text-align: right;\">\n",
       "      <th></th>\n",
       "      <th>Age_</th>\n",
       "      <th>Classe_</th>\n",
       "      <th>Appreciation_</th>\n",
       "    </tr>\n",
       "  </thead>\n",
       "  <tbody>\n",
       "    <tr>\n",
       "      <th>0</th>\n",
       "      <td>1.0</td>\n",
       "      <td>0.0</td>\n",
       "      <td>3.0</td>\n",
       "    </tr>\n",
       "    <tr>\n",
       "      <th>1</th>\n",
       "      <td>1.0</td>\n",
       "      <td>1.0</td>\n",
       "      <td>1.0</td>\n",
       "    </tr>\n",
       "    <tr>\n",
       "      <th>2</th>\n",
       "      <td>2.0</td>\n",
       "      <td>0.0</td>\n",
       "      <td>2.0</td>\n",
       "    </tr>\n",
       "    <tr>\n",
       "      <th>3</th>\n",
       "      <td>3.0</td>\n",
       "      <td>2.0</td>\n",
       "      <td>3.0</td>\n",
       "    </tr>\n",
       "    <tr>\n",
       "      <th>4</th>\n",
       "      <td>0.0</td>\n",
       "      <td>0.0</td>\n",
       "      <td>4.0</td>\n",
       "    </tr>\n",
       "    <tr>\n",
       "      <th>5</th>\n",
       "      <td>2.0</td>\n",
       "      <td>0.0</td>\n",
       "      <td>0.0</td>\n",
       "    </tr>\n",
       "  </tbody>\n",
       "</table>\n",
       "</div>"
      ],
      "text/plain": [
       "   Age_  Classe_  Appreciation_\n",
       "0   1.0      0.0            3.0\n",
       "1   1.0      1.0            1.0\n",
       "2   2.0      0.0            2.0\n",
       "3   3.0      2.0            3.0\n",
       "4   0.0      0.0            4.0\n",
       "5   2.0      0.0            0.0"
      ]
     },
     "execution_count": 90,
     "metadata": {},
     "output_type": "execute_result"
    }
   ],
   "source": [
    "# Afficher le dataframe df_enc\n",
    "df_enc"
   ]
  },
  {
   "cell_type": "code",
   "execution_count": 91,
   "id": "assumed-local",
   "metadata": {},
   "outputs": [],
   "source": [
    "# Joindre les deux dataframe pour afficher dans un même dataframe les colonnes avant et après encodage, on mettra le tout dans\n",
    "# df_final\n",
    "\n",
    "df_final = df.join(df_enc)"
   ]
  },
  {
   "cell_type": "code",
   "execution_count": 92,
   "id": "efficient-disclaimer",
   "metadata": {},
   "outputs": [
    {
     "data": {
      "text/html": [
       "<div>\n",
       "<style scoped>\n",
       "    .dataframe tbody tr th:only-of-type {\n",
       "        vertical-align: middle;\n",
       "    }\n",
       "\n",
       "    .dataframe tbody tr th {\n",
       "        vertical-align: top;\n",
       "    }\n",
       "\n",
       "    .dataframe thead th {\n",
       "        text-align: right;\n",
       "    }\n",
       "</style>\n",
       "<table border=\"1\" class=\"dataframe\">\n",
       "  <thead>\n",
       "    <tr style=\"text-align: right;\">\n",
       "      <th></th>\n",
       "      <th>Genre</th>\n",
       "      <th>Age</th>\n",
       "      <th>Classe</th>\n",
       "      <th>Appreciation</th>\n",
       "      <th>Age_</th>\n",
       "      <th>Classe_</th>\n",
       "      <th>Appreciation_</th>\n",
       "    </tr>\n",
       "  </thead>\n",
       "  <tbody>\n",
       "    <tr>\n",
       "      <th>0</th>\n",
       "      <td>femelle</td>\n",
       "      <td>20-30</td>\n",
       "      <td>Économique</td>\n",
       "      <td>Satisfait</td>\n",
       "      <td>1.0</td>\n",
       "      <td>0.0</td>\n",
       "      <td>3.0</td>\n",
       "    </tr>\n",
       "    <tr>\n",
       "      <th>1</th>\n",
       "      <td>Mâle</td>\n",
       "      <td>20-30</td>\n",
       "      <td>Affaires</td>\n",
       "      <td>Insatisfait</td>\n",
       "      <td>1.0</td>\n",
       "      <td>1.0</td>\n",
       "      <td>1.0</td>\n",
       "    </tr>\n",
       "    <tr>\n",
       "      <th>2</th>\n",
       "      <td>Mâle</td>\n",
       "      <td>31-40</td>\n",
       "      <td>Économique</td>\n",
       "      <td>Neutre</td>\n",
       "      <td>2.0</td>\n",
       "      <td>0.0</td>\n",
       "      <td>2.0</td>\n",
       "    </tr>\n",
       "    <tr>\n",
       "      <th>3</th>\n",
       "      <td>femelle</td>\n",
       "      <td>41-50</td>\n",
       "      <td>Première</td>\n",
       "      <td>Satisfait</td>\n",
       "      <td>3.0</td>\n",
       "      <td>2.0</td>\n",
       "      <td>3.0</td>\n",
       "    </tr>\n",
       "    <tr>\n",
       "      <th>4</th>\n",
       "      <td>femelle</td>\n",
       "      <td>&lt;20</td>\n",
       "      <td>Économique</td>\n",
       "      <td>Très Satisfait</td>\n",
       "      <td>0.0</td>\n",
       "      <td>0.0</td>\n",
       "      <td>4.0</td>\n",
       "    </tr>\n",
       "    <tr>\n",
       "      <th>5</th>\n",
       "      <td>Mâle</td>\n",
       "      <td>31-40</td>\n",
       "      <td>Économique</td>\n",
       "      <td>Très Insatisfait</td>\n",
       "      <td>2.0</td>\n",
       "      <td>0.0</td>\n",
       "      <td>0.0</td>\n",
       "    </tr>\n",
       "  </tbody>\n",
       "</table>\n",
       "</div>"
      ],
      "text/plain": [
       "     Genre    Age      Classe      Appreciation  Age_  Classe_  Appreciation_\n",
       "0  femelle  20-30  Économique         Satisfait   1.0      0.0            3.0\n",
       "1     Mâle  20-30    Affaires       Insatisfait   1.0      1.0            1.0\n",
       "2     Mâle  31-40  Économique            Neutre   2.0      0.0            2.0\n",
       "3  femelle  41-50    Première         Satisfait   3.0      2.0            3.0\n",
       "4  femelle    <20  Économique    Très Satisfait   0.0      0.0            4.0\n",
       "5     Mâle  31-40  Économique  Très Insatisfait   2.0      0.0            0.0"
      ]
     },
     "execution_count": 92,
     "metadata": {},
     "output_type": "execute_result"
    }
   ],
   "source": [
    "# Afficher le dataframe final\n",
    "df_final"
   ]
  },
  {
   "cell_type": "markdown",
   "id": "meaning-asbestos",
   "metadata": {},
   "source": [
    "### Série Genre"
   ]
  },
  {
   "cell_type": "code",
   "execution_count": 93,
   "id": "ahead-carpet",
   "metadata": {},
   "outputs": [],
   "source": [
    "# Importer OneHotEncoder\n",
    "from sklearn.preprocessing import OneHotEncoder"
   ]
  },
  {
   "cell_type": "code",
   "execution_count": 101,
   "id": "solved-spider",
   "metadata": {},
   "outputs": [],
   "source": [
    "# créer l'objet OneHotEncoder et mettre sparse = False\n",
    "ohe = OneHotEncoder(sparse=False)"
   ]
  },
  {
   "cell_type": "code",
   "execution_count": 102,
   "id": "professional-princeton",
   "metadata": {},
   "outputs": [
    {
     "name": "stderr",
     "output_type": "stream",
     "text": [
      "C:\\Users\\HP\\anaconda3\\lib\\site-packages\\sklearn\\preprocessing\\_encoders.py:828: FutureWarning: `sparse` was renamed to `sparse_output` in version 1.2 and will be removed in 1.4. `sparse_output` is ignored unless you leave `sparse` to its default value.\n",
      "  warnings.warn(\n"
     ]
    }
   ],
   "source": [
    "# Proceder à l'ajustement et transformation des données, on stocke le tout dans resultat\n",
    "resultat = ohe.fit_transform(df_final[[\"Genre\"]])"
   ]
  },
  {
   "cell_type": "code",
   "execution_count": 103,
   "id": "spanish-bloom",
   "metadata": {},
   "outputs": [
    {
     "data": {
      "text/plain": [
       "array([[0., 1.],\n",
       "       [1., 0.],\n",
       "       [1., 0.],\n",
       "       [0., 1.],\n",
       "       [0., 1.],\n",
       "       [1., 0.]])"
      ]
     },
     "execution_count": 103,
     "metadata": {},
     "output_type": "execute_result"
    }
   ],
   "source": [
    "# afficher resultat\n",
    "resultat"
   ]
  },
  {
   "cell_type": "code",
   "execution_count": 107,
   "id": "palestinian-machinery",
   "metadata": {},
   "outputs": [],
   "source": [
    "# Mettre resultat dans un dataframe\n",
    "\n",
    "res = pd.DataFrame(resultat,  columns = ohe.get_feature_names_out(['Genre']))"
   ]
  },
  {
   "cell_type": "code",
   "execution_count": 110,
   "id": "mounted-discovery",
   "metadata": {},
   "outputs": [
    {
     "data": {
      "text/html": [
       "<div>\n",
       "<style scoped>\n",
       "    .dataframe tbody tr th:only-of-type {\n",
       "        vertical-align: middle;\n",
       "    }\n",
       "\n",
       "    .dataframe tbody tr th {\n",
       "        vertical-align: top;\n",
       "    }\n",
       "\n",
       "    .dataframe thead th {\n",
       "        text-align: right;\n",
       "    }\n",
       "</style>\n",
       "<table border=\"1\" class=\"dataframe\">\n",
       "  <thead>\n",
       "    <tr style=\"text-align: right;\">\n",
       "      <th></th>\n",
       "      <th>Genre_Mâle</th>\n",
       "      <th>Genre_femelle</th>\n",
       "    </tr>\n",
       "  </thead>\n",
       "  <tbody>\n",
       "    <tr>\n",
       "      <th>0</th>\n",
       "      <td>0.0</td>\n",
       "      <td>1.0</td>\n",
       "    </tr>\n",
       "    <tr>\n",
       "      <th>1</th>\n",
       "      <td>1.0</td>\n",
       "      <td>0.0</td>\n",
       "    </tr>\n",
       "    <tr>\n",
       "      <th>2</th>\n",
       "      <td>1.0</td>\n",
       "      <td>0.0</td>\n",
       "    </tr>\n",
       "    <tr>\n",
       "      <th>3</th>\n",
       "      <td>0.0</td>\n",
       "      <td>1.0</td>\n",
       "    </tr>\n",
       "    <tr>\n",
       "      <th>4</th>\n",
       "      <td>0.0</td>\n",
       "      <td>1.0</td>\n",
       "    </tr>\n",
       "    <tr>\n",
       "      <th>5</th>\n",
       "      <td>1.0</td>\n",
       "      <td>0.0</td>\n",
       "    </tr>\n",
       "  </tbody>\n",
       "</table>\n",
       "</div>"
      ],
      "text/plain": [
       "   Genre_Mâle  Genre_femelle\n",
       "0         0.0            1.0\n",
       "1         1.0            0.0\n",
       "2         1.0            0.0\n",
       "3         0.0            1.0\n",
       "4         0.0            1.0\n",
       "5         1.0            0.0"
      ]
     },
     "execution_count": 110,
     "metadata": {},
     "output_type": "execute_result"
    }
   ],
   "source": [
    "# Afficher le dataframe res\n",
    "res"
   ]
  },
  {
   "cell_type": "code",
   "execution_count": 111,
   "id": "actual-warning",
   "metadata": {},
   "outputs": [],
   "source": [
    "# Joindre les deux dataframe pour afficher dans un même dataframe les colonnes avant et après encodage\n",
    "df_final2 = df_final.join(res)"
   ]
  },
  {
   "cell_type": "code",
   "execution_count": 112,
   "id": "later-field",
   "metadata": {},
   "outputs": [
    {
     "data": {
      "text/html": [
       "<div>\n",
       "<style scoped>\n",
       "    .dataframe tbody tr th:only-of-type {\n",
       "        vertical-align: middle;\n",
       "    }\n",
       "\n",
       "    .dataframe tbody tr th {\n",
       "        vertical-align: top;\n",
       "    }\n",
       "\n",
       "    .dataframe thead th {\n",
       "        text-align: right;\n",
       "    }\n",
       "</style>\n",
       "<table border=\"1\" class=\"dataframe\">\n",
       "  <thead>\n",
       "    <tr style=\"text-align: right;\">\n",
       "      <th></th>\n",
       "      <th>Genre</th>\n",
       "      <th>Age</th>\n",
       "      <th>Classe</th>\n",
       "      <th>Appreciation</th>\n",
       "      <th>Age_</th>\n",
       "      <th>Classe_</th>\n",
       "      <th>Appreciation_</th>\n",
       "      <th>Genre_Mâle</th>\n",
       "      <th>Genre_femelle</th>\n",
       "    </tr>\n",
       "  </thead>\n",
       "  <tbody>\n",
       "    <tr>\n",
       "      <th>0</th>\n",
       "      <td>femelle</td>\n",
       "      <td>20-30</td>\n",
       "      <td>Économique</td>\n",
       "      <td>Satisfait</td>\n",
       "      <td>1.0</td>\n",
       "      <td>0.0</td>\n",
       "      <td>3.0</td>\n",
       "      <td>0.0</td>\n",
       "      <td>1.0</td>\n",
       "    </tr>\n",
       "    <tr>\n",
       "      <th>1</th>\n",
       "      <td>Mâle</td>\n",
       "      <td>20-30</td>\n",
       "      <td>Affaires</td>\n",
       "      <td>Insatisfait</td>\n",
       "      <td>1.0</td>\n",
       "      <td>1.0</td>\n",
       "      <td>1.0</td>\n",
       "      <td>1.0</td>\n",
       "      <td>0.0</td>\n",
       "    </tr>\n",
       "    <tr>\n",
       "      <th>2</th>\n",
       "      <td>Mâle</td>\n",
       "      <td>31-40</td>\n",
       "      <td>Économique</td>\n",
       "      <td>Neutre</td>\n",
       "      <td>2.0</td>\n",
       "      <td>0.0</td>\n",
       "      <td>2.0</td>\n",
       "      <td>1.0</td>\n",
       "      <td>0.0</td>\n",
       "    </tr>\n",
       "    <tr>\n",
       "      <th>3</th>\n",
       "      <td>femelle</td>\n",
       "      <td>41-50</td>\n",
       "      <td>Première</td>\n",
       "      <td>Satisfait</td>\n",
       "      <td>3.0</td>\n",
       "      <td>2.0</td>\n",
       "      <td>3.0</td>\n",
       "      <td>0.0</td>\n",
       "      <td>1.0</td>\n",
       "    </tr>\n",
       "    <tr>\n",
       "      <th>4</th>\n",
       "      <td>femelle</td>\n",
       "      <td>&lt;20</td>\n",
       "      <td>Économique</td>\n",
       "      <td>Très Satisfait</td>\n",
       "      <td>0.0</td>\n",
       "      <td>0.0</td>\n",
       "      <td>4.0</td>\n",
       "      <td>0.0</td>\n",
       "      <td>1.0</td>\n",
       "    </tr>\n",
       "    <tr>\n",
       "      <th>5</th>\n",
       "      <td>Mâle</td>\n",
       "      <td>31-40</td>\n",
       "      <td>Économique</td>\n",
       "      <td>Très Insatisfait</td>\n",
       "      <td>2.0</td>\n",
       "      <td>0.0</td>\n",
       "      <td>0.0</td>\n",
       "      <td>1.0</td>\n",
       "      <td>0.0</td>\n",
       "    </tr>\n",
       "  </tbody>\n",
       "</table>\n",
       "</div>"
      ],
      "text/plain": [
       "     Genre    Age      Classe      Appreciation  Age_  Classe_  Appreciation_  \\\n",
       "0  femelle  20-30  Économique         Satisfait   1.0      0.0            3.0   \n",
       "1     Mâle  20-30    Affaires       Insatisfait   1.0      1.0            1.0   \n",
       "2     Mâle  31-40  Économique            Neutre   2.0      0.0            2.0   \n",
       "3  femelle  41-50    Première         Satisfait   3.0      2.0            3.0   \n",
       "4  femelle    <20  Économique    Très Satisfait   0.0      0.0            4.0   \n",
       "5     Mâle  31-40  Économique  Très Insatisfait   2.0      0.0            0.0   \n",
       "\n",
       "   Genre_Mâle  Genre_femelle  \n",
       "0         0.0            1.0  \n",
       "1         1.0            0.0  \n",
       "2         1.0            0.0  \n",
       "3         0.0            1.0  \n",
       "4         0.0            1.0  \n",
       "5         1.0            0.0  "
      ]
     },
     "execution_count": 112,
     "metadata": {},
     "output_type": "execute_result"
    }
   ],
   "source": [
    "#Afficher df_final2\n",
    "df_final2"
   ]
  },
  {
   "cell_type": "code",
   "execution_count": null,
   "id": "certified-martin",
   "metadata": {},
   "outputs": [],
   "source": []
  },
  {
   "cell_type": "code",
   "execution_count": null,
   "id": "entitled-shell",
   "metadata": {},
   "outputs": [],
   "source": []
  },
  {
   "cell_type": "code",
   "execution_count": null,
   "id": "special-ability",
   "metadata": {},
   "outputs": [],
   "source": []
  },
  {
   "cell_type": "code",
   "execution_count": null,
   "id": "minimal-tracy",
   "metadata": {},
   "outputs": [],
   "source": []
  },
  {
   "cell_type": "code",
   "execution_count": null,
   "id": "raising-edmonton",
   "metadata": {},
   "outputs": [],
   "source": []
  },
  {
   "cell_type": "code",
   "execution_count": null,
   "id": "tutorial-controversy",
   "metadata": {},
   "outputs": [],
   "source": []
  },
  {
   "cell_type": "code",
   "execution_count": null,
   "id": "forty-seating",
   "metadata": {},
   "outputs": [],
   "source": []
  },
  {
   "cell_type": "code",
   "execution_count": null,
   "id": "concerned-floor",
   "metadata": {},
   "outputs": [],
   "source": []
  },
  {
   "cell_type": "markdown",
   "id": "combined-effect",
   "metadata": {},
   "source": [
    "# Solutionnaire"
   ]
  },
  {
   "cell_type": "markdown",
   "id": "ordered-caribbean",
   "metadata": {},
   "source": [
    "## pratique 1: "
   ]
  },
  {
   "cell_type": "markdown",
   "id": "experienced-condition",
   "metadata": {},
   "source": [
    "On se propose ici de reprendre le dataframe \"appréciation\" que nous avons vu lors de la vidéo. On va l'encoder avec LabelEncoder, ensuite avec la fonction map et un dictionnaire et mettre le tout dans un dataframe final pour comparer."
   ]
  },
  {
   "cell_type": "markdown",
   "id": "minute-suspension",
   "metadata": {},
   "source": [
    "### Creation du dataframe appréciation"
   ]
  },
  {
   "cell_type": "code",
   "execution_count": 7,
   "id": "assured-brand",
   "metadata": {},
   "outputs": [],
   "source": [
    "import pandas as pd"
   ]
  },
  {
   "cell_type": "code",
   "execution_count": 8,
   "id": "boolean-jefferson",
   "metadata": {},
   "outputs": [
    {
     "data": {
      "text/html": [
       "<div>\n",
       "<style scoped>\n",
       "    .dataframe tbody tr th:only-of-type {\n",
       "        vertical-align: middle;\n",
       "    }\n",
       "\n",
       "    .dataframe tbody tr th {\n",
       "        vertical-align: top;\n",
       "    }\n",
       "\n",
       "    .dataframe thead th {\n",
       "        text-align: right;\n",
       "    }\n",
       "</style>\n",
       "<table border=\"1\" class=\"dataframe\">\n",
       "  <thead>\n",
       "    <tr style=\"text-align: right;\">\n",
       "      <th></th>\n",
       "      <th>Cible</th>\n",
       "    </tr>\n",
       "  </thead>\n",
       "  <tbody>\n",
       "    <tr>\n",
       "      <th>0</th>\n",
       "      <td>Satisfait</td>\n",
       "    </tr>\n",
       "    <tr>\n",
       "      <th>1</th>\n",
       "      <td>Insatisfait</td>\n",
       "    </tr>\n",
       "    <tr>\n",
       "      <th>2</th>\n",
       "      <td>Neutre</td>\n",
       "    </tr>\n",
       "    <tr>\n",
       "      <th>3</th>\n",
       "      <td>Satisfait</td>\n",
       "    </tr>\n",
       "    <tr>\n",
       "      <th>4</th>\n",
       "      <td>Très Satisfait</td>\n",
       "    </tr>\n",
       "    <tr>\n",
       "      <th>5</th>\n",
       "      <td>Très Insatisfait</td>\n",
       "    </tr>\n",
       "  </tbody>\n",
       "</table>\n",
       "</div>"
      ],
      "text/plain": [
       "              Cible\n",
       "0         Satisfait\n",
       "1       Insatisfait\n",
       "2            Neutre\n",
       "3         Satisfait\n",
       "4    Très Satisfait\n",
       "5  Très Insatisfait"
      ]
     },
     "execution_count": 8,
     "metadata": {},
     "output_type": "execute_result"
    }
   ],
   "source": [
    "# Création du dataframe\n",
    "df = pd.DataFrame({\"Cible\": [\"Satisfait\", \"Insatisfait\", \"Neutre\", \n",
    "                               \"Satisfait\", \"Très Satisfait\", \"Très Insatisfait\"] })\n",
    "# afficher le dataframe\n",
    "df"
   ]
  },
  {
   "cell_type": "markdown",
   "id": "studied-bobby",
   "metadata": {},
   "source": [
    "### Encodage avec LabelEncoder"
   ]
  },
  {
   "cell_type": "code",
   "execution_count": 9,
   "id": "bronze-swaziland",
   "metadata": {},
   "outputs": [],
   "source": [
    "# Importer LabelEncoder\n",
    "from sklearn.preprocessing import LabelEncoder"
   ]
  },
  {
   "cell_type": "code",
   "execution_count": 10,
   "id": "pregnant-length",
   "metadata": {},
   "outputs": [],
   "source": [
    "# Créer l'objet LabelEncoder\n",
    "le = LabelEncoder()"
   ]
  },
  {
   "cell_type": "code",
   "execution_count": 11,
   "id": "lightweight-columbus",
   "metadata": {},
   "outputs": [],
   "source": [
    "# Créer une nouvelle série encodée avec LabelEncoder \n",
    "df[\"Cible_cat_le\"] = le.fit_transform(df[\"Cible\"])"
   ]
  },
  {
   "cell_type": "code",
   "execution_count": 12,
   "id": "latin-cassette",
   "metadata": {},
   "outputs": [
    {
     "data": {
      "text/html": [
       "<div>\n",
       "<style scoped>\n",
       "    .dataframe tbody tr th:only-of-type {\n",
       "        vertical-align: middle;\n",
       "    }\n",
       "\n",
       "    .dataframe tbody tr th {\n",
       "        vertical-align: top;\n",
       "    }\n",
       "\n",
       "    .dataframe thead th {\n",
       "        text-align: right;\n",
       "    }\n",
       "</style>\n",
       "<table border=\"1\" class=\"dataframe\">\n",
       "  <thead>\n",
       "    <tr style=\"text-align: right;\">\n",
       "      <th></th>\n",
       "      <th>Cible</th>\n",
       "      <th>Cible_cat_le</th>\n",
       "    </tr>\n",
       "  </thead>\n",
       "  <tbody>\n",
       "    <tr>\n",
       "      <th>0</th>\n",
       "      <td>Satisfait</td>\n",
       "      <td>2</td>\n",
       "    </tr>\n",
       "    <tr>\n",
       "      <th>1</th>\n",
       "      <td>Insatisfait</td>\n",
       "      <td>0</td>\n",
       "    </tr>\n",
       "    <tr>\n",
       "      <th>2</th>\n",
       "      <td>Neutre</td>\n",
       "      <td>1</td>\n",
       "    </tr>\n",
       "    <tr>\n",
       "      <th>3</th>\n",
       "      <td>Satisfait</td>\n",
       "      <td>2</td>\n",
       "    </tr>\n",
       "    <tr>\n",
       "      <th>4</th>\n",
       "      <td>Très Satisfait</td>\n",
       "      <td>4</td>\n",
       "    </tr>\n",
       "    <tr>\n",
       "      <th>5</th>\n",
       "      <td>Très Insatisfait</td>\n",
       "      <td>3</td>\n",
       "    </tr>\n",
       "  </tbody>\n",
       "</table>\n",
       "</div>"
      ],
      "text/plain": [
       "              Cible  Cible_cat_le\n",
       "0         Satisfait             2\n",
       "1       Insatisfait             0\n",
       "2            Neutre             1\n",
       "3         Satisfait             2\n",
       "4    Très Satisfait             4\n",
       "5  Très Insatisfait             3"
      ]
     },
     "execution_count": 12,
     "metadata": {},
     "output_type": "execute_result"
    }
   ],
   "source": [
    "# Vérification\n",
    "df"
   ]
  },
  {
   "cell_type": "markdown",
   "id": "experimental-teddy",
   "metadata": {},
   "source": [
    "### Refaire l'encodage avec une fonction map"
   ]
  },
  {
   "cell_type": "markdown",
   "id": "american-february",
   "metadata": {},
   "source": [
    "* Créer un dictionnaire qui va servir d'encodeur:\n",
    "    * Le dictionnaire prend comme clé la catégorie et retourne la valeur qui est la catégorie encodée"
   ]
  },
  {
   "cell_type": "code",
   "execution_count": 13,
   "id": "executive-spending",
   "metadata": {},
   "outputs": [],
   "source": [
    "# Ici vous devez remplir le dictionnaire\n",
    "dict_enc = {\"Très Insatisfait\":1,\n",
    "            \"Insatisfait\":2,\n",
    "            \"Neutre\":3,\n",
    "            \"Satisfait\":4,\n",
    "            \"Très Satisfait\":5}"
   ]
  },
  {
   "cell_type": "markdown",
   "id": "informed-politics",
   "metadata": {},
   "source": [
    "* Créer une nouvelle série **Cible_cat_dict** contenant catégories encodées à l'aide du dictionnaire et la fonction map"
   ]
  },
  {
   "cell_type": "code",
   "execution_count": 14,
   "id": "concerned-initial",
   "metadata": {},
   "outputs": [],
   "source": [
    "# Completez la ligne de code\n",
    "df[\"Cible_cat_dict\"] = df[\"Cible\"].map(lambda categorie: dict_enc[categorie])"
   ]
  },
  {
   "cell_type": "code",
   "execution_count": 15,
   "id": "intellectual-campaign",
   "metadata": {},
   "outputs": [
    {
     "data": {
      "text/html": [
       "<div>\n",
       "<style scoped>\n",
       "    .dataframe tbody tr th:only-of-type {\n",
       "        vertical-align: middle;\n",
       "    }\n",
       "\n",
       "    .dataframe tbody tr th {\n",
       "        vertical-align: top;\n",
       "    }\n",
       "\n",
       "    .dataframe thead th {\n",
       "        text-align: right;\n",
       "    }\n",
       "</style>\n",
       "<table border=\"1\" class=\"dataframe\">\n",
       "  <thead>\n",
       "    <tr style=\"text-align: right;\">\n",
       "      <th></th>\n",
       "      <th>Cible</th>\n",
       "      <th>Cible_cat_le</th>\n",
       "      <th>Cible_cat_dict</th>\n",
       "    </tr>\n",
       "  </thead>\n",
       "  <tbody>\n",
       "    <tr>\n",
       "      <th>0</th>\n",
       "      <td>Satisfait</td>\n",
       "      <td>2</td>\n",
       "      <td>4</td>\n",
       "    </tr>\n",
       "    <tr>\n",
       "      <th>1</th>\n",
       "      <td>Insatisfait</td>\n",
       "      <td>0</td>\n",
       "      <td>2</td>\n",
       "    </tr>\n",
       "    <tr>\n",
       "      <th>2</th>\n",
       "      <td>Neutre</td>\n",
       "      <td>1</td>\n",
       "      <td>3</td>\n",
       "    </tr>\n",
       "    <tr>\n",
       "      <th>3</th>\n",
       "      <td>Satisfait</td>\n",
       "      <td>2</td>\n",
       "      <td>4</td>\n",
       "    </tr>\n",
       "    <tr>\n",
       "      <th>4</th>\n",
       "      <td>Très Satisfait</td>\n",
       "      <td>4</td>\n",
       "      <td>5</td>\n",
       "    </tr>\n",
       "    <tr>\n",
       "      <th>5</th>\n",
       "      <td>Très Insatisfait</td>\n",
       "      <td>3</td>\n",
       "      <td>1</td>\n",
       "    </tr>\n",
       "  </tbody>\n",
       "</table>\n",
       "</div>"
      ],
      "text/plain": [
       "              Cible  Cible_cat_le  Cible_cat_dict\n",
       "0         Satisfait             2               4\n",
       "1       Insatisfait             0               2\n",
       "2            Neutre             1               3\n",
       "3         Satisfait             2               4\n",
       "4    Très Satisfait             4               5\n",
       "5  Très Insatisfait             3               1"
      ]
     },
     "execution_count": 15,
     "metadata": {},
     "output_type": "execute_result"
    }
   ],
   "source": [
    "# Afficher le dataframe\n",
    "df"
   ]
  },
  {
   "cell_type": "markdown",
   "id": "applied-graham",
   "metadata": {},
   "source": [
    "## Pratique 2"
   ]
  },
  {
   "cell_type": "markdown",
   "id": "convertible-seeking",
   "metadata": {},
   "source": [
    "On s'interesse maintenant un peutit dataset portant sur la vente de billets d'avions. Il contient quatre colonnes:\n",
    "Le genre du client, la tranche d'age, la classe de siège et l'appréciation du client"
   ]
  },
  {
   "cell_type": "code",
   "execution_count": 16,
   "id": "collectible-finder",
   "metadata": {},
   "outputs": [],
   "source": [
    "import pandas as pd"
   ]
  },
  {
   "cell_type": "code",
   "execution_count": 17,
   "id": "assumed-election",
   "metadata": {},
   "outputs": [
    {
     "data": {
      "text/html": [
       "<div>\n",
       "<style scoped>\n",
       "    .dataframe tbody tr th:only-of-type {\n",
       "        vertical-align: middle;\n",
       "    }\n",
       "\n",
       "    .dataframe tbody tr th {\n",
       "        vertical-align: top;\n",
       "    }\n",
       "\n",
       "    .dataframe thead th {\n",
       "        text-align: right;\n",
       "    }\n",
       "</style>\n",
       "<table border=\"1\" class=\"dataframe\">\n",
       "  <thead>\n",
       "    <tr style=\"text-align: right;\">\n",
       "      <th></th>\n",
       "      <th>Genre</th>\n",
       "      <th>Age</th>\n",
       "      <th>Classe</th>\n",
       "      <th>Appreciation</th>\n",
       "    </tr>\n",
       "  </thead>\n",
       "  <tbody>\n",
       "    <tr>\n",
       "      <th>0</th>\n",
       "      <td>femelle</td>\n",
       "      <td>20-30</td>\n",
       "      <td>Économique</td>\n",
       "      <td>Satisfait</td>\n",
       "    </tr>\n",
       "    <tr>\n",
       "      <th>1</th>\n",
       "      <td>Mâle</td>\n",
       "      <td>20-30</td>\n",
       "      <td>Affaires</td>\n",
       "      <td>Insatisfait</td>\n",
       "    </tr>\n",
       "    <tr>\n",
       "      <th>2</th>\n",
       "      <td>Mâle</td>\n",
       "      <td>31-40</td>\n",
       "      <td>Économique</td>\n",
       "      <td>Neutre</td>\n",
       "    </tr>\n",
       "    <tr>\n",
       "      <th>3</th>\n",
       "      <td>femelle</td>\n",
       "      <td>41-50</td>\n",
       "      <td>Première</td>\n",
       "      <td>Satisfait</td>\n",
       "    </tr>\n",
       "    <tr>\n",
       "      <th>4</th>\n",
       "      <td>femelle</td>\n",
       "      <td>&lt;20</td>\n",
       "      <td>Économique</td>\n",
       "      <td>Très Satisfait</td>\n",
       "    </tr>\n",
       "    <tr>\n",
       "      <th>5</th>\n",
       "      <td>Mâle</td>\n",
       "      <td>31-40</td>\n",
       "      <td>Économique</td>\n",
       "      <td>Très Insatisfait</td>\n",
       "    </tr>\n",
       "  </tbody>\n",
       "</table>\n",
       "</div>"
      ],
      "text/plain": [
       "     Genre    Age      Classe      Appreciation\n",
       "0  femelle  20-30  Économique         Satisfait\n",
       "1     Mâle  20-30    Affaires       Insatisfait\n",
       "2     Mâle  31-40  Économique            Neutre\n",
       "3  femelle  41-50    Première         Satisfait\n",
       "4  femelle    <20  Économique    Très Satisfait\n",
       "5     Mâle  31-40  Économique  Très Insatisfait"
      ]
     },
     "execution_count": 17,
     "metadata": {},
     "output_type": "execute_result"
    }
   ],
   "source": [
    "# charger les données contenues dans un fichiers csv se trouvant sur drive\n",
    "URL = 'https://drive.google.com/file/d/1S4QYTIksbUBtHflaipui4ZkFuC3zZyOS/view?usp=sharing'\n",
    "data_Bavions = 'https://drive.google.com/uc?export=download&id='+URL.split('/')[-2]\n",
    "\n",
    "# lire le dataset\n",
    "df = pd.read_csv(data_Bavions)\n",
    "# afficher le dataset\n",
    "df"
   ]
  },
  {
   "cell_type": "markdown",
   "id": "centered-excerpt",
   "metadata": {},
   "source": [
    "* Aide:\n",
    "    * Utiliser ordinalEncoder pour encoder les colonnes Age, Classe et Appreciation\n",
    "    * On va exclure la série **sexe** pour ne pas introduire un ordre entre les genres."
   ]
  },
  {
   "cell_type": "code",
   "execution_count": 18,
   "id": "certified-coating",
   "metadata": {},
   "outputs": [],
   "source": [
    "# on va donc considérer la liste suivante\n",
    "liste_colonnes = [\"Age\", \"Classe\", \"Appreciation\"]"
   ]
  },
  {
   "cell_type": "code",
   "execution_count": 19,
   "id": "excessive-elephant",
   "metadata": {},
   "outputs": [],
   "source": [
    "# Importer OrdinalEncoder\n",
    "from sklearn.preprocessing import OrdinalEncoder"
   ]
  },
  {
   "cell_type": "code",
   "execution_count": 20,
   "id": "manual-soccer",
   "metadata": {},
   "outputs": [],
   "source": [
    "# Utiliser l'option categories pour indiquer au transformeur l'ordre qu'on souhaite respecter\n",
    "# Completez le code\n",
    "oe = OrdinalEncoder(categories=[ [\"<20\", \"20-30\", \"31-40\", \"41-50\"],\n",
    "                                 [\"Économique\", \"Affaires\", \"Première\"],\n",
    "                                 [\"Très Insatisfait\", \"Insatisfait\", \"Neutre\", \"Satisfait\", \"Très Satisfait\"]\n",
    "                               ]\n",
    "                   )"
   ]
  },
  {
   "cell_type": "code",
   "execution_count": 21,
   "id": "congressional-louisiana",
   "metadata": {},
   "outputs": [],
   "source": [
    "# Proceder à l'ajustement et transformation des données en completant le code\n",
    "resultat = oe.fit_transform(df[liste_colonnes])"
   ]
  },
  {
   "cell_type": "code",
   "execution_count": 22,
   "id": "arctic-sculpture",
   "metadata": {},
   "outputs": [
    {
     "data": {
      "text/plain": [
       "array([[1., 0., 3.],\n",
       "       [1., 1., 1.],\n",
       "       [2., 0., 2.],\n",
       "       [3., 2., 3.],\n",
       "       [0., 0., 4.],\n",
       "       [2., 0., 0.]])"
      ]
     },
     "execution_count": 22,
     "metadata": {},
     "output_type": "execute_result"
    }
   ],
   "source": [
    "# Afficher resultat\n",
    "resultat"
   ]
  },
  {
   "cell_type": "code",
   "execution_count": 23,
   "id": "interstate-branch",
   "metadata": {},
   "outputs": [],
   "source": [
    "# mettre le resultat dans un dataframe en completant le code\n",
    "df_enc = pd.DataFrame(resultat, columns = [\"Age_bins_oe\", \"Classe_eo\", \"Appreciation_eo\"])"
   ]
  },
  {
   "cell_type": "code",
   "execution_count": 24,
   "id": "functional-mileage",
   "metadata": {},
   "outputs": [
    {
     "data": {
      "text/html": [
       "<div>\n",
       "<style scoped>\n",
       "    .dataframe tbody tr th:only-of-type {\n",
       "        vertical-align: middle;\n",
       "    }\n",
       "\n",
       "    .dataframe tbody tr th {\n",
       "        vertical-align: top;\n",
       "    }\n",
       "\n",
       "    .dataframe thead th {\n",
       "        text-align: right;\n",
       "    }\n",
       "</style>\n",
       "<table border=\"1\" class=\"dataframe\">\n",
       "  <thead>\n",
       "    <tr style=\"text-align: right;\">\n",
       "      <th></th>\n",
       "      <th>Age_bins_oe</th>\n",
       "      <th>Classe_eo</th>\n",
       "      <th>Appreciation_eo</th>\n",
       "    </tr>\n",
       "  </thead>\n",
       "  <tbody>\n",
       "    <tr>\n",
       "      <th>0</th>\n",
       "      <td>1.0</td>\n",
       "      <td>0.0</td>\n",
       "      <td>3.0</td>\n",
       "    </tr>\n",
       "    <tr>\n",
       "      <th>1</th>\n",
       "      <td>1.0</td>\n",
       "      <td>1.0</td>\n",
       "      <td>1.0</td>\n",
       "    </tr>\n",
       "    <tr>\n",
       "      <th>2</th>\n",
       "      <td>2.0</td>\n",
       "      <td>0.0</td>\n",
       "      <td>2.0</td>\n",
       "    </tr>\n",
       "    <tr>\n",
       "      <th>3</th>\n",
       "      <td>3.0</td>\n",
       "      <td>2.0</td>\n",
       "      <td>3.0</td>\n",
       "    </tr>\n",
       "    <tr>\n",
       "      <th>4</th>\n",
       "      <td>0.0</td>\n",
       "      <td>0.0</td>\n",
       "      <td>4.0</td>\n",
       "    </tr>\n",
       "    <tr>\n",
       "      <th>5</th>\n",
       "      <td>2.0</td>\n",
       "      <td>0.0</td>\n",
       "      <td>0.0</td>\n",
       "    </tr>\n",
       "  </tbody>\n",
       "</table>\n",
       "</div>"
      ],
      "text/plain": [
       "   Age_bins_oe  Classe_eo  Appreciation_eo\n",
       "0          1.0        0.0              3.0\n",
       "1          1.0        1.0              1.0\n",
       "2          2.0        0.0              2.0\n",
       "3          3.0        2.0              3.0\n",
       "4          0.0        0.0              4.0\n",
       "5          2.0        0.0              0.0"
      ]
     },
     "execution_count": 24,
     "metadata": {},
     "output_type": "execute_result"
    }
   ],
   "source": [
    "# Afficher le dataframe df_enc\n",
    "df_enc"
   ]
  },
  {
   "cell_type": "code",
   "execution_count": 25,
   "id": "secret-audience",
   "metadata": {},
   "outputs": [],
   "source": [
    "# Joindre les deux dataframe pour afficher dans un même dataframe les colonnes avant et après encodage, on mettra le tout dans\n",
    "# df_final\n",
    "df_final = df.join(df_enc)"
   ]
  },
  {
   "cell_type": "code",
   "execution_count": 26,
   "id": "handled-retention",
   "metadata": {},
   "outputs": [
    {
     "data": {
      "text/html": [
       "<div>\n",
       "<style scoped>\n",
       "    .dataframe tbody tr th:only-of-type {\n",
       "        vertical-align: middle;\n",
       "    }\n",
       "\n",
       "    .dataframe tbody tr th {\n",
       "        vertical-align: top;\n",
       "    }\n",
       "\n",
       "    .dataframe thead th {\n",
       "        text-align: right;\n",
       "    }\n",
       "</style>\n",
       "<table border=\"1\" class=\"dataframe\">\n",
       "  <thead>\n",
       "    <tr style=\"text-align: right;\">\n",
       "      <th></th>\n",
       "      <th>Genre</th>\n",
       "      <th>Age</th>\n",
       "      <th>Classe</th>\n",
       "      <th>Appreciation</th>\n",
       "      <th>Age_bins_oe</th>\n",
       "      <th>Classe_eo</th>\n",
       "      <th>Appreciation_eo</th>\n",
       "    </tr>\n",
       "  </thead>\n",
       "  <tbody>\n",
       "    <tr>\n",
       "      <th>0</th>\n",
       "      <td>femelle</td>\n",
       "      <td>20-30</td>\n",
       "      <td>Économique</td>\n",
       "      <td>Satisfait</td>\n",
       "      <td>1.0</td>\n",
       "      <td>0.0</td>\n",
       "      <td>3.0</td>\n",
       "    </tr>\n",
       "    <tr>\n",
       "      <th>1</th>\n",
       "      <td>Mâle</td>\n",
       "      <td>20-30</td>\n",
       "      <td>Affaires</td>\n",
       "      <td>Insatisfait</td>\n",
       "      <td>1.0</td>\n",
       "      <td>1.0</td>\n",
       "      <td>1.0</td>\n",
       "    </tr>\n",
       "    <tr>\n",
       "      <th>2</th>\n",
       "      <td>Mâle</td>\n",
       "      <td>31-40</td>\n",
       "      <td>Économique</td>\n",
       "      <td>Neutre</td>\n",
       "      <td>2.0</td>\n",
       "      <td>0.0</td>\n",
       "      <td>2.0</td>\n",
       "    </tr>\n",
       "    <tr>\n",
       "      <th>3</th>\n",
       "      <td>femelle</td>\n",
       "      <td>41-50</td>\n",
       "      <td>Première</td>\n",
       "      <td>Satisfait</td>\n",
       "      <td>3.0</td>\n",
       "      <td>2.0</td>\n",
       "      <td>3.0</td>\n",
       "    </tr>\n",
       "    <tr>\n",
       "      <th>4</th>\n",
       "      <td>femelle</td>\n",
       "      <td>&lt;20</td>\n",
       "      <td>Économique</td>\n",
       "      <td>Très Satisfait</td>\n",
       "      <td>0.0</td>\n",
       "      <td>0.0</td>\n",
       "      <td>4.0</td>\n",
       "    </tr>\n",
       "    <tr>\n",
       "      <th>5</th>\n",
       "      <td>Mâle</td>\n",
       "      <td>31-40</td>\n",
       "      <td>Économique</td>\n",
       "      <td>Très Insatisfait</td>\n",
       "      <td>2.0</td>\n",
       "      <td>0.0</td>\n",
       "      <td>0.0</td>\n",
       "    </tr>\n",
       "  </tbody>\n",
       "</table>\n",
       "</div>"
      ],
      "text/plain": [
       "     Genre    Age      Classe      Appreciation  Age_bins_oe  Classe_eo  \\\n",
       "0  femelle  20-30  Économique         Satisfait          1.0        0.0   \n",
       "1     Mâle  20-30    Affaires       Insatisfait          1.0        1.0   \n",
       "2     Mâle  31-40  Économique            Neutre          2.0        0.0   \n",
       "3  femelle  41-50    Première         Satisfait          3.0        2.0   \n",
       "4  femelle    <20  Économique    Très Satisfait          0.0        0.0   \n",
       "5     Mâle  31-40  Économique  Très Insatisfait          2.0        0.0   \n",
       "\n",
       "   Appreciation_eo  \n",
       "0              3.0  \n",
       "1              1.0  \n",
       "2              2.0  \n",
       "3              3.0  \n",
       "4              4.0  \n",
       "5              0.0  "
      ]
     },
     "execution_count": 26,
     "metadata": {},
     "output_type": "execute_result"
    }
   ],
   "source": [
    "# Afficher le dataframe final\n",
    "df_final"
   ]
  },
  {
   "cell_type": "markdown",
   "id": "confused-electric",
   "metadata": {},
   "source": [
    "## Série Genre"
   ]
  },
  {
   "cell_type": "code",
   "execution_count": 27,
   "id": "wanted-intranet",
   "metadata": {},
   "outputs": [],
   "source": [
    "# Importer OneHotEncoder\n",
    "from sklearn.preprocessing import OneHotEncoder"
   ]
  },
  {
   "cell_type": "code",
   "execution_count": 28,
   "id": "weighted-array",
   "metadata": {},
   "outputs": [],
   "source": [
    "# créer l'objet OneHotEncoder et mettre sparse = False\n",
    "ohe = OneHotEncoder(sparse = False)"
   ]
  },
  {
   "cell_type": "code",
   "execution_count": 29,
   "id": "attempted-burner",
   "metadata": {},
   "outputs": [],
   "source": [
    "# Proceder à l'ajustement et transformation des données\n",
    "resultat = ohe.fit_transform(df[[\"Genre\"]])"
   ]
  },
  {
   "cell_type": "code",
   "execution_count": 30,
   "id": "outer-spectacular",
   "metadata": {},
   "outputs": [
    {
     "data": {
      "text/plain": [
       "array([[0., 1.],\n",
       "       [1., 0.],\n",
       "       [1., 0.],\n",
       "       [0., 1.],\n",
       "       [0., 1.],\n",
       "       [1., 0.]])"
      ]
     },
     "execution_count": 30,
     "metadata": {},
     "output_type": "execute_result"
    }
   ],
   "source": [
    "# afficher resultat\n",
    "resultat"
   ]
  },
  {
   "cell_type": "code",
   "execution_count": 31,
   "id": "increasing-ethnic",
   "metadata": {},
   "outputs": [],
   "source": [
    "# Mettre resultat dans un dataframe\n",
    "# ici on précise le nom Genre dans get_feature_names pour l'utiliser dans le nom des nouvelles séries encodées\n",
    "res = pd.DataFrame(resultat,  columns = ohe.get_feature_names([\"Genre\"]))"
   ]
  },
  {
   "cell_type": "code",
   "execution_count": 32,
   "id": "noticed-siemens",
   "metadata": {},
   "outputs": [
    {
     "data": {
      "text/html": [
       "<div>\n",
       "<style scoped>\n",
       "    .dataframe tbody tr th:only-of-type {\n",
       "        vertical-align: middle;\n",
       "    }\n",
       "\n",
       "    .dataframe tbody tr th {\n",
       "        vertical-align: top;\n",
       "    }\n",
       "\n",
       "    .dataframe thead th {\n",
       "        text-align: right;\n",
       "    }\n",
       "</style>\n",
       "<table border=\"1\" class=\"dataframe\">\n",
       "  <thead>\n",
       "    <tr style=\"text-align: right;\">\n",
       "      <th></th>\n",
       "      <th>Genre_Mâle</th>\n",
       "      <th>Genre_femelle</th>\n",
       "    </tr>\n",
       "  </thead>\n",
       "  <tbody>\n",
       "    <tr>\n",
       "      <th>0</th>\n",
       "      <td>0.0</td>\n",
       "      <td>1.0</td>\n",
       "    </tr>\n",
       "    <tr>\n",
       "      <th>1</th>\n",
       "      <td>1.0</td>\n",
       "      <td>0.0</td>\n",
       "    </tr>\n",
       "    <tr>\n",
       "      <th>2</th>\n",
       "      <td>1.0</td>\n",
       "      <td>0.0</td>\n",
       "    </tr>\n",
       "    <tr>\n",
       "      <th>3</th>\n",
       "      <td>0.0</td>\n",
       "      <td>1.0</td>\n",
       "    </tr>\n",
       "    <tr>\n",
       "      <th>4</th>\n",
       "      <td>0.0</td>\n",
       "      <td>1.0</td>\n",
       "    </tr>\n",
       "    <tr>\n",
       "      <th>5</th>\n",
       "      <td>1.0</td>\n",
       "      <td>0.0</td>\n",
       "    </tr>\n",
       "  </tbody>\n",
       "</table>\n",
       "</div>"
      ],
      "text/plain": [
       "   Genre_Mâle  Genre_femelle\n",
       "0         0.0            1.0\n",
       "1         1.0            0.0\n",
       "2         1.0            0.0\n",
       "3         0.0            1.0\n",
       "4         0.0            1.0\n",
       "5         1.0            0.0"
      ]
     },
     "execution_count": 32,
     "metadata": {},
     "output_type": "execute_result"
    }
   ],
   "source": [
    "# Afficher le dataframe res\n",
    "res"
   ]
  },
  {
   "cell_type": "code",
   "execution_count": 33,
   "id": "given-capability",
   "metadata": {},
   "outputs": [],
   "source": [
    "# Joindre les deux dataframe pour afficher dans un même dataframe les colonnes avant et après encodage\n",
    "df_final2 = df_final.join(res)"
   ]
  },
  {
   "cell_type": "code",
   "execution_count": 34,
   "id": "hawaiian-healing",
   "metadata": {
    "scrolled": true
   },
   "outputs": [
    {
     "data": {
      "text/html": [
       "<div>\n",
       "<style scoped>\n",
       "    .dataframe tbody tr th:only-of-type {\n",
       "        vertical-align: middle;\n",
       "    }\n",
       "\n",
       "    .dataframe tbody tr th {\n",
       "        vertical-align: top;\n",
       "    }\n",
       "\n",
       "    .dataframe thead th {\n",
       "        text-align: right;\n",
       "    }\n",
       "</style>\n",
       "<table border=\"1\" class=\"dataframe\">\n",
       "  <thead>\n",
       "    <tr style=\"text-align: right;\">\n",
       "      <th></th>\n",
       "      <th>Genre</th>\n",
       "      <th>Age</th>\n",
       "      <th>Classe</th>\n",
       "      <th>Appreciation</th>\n",
       "      <th>Age_bins_oe</th>\n",
       "      <th>Classe_eo</th>\n",
       "      <th>Appreciation_eo</th>\n",
       "      <th>Genre_Mâle</th>\n",
       "      <th>Genre_femelle</th>\n",
       "    </tr>\n",
       "  </thead>\n",
       "  <tbody>\n",
       "    <tr>\n",
       "      <th>0</th>\n",
       "      <td>femelle</td>\n",
       "      <td>20-30</td>\n",
       "      <td>Économique</td>\n",
       "      <td>Satisfait</td>\n",
       "      <td>1.0</td>\n",
       "      <td>0.0</td>\n",
       "      <td>3.0</td>\n",
       "      <td>0.0</td>\n",
       "      <td>1.0</td>\n",
       "    </tr>\n",
       "    <tr>\n",
       "      <th>1</th>\n",
       "      <td>Mâle</td>\n",
       "      <td>20-30</td>\n",
       "      <td>Affaires</td>\n",
       "      <td>Insatisfait</td>\n",
       "      <td>1.0</td>\n",
       "      <td>1.0</td>\n",
       "      <td>1.0</td>\n",
       "      <td>1.0</td>\n",
       "      <td>0.0</td>\n",
       "    </tr>\n",
       "    <tr>\n",
       "      <th>2</th>\n",
       "      <td>Mâle</td>\n",
       "      <td>31-40</td>\n",
       "      <td>Économique</td>\n",
       "      <td>Neutre</td>\n",
       "      <td>2.0</td>\n",
       "      <td>0.0</td>\n",
       "      <td>2.0</td>\n",
       "      <td>1.0</td>\n",
       "      <td>0.0</td>\n",
       "    </tr>\n",
       "    <tr>\n",
       "      <th>3</th>\n",
       "      <td>femelle</td>\n",
       "      <td>41-50</td>\n",
       "      <td>Première</td>\n",
       "      <td>Satisfait</td>\n",
       "      <td>3.0</td>\n",
       "      <td>2.0</td>\n",
       "      <td>3.0</td>\n",
       "      <td>0.0</td>\n",
       "      <td>1.0</td>\n",
       "    </tr>\n",
       "    <tr>\n",
       "      <th>4</th>\n",
       "      <td>femelle</td>\n",
       "      <td>&lt;20</td>\n",
       "      <td>Économique</td>\n",
       "      <td>Très Satisfait</td>\n",
       "      <td>0.0</td>\n",
       "      <td>0.0</td>\n",
       "      <td>4.0</td>\n",
       "      <td>0.0</td>\n",
       "      <td>1.0</td>\n",
       "    </tr>\n",
       "    <tr>\n",
       "      <th>5</th>\n",
       "      <td>Mâle</td>\n",
       "      <td>31-40</td>\n",
       "      <td>Économique</td>\n",
       "      <td>Très Insatisfait</td>\n",
       "      <td>2.0</td>\n",
       "      <td>0.0</td>\n",
       "      <td>0.0</td>\n",
       "      <td>1.0</td>\n",
       "      <td>0.0</td>\n",
       "    </tr>\n",
       "  </tbody>\n",
       "</table>\n",
       "</div>"
      ],
      "text/plain": [
       "     Genre    Age      Classe      Appreciation  Age_bins_oe  Classe_eo  \\\n",
       "0  femelle  20-30  Économique         Satisfait          1.0        0.0   \n",
       "1     Mâle  20-30    Affaires       Insatisfait          1.0        1.0   \n",
       "2     Mâle  31-40  Économique            Neutre          2.0        0.0   \n",
       "3  femelle  41-50    Première         Satisfait          3.0        2.0   \n",
       "4  femelle    <20  Économique    Très Satisfait          0.0        0.0   \n",
       "5     Mâle  31-40  Économique  Très Insatisfait          2.0        0.0   \n",
       "\n",
       "   Appreciation_eo  Genre_Mâle  Genre_femelle  \n",
       "0              3.0         0.0            1.0  \n",
       "1              1.0         1.0            0.0  \n",
       "2              2.0         1.0            0.0  \n",
       "3              3.0         0.0            1.0  \n",
       "4              4.0         0.0            1.0  \n",
       "5              0.0         1.0            0.0  "
      ]
     },
     "execution_count": 34,
     "metadata": {},
     "output_type": "execute_result"
    }
   ],
   "source": [
    "#Afficher df_final2\n",
    "df_final2"
   ]
  }
 ],
 "metadata": {
  "kernelspec": {
   "display_name": "Python 3 (ipykernel)",
   "language": "python",
   "name": "python3"
  },
  "language_info": {
   "codemirror_mode": {
    "name": "ipython",
    "version": 3
   },
   "file_extension": ".py",
   "mimetype": "text/x-python",
   "name": "python",
   "nbconvert_exporter": "python",
   "pygments_lexer": "ipython3",
   "version": "3.10.9"
  },
  "toc": {
   "base_numbering": 1,
   "nav_menu": {},
   "number_sections": false,
   "sideBar": true,
   "skip_h1_title": false,
   "title_cell": "Table of Contents",
   "title_sidebar": "Contents",
   "toc_cell": false,
   "toc_position": {
    "height": "calc(100% - 180px)",
    "left": "10px",
    "top": "150px",
    "width": "351.469px"
   },
   "toc_section_display": true,
   "toc_window_display": true
  }
 },
 "nbformat": 4,
 "nbformat_minor": 5
}
