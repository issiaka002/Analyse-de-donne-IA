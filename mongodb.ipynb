{
 "cells": [
  {
   "cell_type": "code",
   "execution_count": 1,
   "id": "f1d6b0ec",
   "metadata": {},
   "outputs": [
    {
     "name": "stdout",
     "output_type": "stream",
     "text": [
      "Collecting pymongo\n",
      "  Downloading pymongo-4.3.3-cp310-cp310-win_amd64.whl (382 kB)\n",
      "     ------------------------------------- 382.5/382.5 kB 25.2 kB/s eta 0:00:00\n",
      "Collecting dnspython<3.0.0,>=1.16.0\n",
      "  Downloading dnspython-2.3.0-py3-none-any.whl (283 kB)\n",
      "     ------------------------------------- 283.7/283.7 kB 10.7 kB/s eta 0:00:00\n",
      "Installing collected packages: dnspython, pymongo\n",
      "Successfully installed dnspython-2.3.0 pymongo-4.3.3\n"
     ]
    }
   ],
   "source": [
    "#!pip install pymongo"
   ]
  },
  {
   "cell_type": "code",
   "execution_count": 6,
   "id": "9192b711",
   "metadata": {},
   "outputs": [],
   "source": [
    "from pymongo import MongoClient\n",
    "import pprint as p"
   ]
  },
  {
   "cell_type": "code",
   "execution_count": 3,
   "id": "5aa96edb",
   "metadata": {},
   "outputs": [],
   "source": [
    "# Creation d'un client mongo\n",
    "client = MongoClient(\"localhost\", 27017)\n",
    "contacts = client.db.contact_coll\n"
   ]
  },
  {
   "cell_type": "code",
   "execution_count": 4,
   "id": "2c060198",
   "metadata": {},
   "outputs": [
    {
     "name": "stdout",
     "output_type": "stream",
     "text": [
      "644337ad18d8937bbb6e8cb3\n"
     ]
    }
   ],
   "source": [
    "# Insertion d'une donnee\n",
    "contact = {\n",
    "    \"nom\":\"toto\",\n",
    "    \"prenom\":\"banko\",\n",
    "    \"age\":19\n",
    "}\n",
    "contact_id = contacts.insert_one(contact).inserted_id\n",
    "print(contact_id)\n"
   ]
  },
  {
   "cell_type": "code",
   "execution_count": 7,
   "id": "0a4dbcc1",
   "metadata": {},
   "outputs": [
    {
     "name": "stdout",
     "output_type": "stream",
     "text": [
      "{'_id': ObjectId('644337ad18d8937bbb6e8cb3'),\n",
      " 'age': 19,\n",
      " 'nom': 'toto',\n",
      " 'prenom': 'banko'}\n"
     ]
    }
   ],
   "source": [
    "# Selection\n",
    "p.pprint(contacts.find_one())"
   ]
  },
  {
   "cell_type": "code",
   "execution_count": 9,
   "id": "3fef5ab5",
   "metadata": {},
   "outputs": [
    {
     "name": "stdout",
     "output_type": "stream",
     "text": [
      "[{'_id': ObjectId('644337ad18d8937bbb6e8cb3'),\n",
      "  'age': 19,\n",
      "  'nom': 'toto',\n",
      "  'prenom': 'banko'}]\n"
     ]
    }
   ],
   "source": [
    "# Selection par critere\n",
    "curseur = contacts.find({\"nom\":\"toto\"})\n",
    "p.pprint(list(curseur))"
   ]
  },
  {
   "cell_type": "code",
   "execution_count": 14,
   "id": "3ab89d78",
   "metadata": {},
   "outputs": [
    {
     "data": {
      "text/plain": [
       "[{'_id': ObjectId('644337ad18d8937bbb6e8cb3'),\n",
       "  'nom': 'toto',\n",
       "  'prenom': 'banko',\n",
       "  'age': 19},\n",
       " {'_id': ObjectId('64433c0a18d8937bbb6e8cb4'),\n",
       "  'nom': 'bamba',\n",
       "  'prenom': 'oumar',\n",
       "  'age': 20},\n",
       " {'_id': ObjectId('64433c0a18d8937bbb6e8cb5'),\n",
       "  'nom': 'juli',\n",
       "  'prenom': 'moh',\n",
       "  'age': 18},\n",
       " {'_id': ObjectId('64433c0a18d8937bbb6e8cb6'),\n",
       "  'nom': 'fatou',\n",
       "  'prenom': 'traore',\n",
       "  'age': 17},\n",
       " {'_id': ObjectId('64433c1518d8937bbb6e8cb7'),\n",
       "  'nom': 'bamba',\n",
       "  'prenom': 'oumar',\n",
       "  'age': 20},\n",
       " {'_id': ObjectId('64433c1518d8937bbb6e8cb8'),\n",
       "  'nom': 'juli',\n",
       "  'prenom': 'moh',\n",
       "  'age': 18},\n",
       " {'_id': ObjectId('64433c1518d8937bbb6e8cb9'),\n",
       "  'nom': 'fatou',\n",
       "  'prenom': 'traore',\n",
       "  'age': 17},\n",
       " {'_id': ObjectId('64433c8a18d8937bbb6e8cba'),\n",
       "  'nom': 'bamba',\n",
       "  'prenom': 'oumar',\n",
       "  'age': 20},\n",
       " {'_id': ObjectId('64433c8a18d8937bbb6e8cbb'),\n",
       "  'nom': 'juli',\n",
       "  'prenom': 'moh',\n",
       "  'age': 18},\n",
       " {'_id': ObjectId('64433c8a18d8937bbb6e8cbc'),\n",
       "  'nom': 'fatou',\n",
       "  'prenom': 'traore',\n",
       "  'age': 17},\n",
       " {'_id': ObjectId('64433cab18d8937bbb6e8cbd'),\n",
       "  'nom': 'bamba',\n",
       "  'prenom': 'oumar',\n",
       "  'age': 20},\n",
       " {'_id': ObjectId('64433cab18d8937bbb6e8cbe'),\n",
       "  'nom': 'juli',\n",
       "  'prenom': 'moh',\n",
       "  'age': 18},\n",
       " {'_id': ObjectId('64433cab18d8937bbb6e8cbf'),\n",
       "  'nom': 'fatou',\n",
       "  'prenom': 'traore',\n",
       "  'age': 17},\n",
       " {'_id': ObjectId('64433cb418d8937bbb6e8cc0'),\n",
       "  'nom': 'bamba',\n",
       "  'prenom': 'oumar',\n",
       "  'age': 20},\n",
       " {'_id': ObjectId('64433cb418d8937bbb6e8cc1'),\n",
       "  'nom': 'juli',\n",
       "  'prenom': 'moh',\n",
       "  'age': 18},\n",
       " {'_id': ObjectId('64433cb418d8937bbb6e8cc2'),\n",
       "  'nom': 'fatou',\n",
       "  'prenom': 'traore',\n",
       "  'age': 17}]"
      ]
     },
     "execution_count": 14,
     "metadata": {},
     "output_type": "execute_result"
    }
   ],
   "source": [
    "# Insertion multiple\n",
    "liste_contact = [\n",
    "    {\n",
    "    \"nom\":\"bamba\",\n",
    "    \"prenom\":\"oumar\",\n",
    "    \"age\":20\n",
    "    },\n",
    "    {\n",
    "    \"nom\":\"juli\",\n",
    "    \"prenom\":\"moh\",\n",
    "    \"age\":18\n",
    "    },\n",
    "    {\n",
    "    \"nom\":\"fatou\",\n",
    "    \"prenom\":\"traore\",\n",
    "    \"age\":17\n",
    "    }\n",
    "]\n",
    "contacts.insert_many(liste_contact)\n"
   ]
  },
  {
   "cell_type": "code",
   "execution_count": 20,
   "id": "a6258576",
   "metadata": {},
   "outputs": [
    {
     "name": "stdout",
     "output_type": "stream",
     "text": [
      "==================================================\n",
      "{'_id': ObjectId('644337ad18d8937bbb6e8cb3'),\n",
      " 'age': 19,\n",
      " 'nom': 'toto',\n",
      " 'prenom': 'banko'}\n",
      "{'_id': ObjectId('64433c0a18d8937bbb6e8cb4'),\n",
      " 'age': 20,\n",
      " 'nom': 'bamba',\n",
      " 'prenom': 'oumar'}\n",
      "{'_id': ObjectId('64433c0a18d8937bbb6e8cb5'),\n",
      " 'age': 18,\n",
      " 'nom': 'juli',\n",
      " 'prenom': 'moh'}\n",
      "{'_id': ObjectId('64433c0a18d8937bbb6e8cb6'),\n",
      " 'age': 17,\n",
      " 'nom': 'fatou',\n",
      " 'prenom': 'traore'}\n",
      "{'_id': ObjectId('64433c1518d8937bbb6e8cb7'),\n",
      " 'age': 20,\n",
      " 'nom': 'bamba',\n",
      " 'prenom': 'oumar'}\n",
      "{'_id': ObjectId('64433c1518d8937bbb6e8cb8'),\n",
      " 'age': 18,\n",
      " 'nom': 'juli',\n",
      " 'prenom': 'moh'}\n",
      "{'_id': ObjectId('64433c1518d8937bbb6e8cb9'),\n",
      " 'age': 17,\n",
      " 'nom': 'fatou',\n",
      " 'prenom': 'traore'}\n",
      "{'_id': ObjectId('64433c8a18d8937bbb6e8cba'),\n",
      " 'age': 20,\n",
      " 'nom': 'bamba',\n",
      " 'prenom': 'oumar'}\n",
      "{'_id': ObjectId('64433c8a18d8937bbb6e8cbb'),\n",
      " 'age': 18,\n",
      " 'nom': 'juli',\n",
      " 'prenom': 'moh'}\n",
      "{'_id': ObjectId('64433c8a18d8937bbb6e8cbc'),\n",
      " 'age': 17,\n",
      " 'nom': 'fatou',\n",
      " 'prenom': 'traore'}\n",
      "{'_id': ObjectId('64433cab18d8937bbb6e8cbd'),\n",
      " 'age': 20,\n",
      " 'nom': 'bamba',\n",
      " 'prenom': 'oumar'}\n",
      "{'_id': ObjectId('64433cab18d8937bbb6e8cbe'),\n",
      " 'age': 18,\n",
      " 'nom': 'juli',\n",
      " 'prenom': 'moh'}\n",
      "{'_id': ObjectId('64433cab18d8937bbb6e8cbf'),\n",
      " 'age': 17,\n",
      " 'nom': 'fatou',\n",
      " 'prenom': 'traore'}\n",
      "{'_id': ObjectId('64433cb418d8937bbb6e8cc0'),\n",
      " 'age': 20,\n",
      " 'nom': 'bamba',\n",
      " 'prenom': 'oumar'}\n",
      "{'_id': ObjectId('64433cb418d8937bbb6e8cc1'),\n",
      " 'age': 18,\n",
      " 'nom': 'juli',\n",
      " 'prenom': 'moh'}\n",
      "{'_id': ObjectId('64433cb418d8937bbb6e8cc2'),\n",
      " 'age': 17,\n",
      " 'nom': 'fatou',\n",
      " 'prenom': 'traore'}\n",
      "Nombre de documents : 16\n"
     ]
    }
   ],
   "source": [
    "# print(list(contacts.find()))    # la liste des documents\n",
    "print(\"=\"*50)\n",
    "for con in contacts.find():\n",
    "    p.pprint(con)\n",
    "print(\"Nombre de documents :\",contacts.count_documents({}))"
   ]
  },
  {
   "cell_type": "code",
   "execution_count": 21,
   "id": "354ad66d",
   "metadata": {},
   "outputs": [
    {
     "name": "stdout",
     "output_type": "stream",
     "text": [
      "{'nom': 'Flouflou', 'age': 25}\n"
     ]
    }
   ],
   "source": [
    "\"\"\"JSON manipulation\"\"\"\n",
    "class Toto:\n",
    "    def __init__(self, nom, age):\n",
    "        self.nom = nom\n",
    "        self.age = age\n",
    "        \n",
    "obj = Toto(\"Flouflou\", 25)\n",
    "resultat = vars(obj)\n",
    "print(resultat)"
   ]
  },
  {
   "cell_type": "code",
   "execution_count": null,
   "id": "b4420348",
   "metadata": {},
   "outputs": [],
   "source": []
  }
 ],
 "metadata": {
  "kernelspec": {
   "display_name": "Python 3 (ipykernel)",
   "language": "python",
   "name": "python3"
  },
  "language_info": {
   "codemirror_mode": {
    "name": "ipython",
    "version": 3
   },
   "file_extension": ".py",
   "mimetype": "text/x-python",
   "name": "python",
   "nbconvert_exporter": "python",
   "pygments_lexer": "ipython3",
   "version": "3.10.9"
  }
 },
 "nbformat": 4,
 "nbformat_minor": 5
}
