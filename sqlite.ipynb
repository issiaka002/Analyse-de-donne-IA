{
 "cells": [
  {
   "cell_type": "code",
   "execution_count": 2,
   "metadata": {
    "executionInfo": {
     "elapsed": 11,
     "status": "ok",
     "timestamp": 1682039580121,
     "user": {
      "displayName": "Issiaka Sidibe",
      "userId": "17710311289559860338"
     },
     "user_tz": 0
    },
    "id": "v6MAWlN9UszQ"
   },
   "outputs": [],
   "source": [
    "import sqlite3"
   ]
  },
  {
   "cell_type": "code",
   "execution_count": 4,
   "metadata": {
    "colab": {
     "base_uri": "https://localhost:8080/"
    },
    "executionInfo": {
     "elapsed": 369,
     "status": "ok",
     "timestamp": 1682039880433,
     "user": {
      "displayName": "Issiaka Sidibe",
      "userId": "17710311289559860338"
     },
     "user_tz": 0
    },
    "id": "t748mwfcXyGh",
    "outputId": "74508f81-f645-4e57-edb5-d10eb7989e66"
   },
   "outputs": [
    {
     "data": {
      "text/plain": [
       "<sqlite3.Cursor at 0x7fde3f4a0ea0>"
      ]
     },
     "execution_count": 4,
     "metadata": {},
     "output_type": "execute_result"
    }
   ],
   "source": [
    "# Instanciation de la base de donnee sqlite\n",
    "con=sqlite3.connect(\"base.db\")\n",
    "req='''create table if not exists employe(\n",
    "  id integer primary key autoincrement,\n",
    "  name text,\n",
    "  salaire real\n",
    ")'''\n",
    "curseur=con.cursor()\n",
    "curseur.execute(req)"
   ]
  },
  {
   "cell_type": "code",
   "execution_count": 11,
   "metadata": {
    "colab": {
     "base_uri": "https://localhost:8080/"
    },
    "executionInfo": {
     "elapsed": 11941,
     "status": "ok",
     "timestamp": 1682040629461,
     "user": {
      "displayName": "Issiaka Sidibe",
      "userId": "17710311289559860338"
     },
     "user_tz": 0
    },
    "id": "6MGy8P7HY2Ib",
    "outputId": "a54bf487-1de1-498f-97b8-8dac60d578e7"
   },
   "outputs": [
    {
     "name": "stdout",
     "output_type": "stream",
     "text": [
      "Entre votre nom :ducon\n",
      "Entrer votre salair :987654\n"
     ]
    }
   ],
   "source": [
    "# Insertion de donnee dans la base de donnee\n",
    "nom=input(\"Entre votre nom :\")\n",
    "salaire=float(input(\"Entrer votre salair :\"))\n",
    "requet=\"insert into employe(name,salaire) values(?,?)\"\n",
    "curseur.execute(requet, [nom,salaire])\n",
    "con.commit()\n"
   ]
  },
  {
   "cell_type": "code",
   "execution_count": 14,
   "metadata": {
    "colab": {
     "base_uri": "https://localhost:8080/"
    },
    "executionInfo": {
     "elapsed": 552,
     "status": "ok",
     "timestamp": 1682040718139,
     "user": {
      "displayName": "Issiaka Sidibe",
      "userId": "17710311289559860338"
     },
     "user_tz": 0
    },
    "id": "p7_DG22OaMwv",
    "outputId": "2cf5d0cc-181c-42c0-fd94-56802b8e3584"
   },
   "outputs": [
    {
     "name": "stdout",
     "output_type": "stream",
     "text": [
      "==============================\n",
      "nom= sidibe salaire= 20000000.0\n",
      "nom= fatou salaire= 2345678.0\n",
      "nom= eva michelle salaire= 456789.0\n",
      "nom= moussa salaire= 5679876.0\n",
      "nom= ducon salaire= 987654.0\n"
     ]
    }
   ],
   "source": [
    "select=\"select * from employe\"\n",
    "curseur.execute(select)\n",
    "\n",
    "print(\"=\"*30)\n",
    "for ligne in curseur.fetchall():\n",
    "  print(\"nom=\",ligne[1], \"salaire=\",ligne[2])"
   ]
  },
  {
   "cell_type": "code",
   "execution_count": null,
   "metadata": {
    "id": "D_T8YQuSaiZH"
   },
   "outputs": [],
   "source": []
  }
 ],
 "metadata": {
  "colab": {
   "authorship_tag": "ABX9TyNvkDjWrLfQVw3sCtqNizgB",
   "provenance": []
  },
  "kernelspec": {
   "display_name": "Python 3 (ipykernel)",
   "language": "python",
   "name": "python3"
  },
  "language_info": {
   "codemirror_mode": {
    "name": "ipython",
    "version": 3
   },
   "file_extension": ".py",
   "mimetype": "text/x-python",
   "name": "python",
   "nbconvert_exporter": "python",
   "pygments_lexer": "ipython3",
   "version": "3.10.9"
  }
 },
 "nbformat": 4,
 "nbformat_minor": 1
}
