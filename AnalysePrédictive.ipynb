{
 "cells": [
  {
   "cell_type": "markdown",
   "metadata": {
    "id": "rHLcriKWLRe4"
   },
   "source": [
    " # **Analyse Prédictive**"
   ]
  },
  {
   "cell_type": "markdown",
   "metadata": {
    "id": "QvJBqX8_Bctk"
   },
   "source": [
    "**Objectifs d'apprentissage :**\n",
    "  * Introduction à l'analyse prédictive\n",
    "  * Partitionnement des données en Python\n",
    "  * Classification des données en Python\n",
    "  "
   ]
  },
  {
   "cell_type": "markdown",
   "metadata": {
    "id": "TIFJ83ZTBctl"
   },
   "source": [
    "  ## **Introduction à l'analyse prédictive**\n",
    " L'analyse prédictive est basée sur l’utilisation des techniques d’apprentissage supervisé pour effectuer des prédictions en function des données historiques. l'apprentissage supervisé se concentre sur l'entraînement des algorithmes sur un jeu de données étiquetées pour apprendre une function de prediction.\n",
    "\n",
    " Quand la variable cible à prédire est discrète on parle de **classification**, cependant si elle est continue, on parle de **regréssion**.\n",
    "\n",
    " Deux étapes sont importantes dans l'apprentissage supervisé à savoir **l'entrainement et le test**. L'entrainement de l'algorithme se fait généralement sur la majorité des données (80-90% des doonées) et le test sur les autres 10-20% des données. Pour cela un partitionnement de données est nécessaire avant les étapes d'entraînememt et de test.\n",
    "\n",
    "\n"
   ]
  },
  {
   "cell_type": "markdown",
   "metadata": {
    "id": "XtYZ7114n3b-"
   },
   "source": [
    " ## **Partitionnement des données en *Python***\n",
    "La fonction *train_test_split* de *Scikit-Learn* permet de partitionner les données. Exécutez le code suivant pour importer les modules python nécessaire, charger les données du cancer du sein dans un dataFrame et partitionner les données en deux ensembles (80% des données serviront pour entrainer le modèle et 20% seront utilisées pour le tester).\n",
    "\n"
   ]
  },
  {
   "cell_type": "code",
   "execution_count": 7,
   "metadata": {
    "id": "_TFm7-looBFF"
   },
   "outputs": [],
   "source": [
    "import pandas as pd\n",
    "from sklearn.datasets import load_breast_cancer\n",
    "from sklearn.model_selection import train_test_split\n",
    "cancerData = load_breast_cancer()\n",
    "cancer = pd.DataFrame(cancerData.data, columns=cancerData.feature_names)\n",
    "x_train, x_test, y_train, y_test= train_test_split(cancerData.data, cancerData.target, test_size=0.20, random_state=44)"
   ]
  },
  {
   "cell_type": "markdown",
   "metadata": {
    "id": "1r9KW56Bqz3_"
   },
   "source": [
    "Pour afficher les dimensions de chacun des ensembles de données, vous pouvez utiliser la fonction shape comme suit:"
   ]
  },
  {
   "cell_type": "code",
   "execution_count": 8,
   "metadata": {
    "colab": {
     "base_uri": "https://localhost:8080/"
    },
    "id": "H_B5817PrD0C",
    "outputId": "17d2941f-54fc-4129-c87c-f44ee5549421"
   },
   "outputs": [
    {
     "name": "stdout",
     "output_type": "stream",
     "text": [
      "(455, 30) (114, 30) (455,) (114,)\n"
     ]
    }
   ],
   "source": [
    "print(x_train.shape, x_test.shape, y_train.shape, y_test.shape)"
   ]
  },
  {
   "cell_type": "markdown",
   "metadata": {
    "id": "6U2Bb16QrDK2"
   },
   "source": [
    " ## **Entraînement du modèle**\n",
    "La phase d'entraînement consiste à apprendre à partir des données existantes. Il s'agit tout simplement d'appeler la fonction *fit()* du modèle, les paramètres de la fonction représentent les données d'entrainement (les variables indépendantes et la variable cible). \n",
    "\n",
    "Exécutez la commander ci-dessous pour entraîner un modèle d'arbre de décision sur les 80% de données du cancer du sein."
   ]
  },
  {
   "cell_type": "code",
   "execution_count": 9,
   "metadata": {
    "colab": {
     "base_uri": "https://localhost:8080/"
    },
    "id": "x3RWjUN5tCnf",
    "outputId": "d26f2e42-d0af-41d7-e0b7-61fc0f4339cf"
   },
   "outputs": [
    {
     "data": {
      "text/html": [
       "<style>#sk-container-id-2 {color: black;background-color: white;}#sk-container-id-2 pre{padding: 0;}#sk-container-id-2 div.sk-toggleable {background-color: white;}#sk-container-id-2 label.sk-toggleable__label {cursor: pointer;display: block;width: 100%;margin-bottom: 0;padding: 0.3em;box-sizing: border-box;text-align: center;}#sk-container-id-2 label.sk-toggleable__label-arrow:before {content: \"▸\";float: left;margin-right: 0.25em;color: #696969;}#sk-container-id-2 label.sk-toggleable__label-arrow:hover:before {color: black;}#sk-container-id-2 div.sk-estimator:hover label.sk-toggleable__label-arrow:before {color: black;}#sk-container-id-2 div.sk-toggleable__content {max-height: 0;max-width: 0;overflow: hidden;text-align: left;background-color: #f0f8ff;}#sk-container-id-2 div.sk-toggleable__content pre {margin: 0.2em;color: black;border-radius: 0.25em;background-color: #f0f8ff;}#sk-container-id-2 input.sk-toggleable__control:checked~div.sk-toggleable__content {max-height: 200px;max-width: 100%;overflow: auto;}#sk-container-id-2 input.sk-toggleable__control:checked~label.sk-toggleable__label-arrow:before {content: \"▾\";}#sk-container-id-2 div.sk-estimator input.sk-toggleable__control:checked~label.sk-toggleable__label {background-color: #d4ebff;}#sk-container-id-2 div.sk-label input.sk-toggleable__control:checked~label.sk-toggleable__label {background-color: #d4ebff;}#sk-container-id-2 input.sk-hidden--visually {border: 0;clip: rect(1px 1px 1px 1px);clip: rect(1px, 1px, 1px, 1px);height: 1px;margin: -1px;overflow: hidden;padding: 0;position: absolute;width: 1px;}#sk-container-id-2 div.sk-estimator {font-family: monospace;background-color: #f0f8ff;border: 1px dotted black;border-radius: 0.25em;box-sizing: border-box;margin-bottom: 0.5em;}#sk-container-id-2 div.sk-estimator:hover {background-color: #d4ebff;}#sk-container-id-2 div.sk-parallel-item::after {content: \"\";width: 100%;border-bottom: 1px solid gray;flex-grow: 1;}#sk-container-id-2 div.sk-label:hover label.sk-toggleable__label {background-color: #d4ebff;}#sk-container-id-2 div.sk-serial::before {content: \"\";position: absolute;border-left: 1px solid gray;box-sizing: border-box;top: 0;bottom: 0;left: 50%;z-index: 0;}#sk-container-id-2 div.sk-serial {display: flex;flex-direction: column;align-items: center;background-color: white;padding-right: 0.2em;padding-left: 0.2em;position: relative;}#sk-container-id-2 div.sk-item {position: relative;z-index: 1;}#sk-container-id-2 div.sk-parallel {display: flex;align-items: stretch;justify-content: center;background-color: white;position: relative;}#sk-container-id-2 div.sk-item::before, #sk-container-id-2 div.sk-parallel-item::before {content: \"\";position: absolute;border-left: 1px solid gray;box-sizing: border-box;top: 0;bottom: 0;left: 50%;z-index: -1;}#sk-container-id-2 div.sk-parallel-item {display: flex;flex-direction: column;z-index: 1;position: relative;background-color: white;}#sk-container-id-2 div.sk-parallel-item:first-child::after {align-self: flex-end;width: 50%;}#sk-container-id-2 div.sk-parallel-item:last-child::after {align-self: flex-start;width: 50%;}#sk-container-id-2 div.sk-parallel-item:only-child::after {width: 0;}#sk-container-id-2 div.sk-dashed-wrapped {border: 1px dashed gray;margin: 0 0.4em 0.5em 0.4em;box-sizing: border-box;padding-bottom: 0.4em;background-color: white;}#sk-container-id-2 div.sk-label label {font-family: monospace;font-weight: bold;display: inline-block;line-height: 1.2em;}#sk-container-id-2 div.sk-label-container {text-align: center;}#sk-container-id-2 div.sk-container {/* jupyter's `normalize.less` sets `[hidden] { display: none; }` but bootstrap.min.css set `[hidden] { display: none !important; }` so we also need the `!important` here to be able to override the default hidden behavior on the sphinx rendered scikit-learn.org. See: https://github.com/scikit-learn/scikit-learn/issues/21755 */display: inline-block !important;position: relative;}#sk-container-id-2 div.sk-text-repr-fallback {display: none;}</style><div id=\"sk-container-id-2\" class=\"sk-top-container\"><div class=\"sk-text-repr-fallback\"><pre>DecisionTreeClassifier()</pre><b>In a Jupyter environment, please rerun this cell to show the HTML representation or trust the notebook. <br />On GitHub, the HTML representation is unable to render, please try loading this page with nbviewer.org.</b></div><div class=\"sk-container\" hidden><div class=\"sk-item\"><div class=\"sk-estimator sk-toggleable\"><input class=\"sk-toggleable__control sk-hidden--visually\" id=\"sk-estimator-id-2\" type=\"checkbox\" checked><label for=\"sk-estimator-id-2\" class=\"sk-toggleable__label sk-toggleable__label-arrow\">DecisionTreeClassifier</label><div class=\"sk-toggleable__content\"><pre>DecisionTreeClassifier()</pre></div></div></div></div></div>"
      ],
      "text/plain": [
       "DecisionTreeClassifier()"
      ]
     },
     "execution_count": 9,
     "metadata": {},
     "output_type": "execute_result"
    }
   ],
   "source": [
    "from sklearn.tree import DecisionTreeClassifier\n",
    "model=DecisionTreeClassifier()\n",
    "model.fit(x_train,y_train)"
   ]
  },
  {
   "cell_type": "markdown",
   "metadata": {
    "id": "7vZF8fyksPOV"
   },
   "source": [
    " ## **Tester le modèle**\n",
    "La phase de test consiste à tester le modèle entraîné sur de nouvelles données. Il s'agit tout simplement d'appeler la fonction *predict()* du modèle, les paramètres de la fonction représentent les données de test. \n",
    "\n",
    "Exécutez la commander ci-dessous pour tester le modèle sur les 20% de données du cancer du sein."
   ]
  },
  {
   "cell_type": "code",
   "execution_count": 10,
   "metadata": {
    "id": "Ke1rbbPls19k"
   },
   "outputs": [],
   "source": [
    "predict = model.predict(x_test)"
   ]
  },
  {
   "cell_type": "markdown",
   "metadata": {
    "id": "6qh63m-ayb-c"
   },
   "source": [
    " ## **Exercice**\n",
    "\n",
    "Utilisez la fonction *score()* en *Python* pour afficher la précision du modèle de prédiction."
   ]
  },
  {
   "cell_type": "code",
   "execution_count": 11,
   "metadata": {
    "id": "zCOn8ftSyddH"
   },
   "outputs": [
    {
     "data": {
      "text/plain": [
       "0.9298245614035088"
      ]
     },
     "execution_count": 11,
     "metadata": {},
     "output_type": "execute_result"
    }
   ],
   "source": [
    "# Your code here\n",
    "model.score(x_test, y_test)"
   ]
  },
  {
   "cell_type": "markdown",
   "metadata": {
    "id": "YHIWvc9Ms-Ll"
   },
   "source": [
    " ### **Solution**\n",
    "\n",
    "Exécuter la cellule suivante pour afficher la précision du modèle de prédiction. N'oubliez pas d'exécuter les lignes de code ci-dessus avant afin de pouvoir importer les modules nécessaires ainsi que les données de cancer de sein et de charger les données dans un *DataFrame*."
   ]
  },
  {
   "cell_type": "code",
   "execution_count": 14,
   "metadata": {
    "colab": {
     "base_uri": "https://localhost:8080/"
    },
    "id": "T5OlrqtdtCIb",
    "outputId": "901c5140-191f-4e67-b212-364f9e6cc7d3"
   },
   "outputs": [
    {
     "name": "stdout",
     "output_type": "stream",
     "text": [
      "0.9298245614035088\n"
     ]
    }
   ],
   "source": [
    "precision=model.score(x_test, y_test)\n",
    "print(precision)"
   ]
  },
  {
   "cell_type": "code",
   "execution_count": null,
   "metadata": {},
   "outputs": [],
   "source": []
  }
 ],
 "metadata": {
  "colab": {
   "collapsed_sections": [],
   "name": "AnalysePrédictive.ipynb",
   "provenance": []
  },
  "kernelspec": {
   "display_name": "Python 3 (ipykernel)",
   "language": "python",
   "name": "python3"
  },
  "language_info": {
   "codemirror_mode": {
    "name": "ipython",
    "version": 3
   },
   "file_extension": ".py",
   "mimetype": "text/x-python",
   "name": "python",
   "nbconvert_exporter": "python",
   "pygments_lexer": "ipython3",
   "version": "3.10.9"
  }
 },
 "nbformat": 4,
 "nbformat_minor": 1
}
