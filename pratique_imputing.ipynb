{
 "cells": [
  {
   "cell_type": "markdown",
   "id": "digital-minimum",
   "metadata": {},
   "source": [
    "<a href=\"https://colab.research.google.com/github/pia-fcse-bdeb/Cours-EDUlib/blob/master/module-3/Exercices/pratique_imputing.ipynb\">\n",
    "  <img src=\"https://colab.research.google.com/assets/colab-badge.svg\" alt=\"Open In Colab\"/>\n",
    "</a>"
   ]
  },
  {
   "cell_type": "markdown",
   "id": "recent-database",
   "metadata": {},
   "source": [
    "# Pratique imputing"
   ]
  },
  {
   "cell_type": "markdown",
   "id": "marked-identifier",
   "metadata": {},
   "source": [
    "## Lire le fichier de données en utilisant pandas.read_csv"
   ]
  },
  {
   "cell_type": "markdown",
   "id": "binary-southwest",
   "metadata": {},
   "source": [
    "On vous fournit les lignes de codes qui permettent de charger les données, vous pouvez soit :"
   ]
  },
  {
   "cell_type": "markdown",
   "id": "southwest-hacker",
   "metadata": {},
   "source": [
    "* Télécharger le fichier de données et procéder à son chargement sur votre machine locale ou bien sur google Colab. Pour cela, il vous faut décommenter la cellule A et commenter la cellule B.\n",
    "* Charger les données directement depuis google drive sans avoir à télécharger le fichier sur votre machine locale. Pour ce faire, utilisez les lignes de code de la cellule B."
   ]
  },
  {
   "cell_type": "markdown",
   "id": "dietary-tokyo",
   "metadata": {},
   "source": [
    "### Cellule A"
   ]
  },
  {
   "cell_type": "code",
   "execution_count": null,
   "id": "fiscal-finding",
   "metadata": {},
   "outputs": [],
   "source": [
    "# # importer la librairie pandas\n",
    "# import pandas as pd\n",
    "# # lecture du fichier de données\n",
    "# data = pd.read_csv(\"voitures.csv\", sep= \";\")"
   ]
  },
  {
   "cell_type": "markdown",
   "id": "worldwide-handbook",
   "metadata": {},
   "source": [
    "### Cellule B"
   ]
  },
  {
   "cell_type": "code",
   "execution_count": null,
   "id": "dying-bicycle",
   "metadata": {},
   "outputs": [],
   "source": [
    "# importer la librairie pandas\n",
    "import pandas as pd\n",
    "\n",
    "# charger les données contenues dans un fichiers csv se trouvant sur drive\n",
    "URL = 'https://drive.google.com/file/d/1ZQk2jnBTxpMxtYqwsBNzxW3P4uUzyPZX/view?usp=sharing'\n",
    "\n",
    "voitures = 'https://drive.google.com/uc?export=download&id='+URL.split('/')[-2]\n",
    "data = pd.read_csv(voitures, sep= \";\")\n",
    "\n",
    "# faire une copie de data\n",
    "df = data.copy()\n",
    "# Afficher un échatillon du dataframe\n",
    "df.sample(5)"
   ]
  },
  {
   "cell_type": "markdown",
   "id": "prompt-roulette",
   "metadata": {},
   "source": [
    "## Pratique 1"
   ]
  },
  {
   "cell_type": "code",
   "execution_count": null,
   "id": "legitimate-confusion",
   "metadata": {},
   "outputs": [],
   "source": [
    "# Obtenir le shape du dataframe\n",
    "df.shape"
   ]
  },
  {
   "cell_type": "markdown",
   "id": "numeric-happening",
   "metadata": {},
   "source": [
    "* Note:\n",
    "    le dataframe contient 83 enregistrements (lignes) et 6 séries (colonnes) "
   ]
  },
  {
   "cell_type": "code",
   "execution_count": 3,
   "id": "white-living",
   "metadata": {},
   "outputs": [],
   "source": [
    "# Vérifier la présence de valeurs manquantes et indiquer le nombre de valeur manquantes dans chaque série\n",
    "..."
   ]
  },
  {
   "cell_type": "code",
   "execution_count": 4,
   "id": "incredible-impact",
   "metadata": {},
   "outputs": [],
   "source": [
    "# En s'aidant du shape, afficher le pourcentage de valeurs manquantes pour chaque série du dataframe\n",
    "percentage = ..."
   ]
  },
  {
   "cell_type": "code",
   "execution_count": null,
   "id": "wrong-working",
   "metadata": {},
   "outputs": [],
   "source": [
    "# afficher 2 chiffres après la virgule\n",
    "print(round(percentage, ndigits = 2))"
   ]
  },
  {
   "cell_type": "markdown",
   "id": "structured-devil",
   "metadata": {},
   "source": [
    "## Pratique 2"
   ]
  },
  {
   "cell_type": "markdown",
   "id": "unexpected-learning",
   "metadata": {},
   "source": [
    "### Afficher les valeurs manquantes de la série nbre_porte"
   ]
  },
  {
   "cell_type": "markdown",
   "id": "behind-flour",
   "metadata": {},
   "source": [
    "* Notes:\n",
    "    * On va commencer par caractériser les valeurs manquantes\n",
    "    * comme le nombre de valeurs manquantes est faible, on peut se permettre de les afficher, pour cela, on va utiliser le booléen indexing comme on a pu le voir dans la vidéo.\n",
    "    * la méthode .isnull() va retourner une série de False et True, quand on réinjecte le tout dans le dataframe, on obtiendra que les lignes égales des True"
   ]
  },
  {
   "cell_type": "code",
   "execution_count": 5,
   "id": "loving-montgomery",
   "metadata": {},
   "outputs": [],
   "source": [
    "# Afficher pour la série nbre_porte, les enregistrements contenants des valeurs manquantes\n",
    "..."
   ]
  },
  {
   "cell_type": "markdown",
   "id": "inside-freedom",
   "metadata": {},
   "source": [
    "### Remplacer les valeurs manquantes dans la série nbre_porte"
   ]
  },
  {
   "cell_type": "markdown",
   "id": "irish-timber",
   "metadata": {},
   "source": [
    "* On va suivre le même cheminement qu’on vu ensemble dans la vidéo du cours."
   ]
  },
  {
   "cell_type": "code",
   "execution_count": 6,
   "id": "attached-chancellor",
   "metadata": {},
   "outputs": [],
   "source": [
    "# Utilisez SimpleImputer et une stratégie de remplacement, justifier votre choix de stratégie \n"
   ]
  },
  {
   "cell_type": "code",
   "execution_count": null,
   "id": "frequent-dryer",
   "metadata": {},
   "outputs": [],
   "source": [
    "# importer le module SimpleImputer\n",
    "..."
   ]
  },
  {
   "cell_type": "code",
   "execution_count": 7,
   "id": "considerable-moses",
   "metadata": {},
   "outputs": [],
   "source": [
    "# creer l'objet simpleImputer\n",
    "imp = ..."
   ]
  },
  {
   "cell_type": "code",
   "execution_count": 8,
   "id": "convenient-marsh",
   "metadata": {},
   "outputs": [],
   "source": [
    "# creer l'objet simpleImputer\n",
    "honda = ...\n",
    "mazda = ..."
   ]
  },
  {
   "cell_type": "code",
   "execution_count": null,
   "id": "critical-serial",
   "metadata": {},
   "outputs": [],
   "source": [
    "# correction pour honda et correction pour mazda\n",
    "corr_honda = \n",
    "corr_mazda = "
   ]
  },
  {
   "cell_type": "code",
   "execution_count": null,
   "id": "solar-eugene",
   "metadata": {},
   "outputs": [],
   "source": [
    "# affecter les corrections\n",
    "df.loc[..., ...] = corr_honda\n",
    "df.loc[..., ...] = corr_mazda"
   ]
  },
  {
   "cell_type": "code",
   "execution_count": null,
   "id": "optional-mixture",
   "metadata": {},
   "outputs": [],
   "source": [
    "# Procéder à une vérification\n",
    "..."
   ]
  },
  {
   "cell_type": "markdown",
   "id": "retired-species",
   "metadata": {},
   "source": [
    "### Remplacer des valeurs manquantes pour la série carburant"
   ]
  },
  {
   "cell_type": "code",
   "execution_count": 9,
   "id": "chubby-charity",
   "metadata": {},
   "outputs": [],
   "source": [
    "# afficher les valeurs manquantes dans un dataframe\n",
    "..."
   ]
  },
  {
   "cell_type": "code",
   "execution_count": 10,
   "id": "successful-infrastructure",
   "metadata": {},
   "outputs": [],
   "source": [
    "# Affecter une valeur de remplacement\n",
    "..."
   ]
  },
  {
   "cell_type": "code",
   "execution_count": null,
   "id": "classical-chick",
   "metadata": {},
   "outputs": [],
   "source": [
    "# Procéder à une vérification\n",
    "..."
   ]
  },
  {
   "cell_type": "code",
   "execution_count": null,
   "id": "biological-laptop",
   "metadata": {},
   "outputs": [],
   "source": []
  },
  {
   "cell_type": "code",
   "execution_count": null,
   "id": "starting-three",
   "metadata": {},
   "outputs": [],
   "source": []
  },
  {
   "cell_type": "code",
   "execution_count": null,
   "id": "sophisticated-nation",
   "metadata": {},
   "outputs": [],
   "source": []
  },
  {
   "cell_type": "code",
   "execution_count": null,
   "id": "caring-glossary",
   "metadata": {},
   "outputs": [],
   "source": []
  },
  {
   "cell_type": "code",
   "execution_count": null,
   "id": "administrative-perspective",
   "metadata": {},
   "outputs": [],
   "source": []
  },
  {
   "cell_type": "code",
   "execution_count": null,
   "id": "romantic-hollywood",
   "metadata": {},
   "outputs": [],
   "source": []
  },
  {
   "cell_type": "code",
   "execution_count": null,
   "id": "documented-chase",
   "metadata": {},
   "outputs": [],
   "source": []
  },
  {
   "cell_type": "code",
   "execution_count": null,
   "id": "decimal-venture",
   "metadata": {},
   "outputs": [],
   "source": []
  },
  {
   "cell_type": "code",
   "execution_count": null,
   "id": "unknown-implement",
   "metadata": {},
   "outputs": [],
   "source": []
  },
  {
   "cell_type": "markdown",
   "id": "returning-reward",
   "metadata": {},
   "source": [
    "# Solutionnaire"
   ]
  },
  {
   "cell_type": "markdown",
   "id": "honest-garbage",
   "metadata": {},
   "source": [
    "## pratique 1"
   ]
  },
  {
   "cell_type": "code",
   "execution_count": 1,
   "id": "incorporated-reminder",
   "metadata": {},
   "outputs": [
    {
     "data": {
      "text/html": [
       "<div>\n",
       "<style scoped>\n",
       "    .dataframe tbody tr th:only-of-type {\n",
       "        vertical-align: middle;\n",
       "    }\n",
       "\n",
       "    .dataframe tbody tr th {\n",
       "        vertical-align: top;\n",
       "    }\n",
       "\n",
       "    .dataframe thead th {\n",
       "        text-align: right;\n",
       "    }\n",
       "</style>\n",
       "<table border=\"1\" class=\"dataframe\">\n",
       "  <thead>\n",
       "    <tr style=\"text-align: right;\">\n",
       "      <th></th>\n",
       "      <th>marque</th>\n",
       "      <th>carburant</th>\n",
       "      <th>traction</th>\n",
       "      <th>nbre_porte</th>\n",
       "      <th>puissance</th>\n",
       "      <th>prix</th>\n",
       "    </tr>\n",
       "  </thead>\n",
       "  <tbody>\n",
       "    <tr>\n",
       "      <th>77</th>\n",
       "      <td>toyota</td>\n",
       "      <td>gaz</td>\n",
       "      <td>fwd</td>\n",
       "      <td>quatre</td>\n",
       "      <td>92.0</td>\n",
       "      <td>10898.0</td>\n",
       "    </tr>\n",
       "    <tr>\n",
       "      <th>1</th>\n",
       "      <td>audi</td>\n",
       "      <td>gaz</td>\n",
       "      <td>4wd</td>\n",
       "      <td>quatre</td>\n",
       "      <td>115.0</td>\n",
       "      <td>17450.0</td>\n",
       "    </tr>\n",
       "    <tr>\n",
       "      <th>61</th>\n",
       "      <td>toyota</td>\n",
       "      <td>gaz</td>\n",
       "      <td>fwd</td>\n",
       "      <td>quatre</td>\n",
       "      <td>70.0</td>\n",
       "      <td>7738.0</td>\n",
       "    </tr>\n",
       "    <tr>\n",
       "      <th>39</th>\n",
       "      <td>mazda</td>\n",
       "      <td>gaz</td>\n",
       "      <td>fwd</td>\n",
       "      <td>quatre</td>\n",
       "      <td>84.0</td>\n",
       "      <td>10245.0</td>\n",
       "    </tr>\n",
       "    <tr>\n",
       "      <th>60</th>\n",
       "      <td>toyota</td>\n",
       "      <td>diesel</td>\n",
       "      <td>fwd</td>\n",
       "      <td>quatre</td>\n",
       "      <td>56.0</td>\n",
       "      <td>7788.0</td>\n",
       "    </tr>\n",
       "  </tbody>\n",
       "</table>\n",
       "</div>"
      ],
      "text/plain": [
       "    marque carburant traction nbre_porte  puissance     prix\n",
       "77  toyota       gaz      fwd     quatre       92.0  10898.0\n",
       "1     audi       gaz      4wd     quatre      115.0  17450.0\n",
       "61  toyota       gaz      fwd     quatre       70.0   7738.0\n",
       "39   mazda       gaz      fwd     quatre       84.0  10245.0\n",
       "60  toyota    diesel      fwd     quatre       56.0   7788.0"
      ]
     },
     "execution_count": 1,
     "metadata": {},
     "output_type": "execute_result"
    }
   ],
   "source": [
    "# importer la librairie pandas\n",
    "import pandas as pd\n",
    "\n",
    "# charger les données contenues dans un fichiers csv se trouvant sur drive\n",
    "URL = 'https://drive.google.com/file/d/1ZQk2jnBTxpMxtYqwsBNzxW3P4uUzyPZX/view?usp=sharing'\n",
    "voitures = 'https://drive.google.com/uc?export=download&id='+URL.split('/')[-2]\n",
    "\n",
    "data = pd.read_csv(voitures, sep= \";\")\n",
    "\n",
    "# faire une copie de data\n",
    "df = data.copy()\n",
    "# Afficher un échatillon du dataframe\n",
    "df.sample(5)"
   ]
  },
  {
   "cell_type": "code",
   "execution_count": 2,
   "id": "statistical-management",
   "metadata": {},
   "outputs": [
    {
     "data": {
      "text/plain": [
       "(83, 6)"
      ]
     },
     "execution_count": 2,
     "metadata": {},
     "output_type": "execute_result"
    }
   ],
   "source": [
    "# Obtenir le shape du dataframe\n",
    "df.shape"
   ]
  },
  {
   "cell_type": "markdown",
   "id": "polyphonic-restriction",
   "metadata": {},
   "source": [
    "* Note:\n",
    "    le dataframe contient 83 enregistrements et 6 séries (colonnes) "
   ]
  },
  {
   "cell_type": "code",
   "execution_count": 5,
   "id": "behavioral-basic",
   "metadata": {},
   "outputs": [
    {
     "data": {
      "text/plain": [
       "marque        0\n",
       "carburant     2\n",
       "traction      0\n",
       "nbre_porte    3\n",
       "puissance     0\n",
       "prix          0\n",
       "dtype: int64"
      ]
     },
     "execution_count": 5,
     "metadata": {},
     "output_type": "execute_result"
    }
   ],
   "source": [
    "# Vérifier la présence de valeurs manquantes et le cas échéant, indiquer le nombre de valeur manquantes\n",
    "df.isnull().sum()"
   ]
  },
  {
   "cell_type": "code",
   "execution_count": 6,
   "id": "material-citizenship",
   "metadata": {},
   "outputs": [
    {
     "name": "stdout",
     "output_type": "stream",
     "text": [
      "marque        0.00\n",
      "carburant     2.41\n",
      "traction      0.00\n",
      "nbre_porte    3.61\n",
      "puissance     0.00\n",
      "prix          0.00\n",
      "dtype: float64\n"
     ]
    }
   ],
   "source": [
    "# En s'aidant du shape, afficher le pourcentage de valeurs manquantes pour chaque série du dataframe\n",
    "percentage = (df.isnull().sum() / df.shape[0]) * 100\n",
    "\n",
    "# afficher 2 chiffres après la virgule\n",
    "print(round(percentage, ndigits = 2))"
   ]
  },
  {
   "cell_type": "markdown",
   "id": "eleven-phase",
   "metadata": {},
   "source": [
    "## pratique 2"
   ]
  },
  {
   "cell_type": "markdown",
   "id": "numerical-southeast",
   "metadata": {},
   "source": [
    "### Afficher les valeurs manquantes de la série nbre_porte"
   ]
  },
  {
   "cell_type": "markdown",
   "id": "rising-engineering",
   "metadata": {},
   "source": [
    "* Notes:\n",
    "    * On va commencer par caractériser les valeurs manquantes\n",
    "    * comme le nombre de valeurs manquantes est faible, on peut se permettre de les afficher, pour cela, on va utiliser le booléen indexing comme on a pu le voir dans la vidéo.\n",
    "    * la méthode .isnull() va retourner une série de False et True, quand on réinjecte le tout dans le dataframe, on obtiendra que les lignes égales à des True"
   ]
  },
  {
   "cell_type": "code",
   "execution_count": 15,
   "id": "yellow-brook",
   "metadata": {},
   "outputs": [
    {
     "data": {
      "text/html": [
       "<div>\n",
       "<style scoped>\n",
       "    .dataframe tbody tr th:only-of-type {\n",
       "        vertical-align: middle;\n",
       "    }\n",
       "\n",
       "    .dataframe tbody tr th {\n",
       "        vertical-align: top;\n",
       "    }\n",
       "\n",
       "    .dataframe thead th {\n",
       "        text-align: right;\n",
       "    }\n",
       "</style>\n",
       "<table border=\"1\" class=\"dataframe\">\n",
       "  <thead>\n",
       "    <tr style=\"text-align: right;\">\n",
       "      <th></th>\n",
       "      <th>marque</th>\n",
       "      <th>carburant</th>\n",
       "      <th>traction</th>\n",
       "      <th>nbre_porte</th>\n",
       "      <th>puissance</th>\n",
       "      <th>prix</th>\n",
       "    </tr>\n",
       "  </thead>\n",
       "  <tbody>\n",
       "    <tr>\n",
       "      <th>16</th>\n",
       "      <td>honda</td>\n",
       "      <td>gaz</td>\n",
       "      <td>fwd</td>\n",
       "      <td>NaN</td>\n",
       "      <td>60.0</td>\n",
       "      <td>5399.0</td>\n",
       "    </tr>\n",
       "    <tr>\n",
       "      <th>21</th>\n",
       "      <td>honda</td>\n",
       "      <td>gaz</td>\n",
       "      <td>fwd</td>\n",
       "      <td>NaN</td>\n",
       "      <td>86.0</td>\n",
       "      <td>7895.0</td>\n",
       "    </tr>\n",
       "    <tr>\n",
       "      <th>40</th>\n",
       "      <td>mazda</td>\n",
       "      <td>diesel</td>\n",
       "      <td>fwd</td>\n",
       "      <td>NaN</td>\n",
       "      <td>64.0</td>\n",
       "      <td>10795.0</td>\n",
       "    </tr>\n",
       "  </tbody>\n",
       "</table>\n",
       "</div>"
      ],
      "text/plain": [
       "   marque carburant traction nbre_porte  puissance     prix\n",
       "16  honda       gaz      fwd        NaN       60.0   5399.0\n",
       "21  honda       gaz      fwd        NaN       86.0   7895.0\n",
       "40  mazda    diesel      fwd        NaN       64.0  10795.0"
      ]
     },
     "execution_count": 15,
     "metadata": {},
     "output_type": "execute_result"
    }
   ],
   "source": [
    "# Afficher pour la série nbre_porte, les enregistrements contenants des valeurs manquantes\n",
    "df[df[\"nbre_porte\"].isnull()]"
   ]
  },
  {
   "cell_type": "markdown",
   "id": "referenced-scheme",
   "metadata": {},
   "source": [
    "### Remplacer les valeurs manquantes dans la série nbre_porte"
   ]
  },
  {
   "cell_type": "markdown",
   "id": "boolean-dinner",
   "metadata": {},
   "source": [
    "* Attention, on a des valeurs manquantes pour deux marques différentes, on doit donc les considérer indépendamment l'une de l'autre lors du imputing\n",
    "* La série **nbre_porte** est catégorielle, on va donc choisir la stratégie **most_frequent** qui semble plus judicieuse que la médiane ou encore la moyenne."
   ]
  },
  {
   "cell_type": "code",
   "execution_count": 16,
   "id": "literary-ghana",
   "metadata": {},
   "outputs": [],
   "source": [
    "# importer le module SimpleImputer\n",
    "from sklearn.impute import SimpleImputer"
   ]
  },
  {
   "cell_type": "code",
   "execution_count": 17,
   "id": "latter-penalty",
   "metadata": {},
   "outputs": [],
   "source": [
    "# creer l'objet simpleImputer\n",
    "imp = SimpleImputer(strategy=\"most_frequent\")"
   ]
  },
  {
   "cell_type": "code",
   "execution_count": 18,
   "id": "alien-hunger",
   "metadata": {},
   "outputs": [],
   "source": [
    "# créer un dataframe pour chaque marque qui nous intéresse\n",
    "honda = df[df.marque ==\"honda\"]\n",
    "mazda = df[df.marque ==\"mazda\"]"
   ]
  },
  {
   "cell_type": "code",
   "execution_count": 19,
   "id": "norwegian-pickup",
   "metadata": {},
   "outputs": [],
   "source": [
    "# faire un fit_transform et stocker la correction\n",
    "corr_honda = imp.fit_transform(honda)[:,3]\n",
    "corr_mazda = imp.fit_transform(mazda)[:,3]"
   ]
  },
  {
   "cell_type": "code",
   "execution_count": 20,
   "id": "logical-width",
   "metadata": {},
   "outputs": [],
   "source": [
    "# affecter les corrections\n",
    "df.loc[df.marque == \"honda\", \"nbre_porte\"] = corr_honda\n",
    "df.loc[df.marque == \"mazda\", \"nbre_porte\"] = corr_mazda"
   ]
  },
  {
   "cell_type": "code",
   "execution_count": 21,
   "id": "atlantic-annual",
   "metadata": {},
   "outputs": [
    {
     "data": {
      "text/plain": [
       "marque        0\n",
       "carburant     2\n",
       "traction      0\n",
       "nbre_porte    0\n",
       "puissance     0\n",
       "prix          0\n",
       "dtype: int64"
      ]
     },
     "execution_count": 21,
     "metadata": {},
     "output_type": "execute_result"
    }
   ],
   "source": [
    "# verification\n",
    "df.isnull().sum()"
   ]
  },
  {
   "cell_type": "markdown",
   "id": "robust-theorem",
   "metadata": {},
   "source": [
    "### Remplacement des valeurs manquantes pour la série carburant"
   ]
  },
  {
   "cell_type": "code",
   "execution_count": 22,
   "id": "dependent-grass",
   "metadata": {},
   "outputs": [
    {
     "data": {
      "text/html": [
       "<div>\n",
       "<style scoped>\n",
       "    .dataframe tbody tr th:only-of-type {\n",
       "        vertical-align: middle;\n",
       "    }\n",
       "\n",
       "    .dataframe tbody tr th {\n",
       "        vertical-align: top;\n",
       "    }\n",
       "\n",
       "    .dataframe thead th {\n",
       "        text-align: right;\n",
       "    }\n",
       "</style>\n",
       "<table border=\"1\" class=\"dataframe\">\n",
       "  <thead>\n",
       "    <tr style=\"text-align: right;\">\n",
       "      <th></th>\n",
       "      <th>marque</th>\n",
       "      <th>carburant</th>\n",
       "      <th>traction</th>\n",
       "      <th>nbre_porte</th>\n",
       "      <th>puissance</th>\n",
       "      <th>prix</th>\n",
       "    </tr>\n",
       "  </thead>\n",
       "  <tbody>\n",
       "    <tr>\n",
       "      <th>49</th>\n",
       "      <td>renault</td>\n",
       "      <td>NaN</td>\n",
       "      <td>fwd</td>\n",
       "      <td>quatre</td>\n",
       "      <td>69.0</td>\n",
       "      <td>9295.0</td>\n",
       "    </tr>\n",
       "    <tr>\n",
       "      <th>50</th>\n",
       "      <td>renault</td>\n",
       "      <td>NaN</td>\n",
       "      <td>fwd</td>\n",
       "      <td>deux</td>\n",
       "      <td>79.0</td>\n",
       "      <td>9895.0</td>\n",
       "    </tr>\n",
       "  </tbody>\n",
       "</table>\n",
       "</div>"
      ],
      "text/plain": [
       "     marque carburant traction nbre_porte  puissance    prix\n",
       "49  renault       NaN      fwd     quatre       69.0  9295.0\n",
       "50  renault       NaN      fwd       deux       79.0  9895.0"
      ]
     },
     "execution_count": 22,
     "metadata": {},
     "output_type": "execute_result"
    }
   ],
   "source": [
    "# afficher les valeurs manquantes dans un dataframe\n",
    "df[df.carburant.isnull()]"
   ]
  },
  {
   "cell_type": "markdown",
   "id": "related-glenn",
   "metadata": {},
   "source": [
    "* Note:\n",
    "    * Toutes les valeurs manquantes concerne la marque renault, on peut soit supprimer ces deux lignes mais on perd de l'information ou bien aller chercher la valeur de remplacement à partir d'une autre source de donnée.\n",
    "    * Par exemple après quelques recherche on peut trouver que pour cette marque de voiture le carburant le plus fréquent est gaz"
   ]
  },
  {
   "cell_type": "code",
   "execution_count": 23,
   "id": "moderate-embassy",
   "metadata": {},
   "outputs": [],
   "source": [
    "# Affecter le mot gaz aux valeurs manquantes\n",
    "df.loc[df.marque == \"renault\", \"carburant\"] = \"gaz\""
   ]
  },
  {
   "cell_type": "code",
   "execution_count": 24,
   "id": "black-national",
   "metadata": {},
   "outputs": [
    {
     "data": {
      "text/plain": [
       "marque        0\n",
       "carburant     0\n",
       "traction      0\n",
       "nbre_porte    0\n",
       "puissance     0\n",
       "prix          0\n",
       "dtype: int64"
      ]
     },
     "execution_count": 24,
     "metadata": {},
     "output_type": "execute_result"
    }
   ],
   "source": [
    "# verification \n",
    "df.isnull().sum()"
   ]
  },
  {
   "cell_type": "markdown",
   "id": "foreign-freeze",
   "metadata": {},
   "source": [
    "* Notre dataframe ne contient plus de valeurs manquantes"
   ]
  }
 ],
 "metadata": {
  "kernelspec": {
   "display_name": "Python 3 (ipykernel)",
   "language": "python",
   "name": "python3"
  },
  "language_info": {
   "codemirror_mode": {
    "name": "ipython",
    "version": 3
   },
   "file_extension": ".py",
   "mimetype": "text/x-python",
   "name": "python",
   "nbconvert_exporter": "python",
   "pygments_lexer": "ipython3",
   "version": "3.10.9"
  },
  "toc": {
   "base_numbering": 1,
   "nav_menu": {},
   "number_sections": false,
   "sideBar": true,
   "skip_h1_title": false,
   "title_cell": "Table of Contents",
   "title_sidebar": "Contents",
   "toc_cell": false,
   "toc_position": {
    "height": "755px",
    "left": "83px",
    "top": "145.125px",
    "width": "384px"
   },
   "toc_section_display": true,
   "toc_window_display": true
  }
 },
 "nbformat": 4,
 "nbformat_minor": 5
}
