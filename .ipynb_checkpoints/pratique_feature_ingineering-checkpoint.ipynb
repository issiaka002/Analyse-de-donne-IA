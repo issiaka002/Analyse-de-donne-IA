{
 "cells": [
  {
   "cell_type": "markdown",
   "id": "reliable-sense",
   "metadata": {},
   "source": [
    "<a href=\"https://colab.research.google.com/github/pia-fcse-bdeb/Cours-EDUlib/blob/master/module-3/Exercices/pratique_FE.ipynb\">\n",
    "  <img src=\"https://colab.research.google.com/assets/colab-badge.svg\" alt=\"Open In Colab\"/>\n",
    "</a>"
   ]
  },
  {
   "cell_type": "markdown",
   "id": "modified-bracelet",
   "metadata": {},
   "source": [
    "# Pratique Feature Engineering"
   ]
  },
  {
   "cell_type": "markdown",
   "id": "fuzzy-zealand",
   "metadata": {},
   "source": [
    "## Lire le fichier de données en utilisant pandas.read_csv"
   ]
  },
  {
   "cell_type": "markdown",
   "id": "pacific-server",
   "metadata": {},
   "source": [
    "On vous fournit les lignes de codes qui permettent de charger les données, vous pouvez soit :\n",
    "* Télécharger le fichier de données et procéder à son chargement sur votre machine locale ou bien sur google Colab. Pour cela, il vous faut décommenter la **cellule A** et commenter la **cellule B**.\n",
    "* Charger les données directement depuis google drive sans avoir à télécharger le fichier sur votre machine locale. Pour ce faire, utilisez les lignes de code de la **cellule B**.\n"
   ]
  },
  {
   "cell_type": "markdown",
   "id": "everyday-knife",
   "metadata": {},
   "source": [
    "### Cellule A"
   ]
  },
  {
   "cell_type": "code",
   "execution_count": 1,
   "id": "atomic-gates",
   "metadata": {},
   "outputs": [
    {
     "name": "stdout",
     "output_type": "stream",
     "text": [
      "C:\\Users\\HP\\Analyse de donnee pour IA\n",
      "C:\\Users\\HP\\Analyse de donnee pour IA\\fichiers\n"
     ]
    }
   ],
   "source": [
    "# # importer la librairie pandas\n",
    "# import pandas as pd\n",
    "# # lecture du fichier de données\n",
    "# data = pd.read_csv(\"data_spectacle.csv\")\n",
    "%cd ..\n",
    "%cd fichiers"
   ]
  },
  {
   "cell_type": "markdown",
   "id": "educational-synthesis",
   "metadata": {},
   "source": [
    "### Cellule B"
   ]
  },
  {
   "cell_type": "code",
   "execution_count": 2,
   "id": "outdoor-cooper",
   "metadata": {},
   "outputs": [],
   "source": [
    "# importer la librairie pandas\n",
    "import pandas as pd\n",
    "\n",
    "# charger les données contenues dans un fichiers csv se trouvant sur drive\n",
    "#URL = 'https://drive.google.com/file/d/1PLwbhFdvisCRmKvaMbQp7NqmDYMQGjTV/view?usp=sharing'\n",
    "#data_spectacle = 'https://drive.google.com/uc?export=download&id='+URL.split('/')[-2]\n",
    "\n",
    "data = pd.read_csv(\"data_spectacle.csv\")"
   ]
  },
  {
   "cell_type": "code",
   "execution_count": 3,
   "id": "opened-optimum",
   "metadata": {},
   "outputs": [
    {
     "data": {
      "text/html": [
       "<div>\n",
       "<style scoped>\n",
       "    .dataframe tbody tr th:only-of-type {\n",
       "        vertical-align: middle;\n",
       "    }\n",
       "\n",
       "    .dataframe tbody tr th {\n",
       "        vertical-align: top;\n",
       "    }\n",
       "\n",
       "    .dataframe thead th {\n",
       "        text-align: right;\n",
       "    }\n",
       "</style>\n",
       "<table border=\"1\" class=\"dataframe\">\n",
       "  <thead>\n",
       "    <tr style=\"text-align: right;\">\n",
       "      <th></th>\n",
       "      <th>Naissance</th>\n",
       "      <th>Date_Achat</th>\n",
       "      <th>Num_Billet</th>\n",
       "      <th>Prix</th>\n",
       "    </tr>\n",
       "  </thead>\n",
       "  <tbody>\n",
       "    <tr>\n",
       "      <th>0</th>\n",
       "      <td>1997-05-20</td>\n",
       "      <td>2020-06-18</td>\n",
       "      <td>D20103</td>\n",
       "      <td>63.98</td>\n",
       "    </tr>\n",
       "    <tr>\n",
       "      <th>1</th>\n",
       "      <td>1980-10-21</td>\n",
       "      <td>2018-07-01</td>\n",
       "      <td>F18278</td>\n",
       "      <td>65.98</td>\n",
       "    </tr>\n",
       "    <tr>\n",
       "      <th>2</th>\n",
       "      <td>2006-04-09</td>\n",
       "      <td>2019-07-19</td>\n",
       "      <td>F19351</td>\n",
       "      <td>149.95</td>\n",
       "    </tr>\n",
       "    <tr>\n",
       "      <th>3</th>\n",
       "      <td>1981-07-13</td>\n",
       "      <td>2019-07-19</td>\n",
       "      <td>F19351</td>\n",
       "      <td>149.95</td>\n",
       "    </tr>\n",
       "    <tr>\n",
       "      <th>4</th>\n",
       "      <td>2000-03-03</td>\n",
       "      <td>2018-11-09</td>\n",
       "      <td>S18423</td>\n",
       "      <td>34.99</td>\n",
       "    </tr>\n",
       "    <tr>\n",
       "      <th>5</th>\n",
       "      <td>1994-01-17</td>\n",
       "      <td>2020-06-18</td>\n",
       "      <td>D20103</td>\n",
       "      <td>63.98</td>\n",
       "    </tr>\n",
       "    <tr>\n",
       "      <th>6</th>\n",
       "      <td>2009-04-01</td>\n",
       "      <td>2019-07-19</td>\n",
       "      <td>F19351</td>\n",
       "      <td>149.95</td>\n",
       "    </tr>\n",
       "    <tr>\n",
       "      <th>7</th>\n",
       "      <td>1982-03-27</td>\n",
       "      <td>2019-07-19</td>\n",
       "      <td>F19351</td>\n",
       "      <td>149.95</td>\n",
       "    </tr>\n",
       "    <tr>\n",
       "      <th>8</th>\n",
       "      <td>2006-10-17</td>\n",
       "      <td>2018-07-01</td>\n",
       "      <td>F18278</td>\n",
       "      <td>65.98</td>\n",
       "    </tr>\n",
       "    <tr>\n",
       "      <th>9</th>\n",
       "      <td>2009-07-27</td>\n",
       "      <td>2019-07-19</td>\n",
       "      <td>F19351</td>\n",
       "      <td>149.95</td>\n",
       "    </tr>\n",
       "  </tbody>\n",
       "</table>\n",
       "</div>"
      ],
      "text/plain": [
       "    Naissance  Date_Achat Num_Billet    Prix\n",
       "0  1997-05-20  2020-06-18     D20103   63.98\n",
       "1  1980-10-21  2018-07-01     F18278   65.98\n",
       "2  2006-04-09  2019-07-19     F19351  149.95\n",
       "3  1981-07-13  2019-07-19     F19351  149.95\n",
       "4  2000-03-03  2018-11-09     S18423   34.99\n",
       "5  1994-01-17  2020-06-18     D20103   63.98\n",
       "6  2009-04-01  2019-07-19     F19351  149.95\n",
       "7  1982-03-27  2019-07-19     F19351  149.95\n",
       "8  2006-10-17  2018-07-01     F18278   65.98\n",
       "9  2009-07-27  2019-07-19     F19351  149.95"
      ]
     },
     "execution_count": 3,
     "metadata": {},
     "output_type": "execute_result"
    }
   ],
   "source": [
    "# Afficher le dataframe\n",
    "df = data.copy()\n",
    "df"
   ]
  },
  {
   "cell_type": "markdown",
   "id": "stretch-regard",
   "metadata": {},
   "source": [
    "## Pratique 1"
   ]
  },
  {
   "cell_type": "code",
   "execution_count": null,
   "id": "rolled-victim",
   "metadata": {},
   "outputs": [],
   "source": [
    "# Procéder à la vérification du type de variables et à la conversion qui vous semble nécessaire.\n",
    "## Vérifier le type des variables \n",
    "df."
   ]
  },
  {
   "cell_type": "code",
   "execution_count": null,
   "id": "distant-translation",
   "metadata": {},
   "outputs": [],
   "source": [
    "## faire une conversion de type\n",
    "...\n",
    "..."
   ]
  },
  {
   "cell_type": "code",
   "execution_count": null,
   "id": "chicken-bleeding",
   "metadata": {},
   "outputs": [],
   "source": [
    "# Procéder à la création d’une colonne qui donne l’âge des clients\n",
    "df[\"Age\"] = ..."
   ]
  },
  {
   "cell_type": "code",
   "execution_count": null,
   "id": "convinced-northwest",
   "metadata": {},
   "outputs": [],
   "source": [
    "# Afficher le dataframe\n",
    "df"
   ]
  },
  {
   "cell_type": "code",
   "execution_count": null,
   "id": "documented-pleasure",
   "metadata": {},
   "outputs": [],
   "source": [
    "df.dtypes"
   ]
  },
  {
   "cell_type": "markdown",
   "id": "secure-treasury",
   "metadata": {},
   "source": [
    "On désir maintenant connaitre la catégorie d’âge à laquelle appartient chaque client, pour ce faire, on utilisera les correspondances suivantes :\n",
    "* Enfants -- > âge de 0 à 14 ans\n",
    "* Adolescents -- > âge de 15 à 24 ans\n",
    "* Adultes -- > âge de 25 à 64 ans\n",
    "* Aînés -- > âge de 65 et plus\n"
   ]
  },
  {
   "cell_type": "code",
   "execution_count": null,
   "id": "atmospheric-frontier",
   "metadata": {},
   "outputs": [],
   "source": [
    "# On commence par créer une fonction qui va se charger d'encoder les valeurs\n",
    "## Complétez la fonction age_categories pour créer une colonne qui donnera la catégorie d'âge à l'aide de la fonction map\n",
    "def age_categories(x):\n",
    "    return \"Enfants\" if x <= 14 ... "
   ]
  },
  {
   "cell_type": "code",
   "execution_count": null,
   "id": "excited-ordinary",
   "metadata": {},
   "outputs": [],
   "source": [
    "# Complétez la fonction age_categories pour créer une colonne qui donne la catégorie d'age à l'aide de la fonction map\n",
    "df[\"Age_categories\"] = ..."
   ]
  },
  {
   "cell_type": "code",
   "execution_count": null,
   "id": "liable-oxford",
   "metadata": {},
   "outputs": [],
   "source": [
    "# Vérification\n",
    "df"
   ]
  },
  {
   "cell_type": "code",
   "execution_count": null,
   "id": "parental-breast",
   "metadata": {},
   "outputs": [],
   "source": [
    "# Créer une colonne qui donne le prix unitaire des billets, vous pouvez reprendre le code vu dans la vidéo du cours\n",
    "## Créer un dictionnaire quantité billet\n",
    "qte = df[\"Num_Billet\"]...."
   ]
  },
  {
   "cell_type": "code",
   "execution_count": null,
   "id": "cardiac-sperm",
   "metadata": {},
   "outputs": [],
   "source": [
    "# Calcule du prix unitaire des billets\n",
    "df[\"Prix_unitaire\"] = ..."
   ]
  },
  {
   "cell_type": "code",
   "execution_count": null,
   "id": "decimal-mileage",
   "metadata": {},
   "outputs": [],
   "source": [
    "# Vérification, afficher le dataframe\n",
    "df"
   ]
  },
  {
   "cell_type": "markdown",
   "id": "frequent-chair",
   "metadata": {},
   "source": [
    "## pratique 2"
   ]
  },
  {
   "cell_type": "markdown",
   "id": "scenic-shooting",
   "metadata": {},
   "source": [
    "## list comprehension"
   ]
  },
  {
   "cell_type": "markdown",
   "id": "prepared-partner",
   "metadata": {},
   "source": [
    "La technique dite de liste compréhension consiste à insérer une boucle for à l’intérieur d’une liste. Pour mieux comprendre, on donne l’exemple suivant qui consiste à ajouter les nombres de 0 à 4 dans une liste."
   ]
  },
  {
   "cell_type": "markdown",
   "id": "latest-import",
   "metadata": {},
   "source": [
    "### méthode classique"
   ]
  },
  {
   "cell_type": "code",
   "execution_count": 4,
   "id": "integrated-flash",
   "metadata": {},
   "outputs": [],
   "source": [
    "# déclarer une liste vide\n",
    "liste_1 = []\n",
    "# dans une boucle, ajouter les éléments à la liste\n",
    "for i in range(5):\n",
    "    liste_1.append(i)    "
   ]
  },
  {
   "cell_type": "code",
   "execution_count": 5,
   "id": "quarterly-consideration",
   "metadata": {},
   "outputs": [
    {
     "name": "stdout",
     "output_type": "stream",
     "text": [
      "[0, 1, 2, 3, 4]\n"
     ]
    }
   ],
   "source": [
    "# afficher la liste_1\n",
    "print(liste_1)"
   ]
  },
  {
   "cell_type": "markdown",
   "id": "bronze-horizon",
   "metadata": {},
   "source": [
    "### list comprehension"
   ]
  },
  {
   "cell_type": "code",
   "execution_count": 6,
   "id": "qualified-vintage",
   "metadata": {},
   "outputs": [],
   "source": [
    "liste_2 = [i for i in range(5)]"
   ]
  },
  {
   "cell_type": "code",
   "execution_count": 7,
   "id": "scientific-width",
   "metadata": {},
   "outputs": [
    {
     "data": {
      "text/plain": [
       "[0, 1, 2, 3, 4]"
      ]
     },
     "execution_count": 7,
     "metadata": {},
     "output_type": "execute_result"
    }
   ],
   "source": [
    "# afficher la liste_2\n",
    "liste_2"
   ]
  },
  {
   "cell_type": "markdown",
   "id": "biblical-philippines",
   "metadata": {},
   "source": [
    "* Notes et explications:\n",
    "    * **[ i for i in range(5) ]** : signifie, générer une liste (car le code est entre crochets **[...]** ) qui contient les éléments \"i\" pour \"i\" dans range(5)\n",
    "    *  Les list comprehension sont très utilisées car: \n",
    "        * Car elles permettent de réduire le nombre de lignes de code nécessaires\n",
    "        * Elles font partie des bonnes pratiques\n",
    "        * Offrent un gain de temps en calcule     "
   ]
  },
  {
   "cell_type": "markdown",
   "id": "opposite-desktop",
   "metadata": {},
   "source": [
    "#### exemple 2"
   ]
  },
  {
   "cell_type": "code",
   "execution_count": 8,
   "id": "mature-finland",
   "metadata": {},
   "outputs": [],
   "source": [
    "# soit la liste d'éléments suivant:\n",
    "maliste = [\"1\",\"A\", \"B\", \"2\", \"C\", \"3\"]"
   ]
  },
  {
   "cell_type": "code",
   "execution_count": 9,
   "id": "exciting-correspondence",
   "metadata": {},
   "outputs": [],
   "source": [
    "# On peut facilement générer une liste contenant que les numéros et une autre que les lettres\n",
    "liste_num     = [element for element in maliste if     element.isdigit()]\n",
    "liste_lettres = [element for element in maliste if not element.isdigit()]"
   ]
  },
  {
   "cell_type": "code",
   "execution_count": 10,
   "id": "oriented-correlation",
   "metadata": {},
   "outputs": [
    {
     "name": "stdout",
     "output_type": "stream",
     "text": [
      "liste_num =  ['1', '2', '3'] et liste_lettres =  ['A', 'B', 'C']\n"
     ]
    }
   ],
   "source": [
    "# affichage\n",
    "print(\"liste_num = \", liste_num,  \"et liste_lettres = \", liste_lettres)"
   ]
  },
  {
   "cell_type": "markdown",
   "id": "shaped-extreme",
   "metadata": {},
   "source": [
    "* Note:\n",
    "    * **Essayez d'utiliser list comprehension pour le reste de l'exercice**"
   ]
  },
  {
   "cell_type": "markdown",
   "id": "egyptian-indie",
   "metadata": {},
   "source": [
    "## charger les données"
   ]
  },
  {
   "cell_type": "code",
   "execution_count": 11,
   "id": "divine-medication",
   "metadata": {},
   "outputs": [
    {
     "data": {
      "text/html": [
       "<div>\n",
       "<style scoped>\n",
       "    .dataframe tbody tr th:only-of-type {\n",
       "        vertical-align: middle;\n",
       "    }\n",
       "\n",
       "    .dataframe tbody tr th {\n",
       "        vertical-align: top;\n",
       "    }\n",
       "\n",
       "    .dataframe thead th {\n",
       "        text-align: right;\n",
       "    }\n",
       "</style>\n",
       "<table border=\"1\" class=\"dataframe\">\n",
       "  <thead>\n",
       "    <tr style=\"text-align: right;\">\n",
       "      <th></th>\n",
       "      <th>Documents</th>\n",
       "    </tr>\n",
       "  </thead>\n",
       "  <tbody>\n",
       "    <tr>\n",
       "      <th>0</th>\n",
       "      <td>La connaissance s'acquiert par l'expérience, t...</td>\n",
       "    </tr>\n",
       "    <tr>\n",
       "      <th>1</th>\n",
       "      <td>Qui veut aller loin ménage sa monture.</td>\n",
       "    </tr>\n",
       "    <tr>\n",
       "      <th>2</th>\n",
       "      <td>Un arbre qui tombe fait plus de bruit qu'une f...</td>\n",
       "    </tr>\n",
       "    <tr>\n",
       "      <th>3</th>\n",
       "      <td>À vaincre sans péril, on triomphe sans gloire!</td>\n",
       "    </tr>\n",
       "    <tr>\n",
       "      <th>4</th>\n",
       "      <td>Un homme n'est jamais si grand que lorsqu'il e...</td>\n",
       "    </tr>\n",
       "  </tbody>\n",
       "</table>\n",
       "</div>"
      ],
      "text/plain": [
       "                                           Documents\n",
       "0  La connaissance s'acquiert par l'expérience, t...\n",
       "1             Qui veut aller loin ménage sa monture.\n",
       "2  Un arbre qui tombe fait plus de bruit qu'une f...\n",
       "3    À vaincre sans péril, on triomphe sans gloire! \n",
       "4  Un homme n'est jamais si grand que lorsqu'il e..."
      ]
     },
     "execution_count": 11,
     "metadata": {},
     "output_type": "execute_result"
    }
   ],
   "source": [
    "# Importer pandas\n",
    "import pandas as pd\n",
    "\n",
    "# charger les données contenues dans un fichiers csv se trouvant sur drive\n",
    "URL = 'https://drive.google.com/file/d/1nihuawEZ18ljI83_ajW8sR4xF2ckO-b1/view?usp=sharing'\n",
    "data_texte = 'https://drive.google.com/uc?export=download&id='+URL.split('/')[-2]\n",
    "\n",
    "# Charger les données\n",
    "df = pd.read_csv(data_texte)\n",
    "# Afficher dataframe\n",
    "df"
   ]
  },
  {
   "cell_type": "code",
   "execution_count": null,
   "id": "recreational-yeast",
   "metadata": {},
   "outputs": [],
   "source": [
    "# Installer TextBlob\n",
    "!pip install  TextBlob"
   ]
  },
  {
   "cell_type": "code",
   "execution_count": null,
   "id": "historical-muslim",
   "metadata": {},
   "outputs": [],
   "source": [
    "# importer TextBlob\n",
    "from textblob import TextBlob"
   ]
  },
  {
   "cell_type": "code",
   "execution_count": null,
   "id": "brave-lodging",
   "metadata": {},
   "outputs": [],
   "source": [
    "# Comme on l'a vu dans la vidéo du cours, à l'aide de TextBlob, proceder à la tokenisation des documents, \n",
    "df[\"tokens\"] = ..."
   ]
  },
  {
   "cell_type": "code",
   "execution_count": null,
   "id": "collect-receptor",
   "metadata": {},
   "outputs": [],
   "source": [
    "# Afficher le dataframe\n",
    "df"
   ]
  },
  {
   "cell_type": "markdown",
   "id": "median-sense",
   "metadata": {},
   "source": [
    "#### nombre de mots"
   ]
  },
  {
   "cell_type": "code",
   "execution_count": null,
   "id": "wooden-spare",
   "metadata": {},
   "outputs": [],
   "source": [
    "# Créer la colonne qui donne le nombre de mots dans chaque document\n",
    "df[\"nbr_mot\"] = df[\"tokens\"].map( ... )"
   ]
  },
  {
   "cell_type": "code",
   "execution_count": null,
   "id": "consistent-crawford",
   "metadata": {},
   "outputs": [],
   "source": [
    "# Afficher le dataframe\n",
    "df"
   ]
  },
  {
   "cell_type": "markdown",
   "id": "graphic-depth",
   "metadata": {},
   "source": [
    "#### longueur moyenne des mots"
   ]
  },
  {
   "cell_type": "code",
   "execution_count": null,
   "id": "beginning-adoption",
   "metadata": {},
   "outputs": [],
   "source": [
    "# Créer la colonne qui donne la longueur moyenne des mots dans chaque document\n",
    "df[\"longueur_moyenne\"] = df[\"tokens\"].map( ... )  "
   ]
  },
  {
   "cell_type": "code",
   "execution_count": null,
   "id": "advance-entry",
   "metadata": {},
   "outputs": [],
   "source": [
    "# Afficher le dataframe\n",
    "df"
   ]
  },
  {
   "cell_type": "markdown",
   "id": "sharp-target",
   "metadata": {},
   "source": [
    "#### nombre de stop words fr"
   ]
  },
  {
   "cell_type": "code",
   "execution_count": null,
   "id": "signed-israeli",
   "metadata": {},
   "outputs": [],
   "source": [
    "# On vous donne la liste de stop words en français suivante:\n",
    "liste_sw_fr = ['au', 'aux', 'avec', 'qui', 'ce', 'ces', 'dans', 'sa', 'de', 'des', 'du', 'elle', 'en', 'et', 'eux','à', 'on',\n",
    "              'la', 'par', 'le', 'que', 'un', 'est', 'pour']"
   ]
  },
  {
   "cell_type": "code",
   "execution_count": null,
   "id": "composite-demographic",
   "metadata": {},
   "outputs": [],
   "source": [
    "# Créer la colonne qui donne le nombre de sopt words en français dans chaque document\n",
    "df[\"nbr_stop_words\"] = df.tokens.map( ... )"
   ]
  },
  {
   "cell_type": "code",
   "execution_count": null,
   "id": "helpful-vulnerability",
   "metadata": {},
   "outputs": [],
   "source": [
    "# Afficher le dataframe\n",
    "df"
   ]
  },
  {
   "cell_type": "code",
   "execution_count": null,
   "id": "alpha-bumper",
   "metadata": {},
   "outputs": [],
   "source": []
  },
  {
   "cell_type": "code",
   "execution_count": null,
   "id": "living-optimization",
   "metadata": {},
   "outputs": [],
   "source": []
  },
  {
   "cell_type": "code",
   "execution_count": null,
   "id": "pediatric-creativity",
   "metadata": {},
   "outputs": [],
   "source": []
  },
  {
   "cell_type": "code",
   "execution_count": null,
   "id": "fantastic-meter",
   "metadata": {},
   "outputs": [],
   "source": []
  },
  {
   "cell_type": "code",
   "execution_count": null,
   "id": "missing-sunrise",
   "metadata": {},
   "outputs": [],
   "source": []
  },
  {
   "cell_type": "code",
   "execution_count": null,
   "id": "abroad-transport",
   "metadata": {},
   "outputs": [],
   "source": []
  },
  {
   "cell_type": "code",
   "execution_count": null,
   "id": "opposed-architecture",
   "metadata": {},
   "outputs": [],
   "source": []
  },
  {
   "cell_type": "code",
   "execution_count": null,
   "id": "interim-manual",
   "metadata": {},
   "outputs": [],
   "source": []
  },
  {
   "cell_type": "code",
   "execution_count": null,
   "id": "circular-pulse",
   "metadata": {},
   "outputs": [],
   "source": []
  },
  {
   "cell_type": "code",
   "execution_count": null,
   "id": "logical-identifier",
   "metadata": {},
   "outputs": [],
   "source": []
  },
  {
   "cell_type": "code",
   "execution_count": null,
   "id": "generic-dubai",
   "metadata": {},
   "outputs": [],
   "source": []
  },
  {
   "cell_type": "code",
   "execution_count": null,
   "id": "white-nation",
   "metadata": {},
   "outputs": [],
   "source": []
  },
  {
   "cell_type": "markdown",
   "id": "turned-label",
   "metadata": {},
   "source": [
    "# Solutionnaire"
   ]
  },
  {
   "cell_type": "markdown",
   "id": "tested-tower",
   "metadata": {},
   "source": [
    "## pratique 1"
   ]
  },
  {
   "cell_type": "code",
   "execution_count": 12,
   "id": "developed-contemporary",
   "metadata": {},
   "outputs": [],
   "source": [
    "# importer la librairie pandas\n",
    "import pandas as pd\n",
    "\n",
    "# charger les données contenues dans un fichiers csv se trouvant sur drive\n",
    "URL = 'https://drive.google.com/file/d/1PLwbhFdvisCRmKvaMbQp7NqmDYMQGjTV/view?usp=sharing'\n",
    "\n",
    "data_spectacle = 'https://drive.google.com/uc?export=download&id='+URL.split('/')[-2]\n",
    "data = pd.read_csv(data_spectacle)"
   ]
  },
  {
   "cell_type": "code",
   "execution_count": 13,
   "id": "willing-robert",
   "metadata": {},
   "outputs": [
    {
     "data": {
      "text/html": [
       "<div>\n",
       "<style scoped>\n",
       "    .dataframe tbody tr th:only-of-type {\n",
       "        vertical-align: middle;\n",
       "    }\n",
       "\n",
       "    .dataframe tbody tr th {\n",
       "        vertical-align: top;\n",
       "    }\n",
       "\n",
       "    .dataframe thead th {\n",
       "        text-align: right;\n",
       "    }\n",
       "</style>\n",
       "<table border=\"1\" class=\"dataframe\">\n",
       "  <thead>\n",
       "    <tr style=\"text-align: right;\">\n",
       "      <th></th>\n",
       "      <th>Naissance</th>\n",
       "      <th>Date_Achat</th>\n",
       "      <th>Num_Billet</th>\n",
       "      <th>Prix</th>\n",
       "    </tr>\n",
       "  </thead>\n",
       "  <tbody>\n",
       "    <tr>\n",
       "      <th>0</th>\n",
       "      <td>1997-05-20</td>\n",
       "      <td>2020-06-18</td>\n",
       "      <td>D20103</td>\n",
       "      <td>63.98</td>\n",
       "    </tr>\n",
       "    <tr>\n",
       "      <th>1</th>\n",
       "      <td>1980-10-21</td>\n",
       "      <td>2018-07-01</td>\n",
       "      <td>F18278</td>\n",
       "      <td>65.98</td>\n",
       "    </tr>\n",
       "    <tr>\n",
       "      <th>2</th>\n",
       "      <td>2006-04-09</td>\n",
       "      <td>2019-07-19</td>\n",
       "      <td>F19351</td>\n",
       "      <td>149.95</td>\n",
       "    </tr>\n",
       "    <tr>\n",
       "      <th>3</th>\n",
       "      <td>1981-07-13</td>\n",
       "      <td>2019-07-19</td>\n",
       "      <td>F19351</td>\n",
       "      <td>149.95</td>\n",
       "    </tr>\n",
       "    <tr>\n",
       "      <th>4</th>\n",
       "      <td>2000-03-03</td>\n",
       "      <td>2018-11-09</td>\n",
       "      <td>S18423</td>\n",
       "      <td>34.99</td>\n",
       "    </tr>\n",
       "    <tr>\n",
       "      <th>5</th>\n",
       "      <td>1994-01-17</td>\n",
       "      <td>2020-06-18</td>\n",
       "      <td>D20103</td>\n",
       "      <td>63.98</td>\n",
       "    </tr>\n",
       "    <tr>\n",
       "      <th>6</th>\n",
       "      <td>2009-04-01</td>\n",
       "      <td>2019-07-19</td>\n",
       "      <td>F19351</td>\n",
       "      <td>149.95</td>\n",
       "    </tr>\n",
       "    <tr>\n",
       "      <th>7</th>\n",
       "      <td>1982-03-27</td>\n",
       "      <td>2019-07-19</td>\n",
       "      <td>F19351</td>\n",
       "      <td>149.95</td>\n",
       "    </tr>\n",
       "    <tr>\n",
       "      <th>8</th>\n",
       "      <td>2006-10-17</td>\n",
       "      <td>2018-07-01</td>\n",
       "      <td>F18278</td>\n",
       "      <td>65.98</td>\n",
       "    </tr>\n",
       "    <tr>\n",
       "      <th>9</th>\n",
       "      <td>2009-07-27</td>\n",
       "      <td>2019-07-19</td>\n",
       "      <td>F19351</td>\n",
       "      <td>149.95</td>\n",
       "    </tr>\n",
       "  </tbody>\n",
       "</table>\n",
       "</div>"
      ],
      "text/plain": [
       "    Naissance  Date_Achat Num_Billet    Prix\n",
       "0  1997-05-20  2020-06-18     D20103   63.98\n",
       "1  1980-10-21  2018-07-01     F18278   65.98\n",
       "2  2006-04-09  2019-07-19     F19351  149.95\n",
       "3  1981-07-13  2019-07-19     F19351  149.95\n",
       "4  2000-03-03  2018-11-09     S18423   34.99\n",
       "5  1994-01-17  2020-06-18     D20103   63.98\n",
       "6  2009-04-01  2019-07-19     F19351  149.95\n",
       "7  1982-03-27  2019-07-19     F19351  149.95\n",
       "8  2006-10-17  2018-07-01     F18278   65.98\n",
       "9  2009-07-27  2019-07-19     F19351  149.95"
      ]
     },
     "execution_count": 13,
     "metadata": {},
     "output_type": "execute_result"
    }
   ],
   "source": [
    "# Afficher le dataframe\n",
    "df = data.copy()\n",
    "df"
   ]
  },
  {
   "cell_type": "code",
   "execution_count": 14,
   "id": "acquired-apartment",
   "metadata": {},
   "outputs": [
    {
     "data": {
      "text/plain": [
       "Naissance      object\n",
       "Date_Achat     object\n",
       "Num_Billet     object\n",
       "Prix          float64\n",
       "dtype: object"
      ]
     },
     "execution_count": 14,
     "metadata": {},
     "output_type": "execute_result"
    }
   ],
   "source": [
    "# voir le type des variables\n",
    "df.dtypes"
   ]
  },
  {
   "cell_type": "code",
   "execution_count": 15,
   "id": "attractive-coordination",
   "metadata": {},
   "outputs": [],
   "source": [
    "# faire une conversion de type\n",
    "df[\"Naissance\"] = pd.to_datetime(df.Naissance)\n",
    "df[\"Date_Achat\"] = pd.to_datetime(df.Date_Achat)"
   ]
  },
  {
   "cell_type": "code",
   "execution_count": 16,
   "id": "touched-encounter",
   "metadata": {},
   "outputs": [
    {
     "data": {
      "text/plain": [
       "Naissance     datetime64[ns]\n",
       "Date_Achat    datetime64[ns]\n",
       "Num_Billet            object\n",
       "Prix                 float64\n",
       "dtype: object"
      ]
     },
     "execution_count": 16,
     "metadata": {},
     "output_type": "execute_result"
    }
   ],
   "source": [
    "# Vérification\n",
    "df.dtypes"
   ]
  },
  {
   "cell_type": "code",
   "execution_count": 17,
   "id": "julian-gnome",
   "metadata": {},
   "outputs": [],
   "source": [
    "# Procéder à la création d’une colonne qui donne l’âge des clients\n",
    "df[\"Age\"] = df[\"Date_Achat\"].dt.year - df[\"Naissance\"].dt.year"
   ]
  },
  {
   "cell_type": "code",
   "execution_count": 18,
   "id": "trained-dressing",
   "metadata": {},
   "outputs": [
    {
     "data": {
      "text/html": [
       "<div>\n",
       "<style scoped>\n",
       "    .dataframe tbody tr th:only-of-type {\n",
       "        vertical-align: middle;\n",
       "    }\n",
       "\n",
       "    .dataframe tbody tr th {\n",
       "        vertical-align: top;\n",
       "    }\n",
       "\n",
       "    .dataframe thead th {\n",
       "        text-align: right;\n",
       "    }\n",
       "</style>\n",
       "<table border=\"1\" class=\"dataframe\">\n",
       "  <thead>\n",
       "    <tr style=\"text-align: right;\">\n",
       "      <th></th>\n",
       "      <th>Naissance</th>\n",
       "      <th>Date_Achat</th>\n",
       "      <th>Num_Billet</th>\n",
       "      <th>Prix</th>\n",
       "      <th>Age</th>\n",
       "    </tr>\n",
       "  </thead>\n",
       "  <tbody>\n",
       "    <tr>\n",
       "      <th>0</th>\n",
       "      <td>1997-05-20</td>\n",
       "      <td>2020-06-18</td>\n",
       "      <td>D20103</td>\n",
       "      <td>63.98</td>\n",
       "      <td>23</td>\n",
       "    </tr>\n",
       "    <tr>\n",
       "      <th>1</th>\n",
       "      <td>1980-10-21</td>\n",
       "      <td>2018-07-01</td>\n",
       "      <td>F18278</td>\n",
       "      <td>65.98</td>\n",
       "      <td>38</td>\n",
       "    </tr>\n",
       "    <tr>\n",
       "      <th>2</th>\n",
       "      <td>2006-04-09</td>\n",
       "      <td>2019-07-19</td>\n",
       "      <td>F19351</td>\n",
       "      <td>149.95</td>\n",
       "      <td>13</td>\n",
       "    </tr>\n",
       "    <tr>\n",
       "      <th>3</th>\n",
       "      <td>1981-07-13</td>\n",
       "      <td>2019-07-19</td>\n",
       "      <td>F19351</td>\n",
       "      <td>149.95</td>\n",
       "      <td>38</td>\n",
       "    </tr>\n",
       "    <tr>\n",
       "      <th>4</th>\n",
       "      <td>2000-03-03</td>\n",
       "      <td>2018-11-09</td>\n",
       "      <td>S18423</td>\n",
       "      <td>34.99</td>\n",
       "      <td>18</td>\n",
       "    </tr>\n",
       "    <tr>\n",
       "      <th>5</th>\n",
       "      <td>1994-01-17</td>\n",
       "      <td>2020-06-18</td>\n",
       "      <td>D20103</td>\n",
       "      <td>63.98</td>\n",
       "      <td>26</td>\n",
       "    </tr>\n",
       "    <tr>\n",
       "      <th>6</th>\n",
       "      <td>2009-04-01</td>\n",
       "      <td>2019-07-19</td>\n",
       "      <td>F19351</td>\n",
       "      <td>149.95</td>\n",
       "      <td>10</td>\n",
       "    </tr>\n",
       "    <tr>\n",
       "      <th>7</th>\n",
       "      <td>1982-03-27</td>\n",
       "      <td>2019-07-19</td>\n",
       "      <td>F19351</td>\n",
       "      <td>149.95</td>\n",
       "      <td>37</td>\n",
       "    </tr>\n",
       "    <tr>\n",
       "      <th>8</th>\n",
       "      <td>2006-10-17</td>\n",
       "      <td>2018-07-01</td>\n",
       "      <td>F18278</td>\n",
       "      <td>65.98</td>\n",
       "      <td>12</td>\n",
       "    </tr>\n",
       "    <tr>\n",
       "      <th>9</th>\n",
       "      <td>2009-07-27</td>\n",
       "      <td>2019-07-19</td>\n",
       "      <td>F19351</td>\n",
       "      <td>149.95</td>\n",
       "      <td>10</td>\n",
       "    </tr>\n",
       "  </tbody>\n",
       "</table>\n",
       "</div>"
      ],
      "text/plain": [
       "   Naissance Date_Achat Num_Billet    Prix  Age\n",
       "0 1997-05-20 2020-06-18     D20103   63.98   23\n",
       "1 1980-10-21 2018-07-01     F18278   65.98   38\n",
       "2 2006-04-09 2019-07-19     F19351  149.95   13\n",
       "3 1981-07-13 2019-07-19     F19351  149.95   38\n",
       "4 2000-03-03 2018-11-09     S18423   34.99   18\n",
       "5 1994-01-17 2020-06-18     D20103   63.98   26\n",
       "6 2009-04-01 2019-07-19     F19351  149.95   10\n",
       "7 1982-03-27 2019-07-19     F19351  149.95   37\n",
       "8 2006-10-17 2018-07-01     F18278   65.98   12\n",
       "9 2009-07-27 2019-07-19     F19351  149.95   10"
      ]
     },
     "execution_count": 18,
     "metadata": {},
     "output_type": "execute_result"
    }
   ],
   "source": [
    "# Afficher le dataframe\n",
    "df"
   ]
  },
  {
   "cell_type": "markdown",
   "id": "honest-unemployment",
   "metadata": {},
   "source": [
    "On désire maintenant connaitre la catégorie d’âge à laquelle appartient chaque client, pour ce faire, on utilisera les correspondances suivantes :\n",
    "* Enfants -- > âge de 0 à 14 ans\n",
    "* Adolescents -- > âge de 15 à 24 ans\n",
    "* Adultes -- > âge de 25 à 64 ans\n",
    "* Aînés -- > âge de 65 et plus\n"
   ]
  },
  {
   "cell_type": "code",
   "execution_count": 19,
   "id": "anticipated-values",
   "metadata": {},
   "outputs": [],
   "source": [
    "# On commence par créer une fonction qui va se charger d'encoder les valeurs\n",
    "## Complétez la fonction age_categories pour créer une colonne qui donnera la catégorie d'âge à l'aide de la fonction map\n",
    "def age_categories(x):\n",
    "    return \"Enfants\" if x <= 14 else \"Adolescents\" if x <= 24 else \"Adultes\" if x <= 64 else \"Aînés\" "
   ]
  },
  {
   "cell_type": "code",
   "execution_count": 20,
   "id": "overall-relative",
   "metadata": {},
   "outputs": [],
   "source": [
    "# Créer une colonne qui donne l'age des clients\n",
    "df[\"Age_categories\"] = df[\"Age\"].map( lambda age: age_categories(age) )"
   ]
  },
  {
   "cell_type": "code",
   "execution_count": 21,
   "id": "proprietary-butterfly",
   "metadata": {},
   "outputs": [
    {
     "data": {
      "text/html": [
       "<div>\n",
       "<style scoped>\n",
       "    .dataframe tbody tr th:only-of-type {\n",
       "        vertical-align: middle;\n",
       "    }\n",
       "\n",
       "    .dataframe tbody tr th {\n",
       "        vertical-align: top;\n",
       "    }\n",
       "\n",
       "    .dataframe thead th {\n",
       "        text-align: right;\n",
       "    }\n",
       "</style>\n",
       "<table border=\"1\" class=\"dataframe\">\n",
       "  <thead>\n",
       "    <tr style=\"text-align: right;\">\n",
       "      <th></th>\n",
       "      <th>Naissance</th>\n",
       "      <th>Date_Achat</th>\n",
       "      <th>Num_Billet</th>\n",
       "      <th>Prix</th>\n",
       "      <th>Age</th>\n",
       "      <th>Age_categories</th>\n",
       "    </tr>\n",
       "  </thead>\n",
       "  <tbody>\n",
       "    <tr>\n",
       "      <th>0</th>\n",
       "      <td>1997-05-20</td>\n",
       "      <td>2020-06-18</td>\n",
       "      <td>D20103</td>\n",
       "      <td>63.98</td>\n",
       "      <td>23</td>\n",
       "      <td>Adolescents</td>\n",
       "    </tr>\n",
       "    <tr>\n",
       "      <th>1</th>\n",
       "      <td>1980-10-21</td>\n",
       "      <td>2018-07-01</td>\n",
       "      <td>F18278</td>\n",
       "      <td>65.98</td>\n",
       "      <td>38</td>\n",
       "      <td>Adultes</td>\n",
       "    </tr>\n",
       "    <tr>\n",
       "      <th>2</th>\n",
       "      <td>2006-04-09</td>\n",
       "      <td>2019-07-19</td>\n",
       "      <td>F19351</td>\n",
       "      <td>149.95</td>\n",
       "      <td>13</td>\n",
       "      <td>Enfants</td>\n",
       "    </tr>\n",
       "    <tr>\n",
       "      <th>3</th>\n",
       "      <td>1981-07-13</td>\n",
       "      <td>2019-07-19</td>\n",
       "      <td>F19351</td>\n",
       "      <td>149.95</td>\n",
       "      <td>38</td>\n",
       "      <td>Adultes</td>\n",
       "    </tr>\n",
       "    <tr>\n",
       "      <th>4</th>\n",
       "      <td>2000-03-03</td>\n",
       "      <td>2018-11-09</td>\n",
       "      <td>S18423</td>\n",
       "      <td>34.99</td>\n",
       "      <td>18</td>\n",
       "      <td>Adolescents</td>\n",
       "    </tr>\n",
       "    <tr>\n",
       "      <th>5</th>\n",
       "      <td>1994-01-17</td>\n",
       "      <td>2020-06-18</td>\n",
       "      <td>D20103</td>\n",
       "      <td>63.98</td>\n",
       "      <td>26</td>\n",
       "      <td>Adultes</td>\n",
       "    </tr>\n",
       "    <tr>\n",
       "      <th>6</th>\n",
       "      <td>2009-04-01</td>\n",
       "      <td>2019-07-19</td>\n",
       "      <td>F19351</td>\n",
       "      <td>149.95</td>\n",
       "      <td>10</td>\n",
       "      <td>Enfants</td>\n",
       "    </tr>\n",
       "    <tr>\n",
       "      <th>7</th>\n",
       "      <td>1982-03-27</td>\n",
       "      <td>2019-07-19</td>\n",
       "      <td>F19351</td>\n",
       "      <td>149.95</td>\n",
       "      <td>37</td>\n",
       "      <td>Adultes</td>\n",
       "    </tr>\n",
       "    <tr>\n",
       "      <th>8</th>\n",
       "      <td>2006-10-17</td>\n",
       "      <td>2018-07-01</td>\n",
       "      <td>F18278</td>\n",
       "      <td>65.98</td>\n",
       "      <td>12</td>\n",
       "      <td>Enfants</td>\n",
       "    </tr>\n",
       "    <tr>\n",
       "      <th>9</th>\n",
       "      <td>2009-07-27</td>\n",
       "      <td>2019-07-19</td>\n",
       "      <td>F19351</td>\n",
       "      <td>149.95</td>\n",
       "      <td>10</td>\n",
       "      <td>Enfants</td>\n",
       "    </tr>\n",
       "  </tbody>\n",
       "</table>\n",
       "</div>"
      ],
      "text/plain": [
       "   Naissance Date_Achat Num_Billet    Prix  Age Age_categories\n",
       "0 1997-05-20 2020-06-18     D20103   63.98   23    Adolescents\n",
       "1 1980-10-21 2018-07-01     F18278   65.98   38        Adultes\n",
       "2 2006-04-09 2019-07-19     F19351  149.95   13        Enfants\n",
       "3 1981-07-13 2019-07-19     F19351  149.95   38        Adultes\n",
       "4 2000-03-03 2018-11-09     S18423   34.99   18    Adolescents\n",
       "5 1994-01-17 2020-06-18     D20103   63.98   26        Adultes\n",
       "6 2009-04-01 2019-07-19     F19351  149.95   10        Enfants\n",
       "7 1982-03-27 2019-07-19     F19351  149.95   37        Adultes\n",
       "8 2006-10-17 2018-07-01     F18278   65.98   12        Enfants\n",
       "9 2009-07-27 2019-07-19     F19351  149.95   10        Enfants"
      ]
     },
     "execution_count": 21,
     "metadata": {},
     "output_type": "execute_result"
    }
   ],
   "source": [
    "# Afficher le dataframe\n",
    "df"
   ]
  },
  {
   "cell_type": "code",
   "execution_count": 22,
   "id": "visible-jaguar",
   "metadata": {},
   "outputs": [],
   "source": [
    "# Créer une colonne qui donne le prix unitaire des billets, vous pouvez reprendre le code vu dans la vidéo du cours\n",
    "## Créer un dictionnaire quantité billet\n",
    "qte = df[\"Num_Billet\"].value_counts().to_dict()"
   ]
  },
  {
   "cell_type": "code",
   "execution_count": 23,
   "id": "fatty-bobby",
   "metadata": {},
   "outputs": [],
   "source": [
    "# Calcule du prix unitaire des billets\n",
    "df[\"Prix_unitaire\"] = df[\"Prix\"] / df[\"Num_Billet\"].map(lambda x: qte[x])"
   ]
  },
  {
   "cell_type": "code",
   "execution_count": 24,
   "id": "velvet-passion",
   "metadata": {},
   "outputs": [
    {
     "data": {
      "text/html": [
       "<div>\n",
       "<style scoped>\n",
       "    .dataframe tbody tr th:only-of-type {\n",
       "        vertical-align: middle;\n",
       "    }\n",
       "\n",
       "    .dataframe tbody tr th {\n",
       "        vertical-align: top;\n",
       "    }\n",
       "\n",
       "    .dataframe thead th {\n",
       "        text-align: right;\n",
       "    }\n",
       "</style>\n",
       "<table border=\"1\" class=\"dataframe\">\n",
       "  <thead>\n",
       "    <tr style=\"text-align: right;\">\n",
       "      <th></th>\n",
       "      <th>Naissance</th>\n",
       "      <th>Date_Achat</th>\n",
       "      <th>Num_Billet</th>\n",
       "      <th>Prix</th>\n",
       "      <th>Age</th>\n",
       "      <th>Age_categories</th>\n",
       "      <th>Prix_unitaire</th>\n",
       "    </tr>\n",
       "  </thead>\n",
       "  <tbody>\n",
       "    <tr>\n",
       "      <th>0</th>\n",
       "      <td>1997-05-20</td>\n",
       "      <td>2020-06-18</td>\n",
       "      <td>D20103</td>\n",
       "      <td>63.98</td>\n",
       "      <td>23</td>\n",
       "      <td>Adolescents</td>\n",
       "      <td>31.99</td>\n",
       "    </tr>\n",
       "    <tr>\n",
       "      <th>1</th>\n",
       "      <td>1980-10-21</td>\n",
       "      <td>2018-07-01</td>\n",
       "      <td>F18278</td>\n",
       "      <td>65.98</td>\n",
       "      <td>38</td>\n",
       "      <td>Adultes</td>\n",
       "      <td>32.99</td>\n",
       "    </tr>\n",
       "    <tr>\n",
       "      <th>2</th>\n",
       "      <td>2006-04-09</td>\n",
       "      <td>2019-07-19</td>\n",
       "      <td>F19351</td>\n",
       "      <td>149.95</td>\n",
       "      <td>13</td>\n",
       "      <td>Enfants</td>\n",
       "      <td>29.99</td>\n",
       "    </tr>\n",
       "    <tr>\n",
       "      <th>3</th>\n",
       "      <td>1981-07-13</td>\n",
       "      <td>2019-07-19</td>\n",
       "      <td>F19351</td>\n",
       "      <td>149.95</td>\n",
       "      <td>38</td>\n",
       "      <td>Adultes</td>\n",
       "      <td>29.99</td>\n",
       "    </tr>\n",
       "    <tr>\n",
       "      <th>4</th>\n",
       "      <td>2000-03-03</td>\n",
       "      <td>2018-11-09</td>\n",
       "      <td>S18423</td>\n",
       "      <td>34.99</td>\n",
       "      <td>18</td>\n",
       "      <td>Adolescents</td>\n",
       "      <td>34.99</td>\n",
       "    </tr>\n",
       "    <tr>\n",
       "      <th>5</th>\n",
       "      <td>1994-01-17</td>\n",
       "      <td>2020-06-18</td>\n",
       "      <td>D20103</td>\n",
       "      <td>63.98</td>\n",
       "      <td>26</td>\n",
       "      <td>Adultes</td>\n",
       "      <td>31.99</td>\n",
       "    </tr>\n",
       "    <tr>\n",
       "      <th>6</th>\n",
       "      <td>2009-04-01</td>\n",
       "      <td>2019-07-19</td>\n",
       "      <td>F19351</td>\n",
       "      <td>149.95</td>\n",
       "      <td>10</td>\n",
       "      <td>Enfants</td>\n",
       "      <td>29.99</td>\n",
       "    </tr>\n",
       "    <tr>\n",
       "      <th>7</th>\n",
       "      <td>1982-03-27</td>\n",
       "      <td>2019-07-19</td>\n",
       "      <td>F19351</td>\n",
       "      <td>149.95</td>\n",
       "      <td>37</td>\n",
       "      <td>Adultes</td>\n",
       "      <td>29.99</td>\n",
       "    </tr>\n",
       "    <tr>\n",
       "      <th>8</th>\n",
       "      <td>2006-10-17</td>\n",
       "      <td>2018-07-01</td>\n",
       "      <td>F18278</td>\n",
       "      <td>65.98</td>\n",
       "      <td>12</td>\n",
       "      <td>Enfants</td>\n",
       "      <td>32.99</td>\n",
       "    </tr>\n",
       "    <tr>\n",
       "      <th>9</th>\n",
       "      <td>2009-07-27</td>\n",
       "      <td>2019-07-19</td>\n",
       "      <td>F19351</td>\n",
       "      <td>149.95</td>\n",
       "      <td>10</td>\n",
       "      <td>Enfants</td>\n",
       "      <td>29.99</td>\n",
       "    </tr>\n",
       "  </tbody>\n",
       "</table>\n",
       "</div>"
      ],
      "text/plain": [
       "   Naissance Date_Achat Num_Billet    Prix  Age Age_categories  Prix_unitaire\n",
       "0 1997-05-20 2020-06-18     D20103   63.98   23    Adolescents          31.99\n",
       "1 1980-10-21 2018-07-01     F18278   65.98   38        Adultes          32.99\n",
       "2 2006-04-09 2019-07-19     F19351  149.95   13        Enfants          29.99\n",
       "3 1981-07-13 2019-07-19     F19351  149.95   38        Adultes          29.99\n",
       "4 2000-03-03 2018-11-09     S18423   34.99   18    Adolescents          34.99\n",
       "5 1994-01-17 2020-06-18     D20103   63.98   26        Adultes          31.99\n",
       "6 2009-04-01 2019-07-19     F19351  149.95   10        Enfants          29.99\n",
       "7 1982-03-27 2019-07-19     F19351  149.95   37        Adultes          29.99\n",
       "8 2006-10-17 2018-07-01     F18278   65.98   12        Enfants          32.99\n",
       "9 2009-07-27 2019-07-19     F19351  149.95   10        Enfants          29.99"
      ]
     },
     "execution_count": 24,
     "metadata": {},
     "output_type": "execute_result"
    }
   ],
   "source": [
    "# Afficher le dataframe\n",
    "df"
   ]
  },
  {
   "cell_type": "markdown",
   "id": "extreme-anger",
   "metadata": {},
   "source": [
    "## pratique 2"
   ]
  },
  {
   "cell_type": "code",
   "execution_count": 25,
   "id": "engaged-major",
   "metadata": {},
   "outputs": [
    {
     "data": {
      "text/html": [
       "<div>\n",
       "<style scoped>\n",
       "    .dataframe tbody tr th:only-of-type {\n",
       "        vertical-align: middle;\n",
       "    }\n",
       "\n",
       "    .dataframe tbody tr th {\n",
       "        vertical-align: top;\n",
       "    }\n",
       "\n",
       "    .dataframe thead th {\n",
       "        text-align: right;\n",
       "    }\n",
       "</style>\n",
       "<table border=\"1\" class=\"dataframe\">\n",
       "  <thead>\n",
       "    <tr style=\"text-align: right;\">\n",
       "      <th></th>\n",
       "      <th>Documents</th>\n",
       "    </tr>\n",
       "  </thead>\n",
       "  <tbody>\n",
       "    <tr>\n",
       "      <th>0</th>\n",
       "      <td>La connaissance s'acquiert par l'expérience, t...</td>\n",
       "    </tr>\n",
       "    <tr>\n",
       "      <th>1</th>\n",
       "      <td>Qui veut aller loin ménage sa monture.</td>\n",
       "    </tr>\n",
       "    <tr>\n",
       "      <th>2</th>\n",
       "      <td>Un arbre qui tombe fait plus de bruit qu'une f...</td>\n",
       "    </tr>\n",
       "    <tr>\n",
       "      <th>3</th>\n",
       "      <td>À vaincre sans péril, on triomphe sans gloire!</td>\n",
       "    </tr>\n",
       "    <tr>\n",
       "      <th>4</th>\n",
       "      <td>Un homme n'est jamais si grand que lorsqu'il e...</td>\n",
       "    </tr>\n",
       "  </tbody>\n",
       "</table>\n",
       "</div>"
      ],
      "text/plain": [
       "                                           Documents\n",
       "0  La connaissance s'acquiert par l'expérience, t...\n",
       "1             Qui veut aller loin ménage sa monture.\n",
       "2  Un arbre qui tombe fait plus de bruit qu'une f...\n",
       "3    À vaincre sans péril, on triomphe sans gloire! \n",
       "4  Un homme n'est jamais si grand que lorsqu'il e..."
      ]
     },
     "execution_count": 25,
     "metadata": {},
     "output_type": "execute_result"
    }
   ],
   "source": [
    "# Importer pandas\n",
    "import pandas as pd\n",
    "\n",
    "# charger les données contenues dans un fichiers csv se trouvant sur drive\n",
    "URL = 'https://drive.google.com/file/d/1nihuawEZ18ljI83_ajW8sR4xF2ckO-b1/view?usp=sharing'\n",
    "data_texte = 'https://drive.google.com/uc?export=download&id='+URL.split('/')[-2]\n",
    "\n",
    "# Charger les données\n",
    "df = pd.read_csv(data_texte)\n",
    "# Afficher dataframe\n",
    "df"
   ]
  },
  {
   "cell_type": "code",
   "execution_count": 26,
   "id": "appointed-hardware",
   "metadata": {},
   "outputs": [],
   "source": [
    "# Installer TextBlob\n",
    "# !pip install TextBlob\n",
    "\n",
    "# importer TextBlob\n",
    "from textblob import TextBlob"
   ]
  },
  {
   "cell_type": "markdown",
   "id": "inside-seeker",
   "metadata": {},
   "source": [
    "#### Tokenisation"
   ]
  },
  {
   "cell_type": "code",
   "execution_count": 27,
   "id": "extreme-listening",
   "metadata": {},
   "outputs": [],
   "source": [
    "# A l'aide de TextBlob, proceder à la tokenisation des documents\n",
    "df[\"tokens\"] = df[\"Documents\"].map(lambda doc: TextBlob(doc.lower()).words)"
   ]
  },
  {
   "cell_type": "code",
   "execution_count": 28,
   "id": "distributed-things",
   "metadata": {},
   "outputs": [
    {
     "data": {
      "text/html": [
       "<div>\n",
       "<style scoped>\n",
       "    .dataframe tbody tr th:only-of-type {\n",
       "        vertical-align: middle;\n",
       "    }\n",
       "\n",
       "    .dataframe tbody tr th {\n",
       "        vertical-align: top;\n",
       "    }\n",
       "\n",
       "    .dataframe thead th {\n",
       "        text-align: right;\n",
       "    }\n",
       "</style>\n",
       "<table border=\"1\" class=\"dataframe\">\n",
       "  <thead>\n",
       "    <tr style=\"text-align: right;\">\n",
       "      <th></th>\n",
       "      <th>Documents</th>\n",
       "      <th>tokens</th>\n",
       "    </tr>\n",
       "  </thead>\n",
       "  <tbody>\n",
       "    <tr>\n",
       "      <th>0</th>\n",
       "      <td>La connaissance s'acquiert par l'expérience, t...</td>\n",
       "      <td>[la, connaissance, s'acquiert, par, l'expérien...</td>\n",
       "    </tr>\n",
       "    <tr>\n",
       "      <th>1</th>\n",
       "      <td>Qui veut aller loin ménage sa monture.</td>\n",
       "      <td>[qui, veut, aller, loin, ménage, sa, monture]</td>\n",
       "    </tr>\n",
       "    <tr>\n",
       "      <th>2</th>\n",
       "      <td>Un arbre qui tombe fait plus de bruit qu'une f...</td>\n",
       "      <td>[un, arbre, qui, tombe, fait, plus, de, bruit,...</td>\n",
       "    </tr>\n",
       "    <tr>\n",
       "      <th>3</th>\n",
       "      <td>À vaincre sans péril, on triomphe sans gloire!</td>\n",
       "      <td>[à, vaincre, sans, péril, on, triomphe, sans, ...</td>\n",
       "    </tr>\n",
       "    <tr>\n",
       "      <th>4</th>\n",
       "      <td>Un homme n'est jamais si grand que lorsqu'il e...</td>\n",
       "      <td>[un, homme, n'est, jamais, si, grand, que, lor...</td>\n",
       "    </tr>\n",
       "  </tbody>\n",
       "</table>\n",
       "</div>"
      ],
      "text/plain": [
       "                                           Documents  \\\n",
       "0  La connaissance s'acquiert par l'expérience, t...   \n",
       "1             Qui veut aller loin ménage sa monture.   \n",
       "2  Un arbre qui tombe fait plus de bruit qu'une f...   \n",
       "3    À vaincre sans péril, on triomphe sans gloire!    \n",
       "4  Un homme n'est jamais si grand que lorsqu'il e...   \n",
       "\n",
       "                                              tokens  \n",
       "0  [la, connaissance, s'acquiert, par, l'expérien...  \n",
       "1      [qui, veut, aller, loin, ménage, sa, monture]  \n",
       "2  [un, arbre, qui, tombe, fait, plus, de, bruit,...  \n",
       "3  [à, vaincre, sans, péril, on, triomphe, sans, ...  \n",
       "4  [un, homme, n'est, jamais, si, grand, que, lor...  "
      ]
     },
     "execution_count": 28,
     "metadata": {},
     "output_type": "execute_result"
    }
   ],
   "source": [
    "# Afficher le dataframe\n",
    "df"
   ]
  },
  {
   "cell_type": "markdown",
   "id": "accurate-greenhouse",
   "metadata": {},
   "source": [
    "#### Nombre de mots"
   ]
  },
  {
   "cell_type": "code",
   "execution_count": 29,
   "id": "classical-individual",
   "metadata": {},
   "outputs": [],
   "source": [
    "# Trouver le nombre d emots dans le documents\n",
    "df[\"nbr_mot\"] = df[\"tokens\"].map(lambda x : len(x))"
   ]
  },
  {
   "cell_type": "code",
   "execution_count": 30,
   "id": "atomic-outreach",
   "metadata": {},
   "outputs": [
    {
     "data": {
      "text/html": [
       "<div>\n",
       "<style scoped>\n",
       "    .dataframe tbody tr th:only-of-type {\n",
       "        vertical-align: middle;\n",
       "    }\n",
       "\n",
       "    .dataframe tbody tr th {\n",
       "        vertical-align: top;\n",
       "    }\n",
       "\n",
       "    .dataframe thead th {\n",
       "        text-align: right;\n",
       "    }\n",
       "</style>\n",
       "<table border=\"1\" class=\"dataframe\">\n",
       "  <thead>\n",
       "    <tr style=\"text-align: right;\">\n",
       "      <th></th>\n",
       "      <th>Documents</th>\n",
       "      <th>tokens</th>\n",
       "      <th>nbr_mot</th>\n",
       "    </tr>\n",
       "  </thead>\n",
       "  <tbody>\n",
       "    <tr>\n",
       "      <th>0</th>\n",
       "      <td>La connaissance s'acquiert par l'expérience, t...</td>\n",
       "      <td>[la, connaissance, s'acquiert, par, l'expérien...</td>\n",
       "      <td>12</td>\n",
       "    </tr>\n",
       "    <tr>\n",
       "      <th>1</th>\n",
       "      <td>Qui veut aller loin ménage sa monture.</td>\n",
       "      <td>[qui, veut, aller, loin, ménage, sa, monture]</td>\n",
       "      <td>7</td>\n",
       "    </tr>\n",
       "    <tr>\n",
       "      <th>2</th>\n",
       "      <td>Un arbre qui tombe fait plus de bruit qu'une f...</td>\n",
       "      <td>[un, arbre, qui, tombe, fait, plus, de, bruit,...</td>\n",
       "      <td>12</td>\n",
       "    </tr>\n",
       "    <tr>\n",
       "      <th>3</th>\n",
       "      <td>À vaincre sans péril, on triomphe sans gloire!</td>\n",
       "      <td>[à, vaincre, sans, péril, on, triomphe, sans, ...</td>\n",
       "      <td>8</td>\n",
       "    </tr>\n",
       "    <tr>\n",
       "      <th>4</th>\n",
       "      <td>Un homme n'est jamais si grand que lorsqu'il e...</td>\n",
       "      <td>[un, homme, n'est, jamais, si, grand, que, lor...</td>\n",
       "      <td>15</td>\n",
       "    </tr>\n",
       "  </tbody>\n",
       "</table>\n",
       "</div>"
      ],
      "text/plain": [
       "                                           Documents  \\\n",
       "0  La connaissance s'acquiert par l'expérience, t...   \n",
       "1             Qui veut aller loin ménage sa monture.   \n",
       "2  Un arbre qui tombe fait plus de bruit qu'une f...   \n",
       "3    À vaincre sans péril, on triomphe sans gloire!    \n",
       "4  Un homme n'est jamais si grand que lorsqu'il e...   \n",
       "\n",
       "                                              tokens  nbr_mot  \n",
       "0  [la, connaissance, s'acquiert, par, l'expérien...       12  \n",
       "1      [qui, veut, aller, loin, ménage, sa, monture]        7  \n",
       "2  [un, arbre, qui, tombe, fait, plus, de, bruit,...       12  \n",
       "3  [à, vaincre, sans, péril, on, triomphe, sans, ...        8  \n",
       "4  [un, homme, n'est, jamais, si, grand, que, lor...       15  "
      ]
     },
     "execution_count": 30,
     "metadata": {},
     "output_type": "execute_result"
    }
   ],
   "source": [
    "# Afficher le dataframe\n",
    "df"
   ]
  },
  {
   "cell_type": "markdown",
   "id": "european-factory",
   "metadata": {},
   "source": [
    "#### Longueur moyenne des mots"
   ]
  },
  {
   "cell_type": "code",
   "execution_count": 31,
   "id": "played-flashing",
   "metadata": {},
   "outputs": [],
   "source": [
    "df[\"longueur_moyenne\"] = df[\"tokens\"].map(lambda document : sum(len(mot) for mot in document) / len(document))"
   ]
  },
  {
   "cell_type": "code",
   "execution_count": 32,
   "id": "bearing-championship",
   "metadata": {},
   "outputs": [
    {
     "data": {
      "text/html": [
       "<div>\n",
       "<style scoped>\n",
       "    .dataframe tbody tr th:only-of-type {\n",
       "        vertical-align: middle;\n",
       "    }\n",
       "\n",
       "    .dataframe tbody tr th {\n",
       "        vertical-align: top;\n",
       "    }\n",
       "\n",
       "    .dataframe thead th {\n",
       "        text-align: right;\n",
       "    }\n",
       "</style>\n",
       "<table border=\"1\" class=\"dataframe\">\n",
       "  <thead>\n",
       "    <tr style=\"text-align: right;\">\n",
       "      <th></th>\n",
       "      <th>Documents</th>\n",
       "      <th>tokens</th>\n",
       "      <th>nbr_mot</th>\n",
       "      <th>longueur_moyenne</th>\n",
       "    </tr>\n",
       "  </thead>\n",
       "  <tbody>\n",
       "    <tr>\n",
       "      <th>0</th>\n",
       "      <td>La connaissance s'acquiert par l'expérience, t...</td>\n",
       "      <td>[la, connaissance, s'acquiert, par, l'expérien...</td>\n",
       "      <td>12</td>\n",
       "      <td>6.083333</td>\n",
       "    </tr>\n",
       "    <tr>\n",
       "      <th>1</th>\n",
       "      <td>Qui veut aller loin ménage sa monture.</td>\n",
       "      <td>[qui, veut, aller, loin, ménage, sa, monture]</td>\n",
       "      <td>7</td>\n",
       "      <td>4.428571</td>\n",
       "    </tr>\n",
       "    <tr>\n",
       "      <th>2</th>\n",
       "      <td>Un arbre qui tombe fait plus de bruit qu'une f...</td>\n",
       "      <td>[un, arbre, qui, tombe, fait, plus, de, bruit,...</td>\n",
       "      <td>12</td>\n",
       "      <td>4.166667</td>\n",
       "    </tr>\n",
       "    <tr>\n",
       "      <th>3</th>\n",
       "      <td>À vaincre sans péril, on triomphe sans gloire!</td>\n",
       "      <td>[à, vaincre, sans, péril, on, triomphe, sans, ...</td>\n",
       "      <td>8</td>\n",
       "      <td>4.625000</td>\n",
       "    </tr>\n",
       "    <tr>\n",
       "      <th>4</th>\n",
       "      <td>Un homme n'est jamais si grand que lorsqu'il e...</td>\n",
       "      <td>[un, homme, n'est, jamais, si, grand, que, lor...</td>\n",
       "      <td>15</td>\n",
       "      <td>4.266667</td>\n",
       "    </tr>\n",
       "  </tbody>\n",
       "</table>\n",
       "</div>"
      ],
      "text/plain": [
       "                                           Documents  \\\n",
       "0  La connaissance s'acquiert par l'expérience, t...   \n",
       "1             Qui veut aller loin ménage sa monture.   \n",
       "2  Un arbre qui tombe fait plus de bruit qu'une f...   \n",
       "3    À vaincre sans péril, on triomphe sans gloire!    \n",
       "4  Un homme n'est jamais si grand que lorsqu'il e...   \n",
       "\n",
       "                                              tokens  nbr_mot  \\\n",
       "0  [la, connaissance, s'acquiert, par, l'expérien...       12   \n",
       "1      [qui, veut, aller, loin, ménage, sa, monture]        7   \n",
       "2  [un, arbre, qui, tombe, fait, plus, de, bruit,...       12   \n",
       "3  [à, vaincre, sans, péril, on, triomphe, sans, ...        8   \n",
       "4  [un, homme, n'est, jamais, si, grand, que, lor...       15   \n",
       "\n",
       "   longueur_moyenne  \n",
       "0          6.083333  \n",
       "1          4.428571  \n",
       "2          4.166667  \n",
       "3          4.625000  \n",
       "4          4.266667  "
      ]
     },
     "execution_count": 32,
     "metadata": {},
     "output_type": "execute_result"
    }
   ],
   "source": [
    "# Afficher le dataframe\n",
    "df"
   ]
  },
  {
   "cell_type": "markdown",
   "id": "sized-willow",
   "metadata": {},
   "source": [
    "#### Nombre de stop words fr "
   ]
  },
  {
   "cell_type": "code",
   "execution_count": 33,
   "id": "joined-optimum",
   "metadata": {},
   "outputs": [],
   "source": [
    "# On vous donne la liste suivante de stop words en français :\n",
    "liste_sw_fr = ['au', 'aux', 'avec', 'qui', 'ce', 'ces', 'dans', 'sa', 'de', 'des', 'du', 'elle', 'en', 'et', 'eux','à', 'on',\n",
    "              'la', 'par', 'le', 'que', 'un', 'est', 'pour']"
   ]
  },
  {
   "cell_type": "code",
   "execution_count": 34,
   "id": "regular-monte",
   "metadata": {},
   "outputs": [],
   "source": [
    "# trouver le nombre de stop words dans chaque document\n",
    "df[\"nbr_stop_words\"] = df.tokens.map(lambda doc: len([mot for mot in doc if mot in liste_sw_fr]))"
   ]
  },
  {
   "cell_type": "code",
   "execution_count": 35,
   "id": "liberal-degree",
   "metadata": {},
   "outputs": [
    {
     "data": {
      "text/html": [
       "<div>\n",
       "<style scoped>\n",
       "    .dataframe tbody tr th:only-of-type {\n",
       "        vertical-align: middle;\n",
       "    }\n",
       "\n",
       "    .dataframe tbody tr th {\n",
       "        vertical-align: top;\n",
       "    }\n",
       "\n",
       "    .dataframe thead th {\n",
       "        text-align: right;\n",
       "    }\n",
       "</style>\n",
       "<table border=\"1\" class=\"dataframe\">\n",
       "  <thead>\n",
       "    <tr style=\"text-align: right;\">\n",
       "      <th></th>\n",
       "      <th>Documents</th>\n",
       "      <th>tokens</th>\n",
       "      <th>nbr_mot</th>\n",
       "      <th>longueur_moyenne</th>\n",
       "      <th>nbr_stop_words</th>\n",
       "    </tr>\n",
       "  </thead>\n",
       "  <tbody>\n",
       "    <tr>\n",
       "      <th>0</th>\n",
       "      <td>La connaissance s'acquiert par l'expérience, t...</td>\n",
       "      <td>[la, connaissance, s'acquiert, par, l'expérien...</td>\n",
       "      <td>12</td>\n",
       "      <td>6.083333</td>\n",
       "      <td>5</td>\n",
       "    </tr>\n",
       "    <tr>\n",
       "      <th>1</th>\n",
       "      <td>Qui veut aller loin ménage sa monture.</td>\n",
       "      <td>[qui, veut, aller, loin, ménage, sa, monture]</td>\n",
       "      <td>7</td>\n",
       "      <td>4.428571</td>\n",
       "      <td>2</td>\n",
       "    </tr>\n",
       "    <tr>\n",
       "      <th>2</th>\n",
       "      <td>Un arbre qui tombe fait plus de bruit qu'une f...</td>\n",
       "      <td>[un, arbre, qui, tombe, fait, plus, de, bruit,...</td>\n",
       "      <td>12</td>\n",
       "      <td>4.166667</td>\n",
       "      <td>4</td>\n",
       "    </tr>\n",
       "    <tr>\n",
       "      <th>3</th>\n",
       "      <td>À vaincre sans péril, on triomphe sans gloire!</td>\n",
       "      <td>[à, vaincre, sans, péril, on, triomphe, sans, ...</td>\n",
       "      <td>8</td>\n",
       "      <td>4.625000</td>\n",
       "      <td>2</td>\n",
       "    </tr>\n",
       "    <tr>\n",
       "      <th>4</th>\n",
       "      <td>Un homme n'est jamais si grand que lorsqu'il e...</td>\n",
       "      <td>[un, homme, n'est, jamais, si, grand, que, lor...</td>\n",
       "      <td>15</td>\n",
       "      <td>4.266667</td>\n",
       "      <td>6</td>\n",
       "    </tr>\n",
       "  </tbody>\n",
       "</table>\n",
       "</div>"
      ],
      "text/plain": [
       "                                           Documents  \\\n",
       "0  La connaissance s'acquiert par l'expérience, t...   \n",
       "1             Qui veut aller loin ménage sa monture.   \n",
       "2  Un arbre qui tombe fait plus de bruit qu'une f...   \n",
       "3    À vaincre sans péril, on triomphe sans gloire!    \n",
       "4  Un homme n'est jamais si grand que lorsqu'il e...   \n",
       "\n",
       "                                              tokens  nbr_mot  \\\n",
       "0  [la, connaissance, s'acquiert, par, l'expérien...       12   \n",
       "1      [qui, veut, aller, loin, ménage, sa, monture]        7   \n",
       "2  [un, arbre, qui, tombe, fait, plus, de, bruit,...       12   \n",
       "3  [à, vaincre, sans, péril, on, triomphe, sans, ...        8   \n",
       "4  [un, homme, n'est, jamais, si, grand, que, lor...       15   \n",
       "\n",
       "   longueur_moyenne  nbr_stop_words  \n",
       "0          6.083333               5  \n",
       "1          4.428571               2  \n",
       "2          4.166667               4  \n",
       "3          4.625000               2  \n",
       "4          4.266667               6  "
      ]
     },
     "execution_count": 35,
     "metadata": {},
     "output_type": "execute_result"
    }
   ],
   "source": [
    "# Afficher le dataframe\n",
    "df"
   ]
  },
  {
   "cell_type": "code",
   "execution_count": null,
   "id": "choice-humidity",
   "metadata": {},
   "outputs": [],
   "source": []
  }
 ],
 "metadata": {
  "kernelspec": {
   "display_name": "Python 3 (ipykernel)",
   "language": "python",
   "name": "python3"
  },
  "language_info": {
   "codemirror_mode": {
    "name": "ipython",
    "version": 3
   },
   "file_extension": ".py",
   "mimetype": "text/x-python",
   "name": "python",
   "nbconvert_exporter": "python",
   "pygments_lexer": "ipython3",
   "version": "3.10.9"
  },
  "toc": {
   "base_numbering": 1,
   "nav_menu": {},
   "number_sections": false,
   "sideBar": true,
   "skip_h1_title": false,
   "title_cell": "Table of Contents",
   "title_sidebar": "Contents",
   "toc_cell": false,
   "toc_position": {
    "height": "calc(100% - 180px)",
    "left": "10px",
    "top": "150px",
    "width": "349.091px"
   },
   "toc_section_display": true,
   "toc_window_display": true
  }
 },
 "nbformat": 4,
 "nbformat_minor": 5
}
