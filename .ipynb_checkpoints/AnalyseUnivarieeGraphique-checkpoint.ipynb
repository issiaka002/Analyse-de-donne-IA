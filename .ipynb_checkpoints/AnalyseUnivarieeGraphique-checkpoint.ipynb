{
 "cells": [
  {
   "cell_type": "markdown",
   "metadata": {
    "id": "rHLcriKWLRe4"
   },
   "source": [
    " # **Analyse univariée graphique**"
   ]
  },
  {
   "cell_type": "markdown",
   "metadata": {
    "id": "QvJBqX8_Bctk"
   },
   "source": [
    "**Objectifs d'apprentissage :**\n",
    "  * Introduction à l'exploration univariée graphique\n",
    "  * Importer les modules *Python* pour l'analyse de données\n",
    "  * Charger les données et les sauvegarder dans un *DataFrame*\n",
    "  * Visualiser les données à l'aide d'un graphique\n",
    "  "
   ]
  },
  {
   "cell_type": "markdown",
   "metadata": {
    "id": "TIFJ83ZTBctl"
   },
   "source": [
    "  ## **Introduction à l'exploration univariée graphique**\n",
    " L'exploration univariée graphique s'intéresse à la visualisation des données par rapport à une seule variable à la fois. Plusieurs techniques de visualisation peuvent être utilisées pour l'analyse exploratoire univariée telles que: les histogrammes, les boites à moustâches, les diagrammes en bâtons, les nuages de points, etc. \n",
    " Le choix d'une technique ou d'une autre dépend essentiellement du type de la variable à l'étude."
   ]
  },
  {
   "cell_type": "markdown",
   "metadata": {
    "id": "s_JOISVgmn9v"
   },
   "source": [
    " ### **Étapes d'analyse univariée graphique en *Python***\n",
    "\n",
    "Différentes étapes sont nécessaires pour la visualisation univariée:\n",
    "1. Importer les modules *Python* necessaires\n",
    "2. Charger les données et les sauvegarder dans un *DataFrame*\n",
    "3. Visualiser les données à l'aide d'un graphique\n",
    "\n",
    "\n"
   ]
  },
  {
   "cell_type": "markdown",
   "metadata": {
    "id": "XtYZ7114n3b-"
   },
   "source": [
    " ## **Importer les modules *Python* pour l'analyse de données**\n",
    "\n",
    "Pour l'analyse univariéé graphique, le module *pandas* est essentielle. Il dispose des *DataFrames* qui représentent des structures de données puissantes pour repésenter les données en tableaux relationnels avec des lignes et des colonnes. L'importation du module *pandas* se fait comme suit:"
   ]
  },
  {
   "cell_type": "code",
   "execution_count": null,
   "metadata": {
    "id": "_TFm7-looBFF"
   },
   "outputs": [],
   "source": [
    "import pandas as pd"
   ]
  },
  {
   "cell_type": "markdown",
   "metadata": {
    "id": "65g1ZdGVjXsQ"
   },
   "source": [
    "*Scikit-learn* est un autre module important pour l'analyse des données et surtout pour l'apprentissage automatique, il dispose d'un ensemble d'algorithmes et de données qui peuvent être utilisées pour toute sorte d'analyse potentielle. La ligne de code suivante permet d'importer des données sur le cancer du sein disponible dans le module *Scikit-learn*:"
   ]
  },
  {
   "cell_type": "code",
   "execution_count": null,
   "metadata": {
    "id": "SxrWVVcSw867"
   },
   "outputs": [],
   "source": [
    "from sklearn.datasets import load_breast_cancer"
   ]
  },
  {
   "cell_type": "markdown",
   "metadata": {
    "id": "UrSMdCj8-2O2"
   },
   "source": [
    "En plus des deux modules mentionnés ci-haut,  les modules de visualisation s'ajoute, les plus polulaires sont *maplotlib* et *seaborn*. *Seaborn* est une extension de *matplotlib*, il fournit une interface de haut niveau pour illustrer des graphiques statistiques attrayants et informatifs.\n",
    "Exécutez la commande ci-dessus pour importer le module *seaborn*:"
   ]
  },
  {
   "cell_type": "code",
   "execution_count": null,
   "metadata": {
    "id": "XO2mytVEALiE"
   },
   "outputs": [],
   "source": [
    "import seaborn as sns"
   ]
  },
  {
   "cell_type": "markdown",
   "metadata": {
    "id": "RM1iaD-ka3Y1"
   },
   "source": [
    " ## **Charger les données et les sauvegarder dans un DataFrame**\n",
    "\n",
    "Afin de pouvoir effectuer une analyse univariée sur *Python*, il est necéssaire de charger les données et les sauvegarder dans un *DataFrame*. Par exemple pour les données du cancer du sein de Scikit-learn, on peut charger les données dans un *DataFrame* en exécutant la cellule suivante:"
   ]
  },
  {
   "cell_type": "code",
   "execution_count": null,
   "metadata": {
    "id": "XWmyCFJ5bOv-"
   },
   "outputs": [],
   "source": [
    "cancerData = load_breast_cancer()\n",
    "cancer = pd.DataFrame(cancerData.data, columns=cancerData.feature_names)"
   ]
  },
  {
   "cell_type": "markdown",
   "metadata": {
    "id": "9HD95VoRQGHh"
   },
   "source": [
    "## **Visualiser les données à l'aide d'un graphique**\n",
    "\n",
    "Le module *seaborn* dispose d'une panoplie de graphiques pour la visualisation univariée. Le choix d'un graphique parmi d'autres dépends du type de données à visualiser (quantitatives ou qualitatives). Par exemple, pour les données quantitatives, un histogramme ou des boîtes à moustâches permettent d'illustrer la distribution des données par rapport à une variable précise. Les boîtes à moustâches permettent, de plus, à visualiser les valeurs abérrantes.\n",
    "Exécutez la cellule suivante pour visualiser un histogramme représentant la distribution de la variable *mean radius* dans les données du cancer de sein. Avant, ça, n'oubliez pas d'exécuter toutes les lignes du code ci-dessus.\n"
   ]
  },
  {
   "cell_type": "code",
   "execution_count": null,
   "metadata": {
    "colab": {
     "base_uri": "https://localhost:8080/",
     "height": 296
    },
    "id": "rgQBPLH9vjQ-",
    "outputId": "89a3c567-f940-4ec5-dd2f-8c794a8c70e9"
   },
   "outputs": [
    {
     "data": {
      "text/plain": [
       "<AxesSubplot:xlabel='mean radius', ylabel='Count'>"
      ]
     },
     "execution_count": 6,
     "metadata": {},
     "output_type": "execute_result"
    },
    {
     "data": {
      "image/png": "[encoded data removed]",
      "text/plain": [
       "<Figure size 432x288 with 1 Axes>"
      ]
     },
     "metadata": {
      "needs_background": "light"
     },
     "output_type": "display_data"
    }
   ],
   "source": [
    "sns.histplot(cancer['mean radius'])"
   ]
  },
  {
   "cell_type": "markdown",
   "metadata": {
    "id": "6qh63m-ayb-c"
   },
   "source": [
    " ## **Exercice**\n",
    "\n",
    "Utilisez la fonction *boxplot()* en Python pour afficher le diagramme de boîtes à moustâches afin de visualiser la distribution ainsi que les valeurs abérantes pour la variable indépendante *mean radius* dans les données de cancer de sein."
   ]
  },
  {
   "cell_type": "code",
   "execution_count": null,
   "metadata": {
    "id": "zCOn8ftSyddH",
    "outputId": "2dc19228-8335-490e-db82-4e5822732b25"
   },
   "outputs": [
    {
     "data": {
      "text/plain": [
       "<AxesSubplot:>"
      ]
     },
     "execution_count": 11,
     "metadata": {},
     "output_type": "execute_result"
    },
    {
     "data": {
      "image/png": "[encoded data removed]",
      "text/plain": [
       "<Figure size 432x288 with 1 Axes>"
      ]
     },
     "metadata": {
      "needs_background": "light"
     },
     "output_type": "display_data"
    }
   ],
   "source": [
    "sns.boxplot(data=cancer['mean radius'])"
   ]
  },
  {
   "cell_type": "markdown",
   "metadata": {
    "id": "YHIWvc9Ms-Ll"
   },
   "source": [
    " ### **Solution**\n",
    "\n",
    "Cliquez ci-dessous pour afficher la solution. Exécuter la cellule suivante pour afficher le diagramme de boîtes à moustâches. N'oubliez pas d'exécuter toutes les lignes de code ci-dessus avant afin de pourvoir importer les modules nécessaires ainsi que les données de cancer de sein et de charger les données dans un DataFrame."
   ]
  },
  {
   "cell_type": "code",
   "execution_count": null,
   "metadata": {
    "colab": {
     "base_uri": "https://localhost:8080/",
     "height": 350
    },
    "id": "T5OlrqtdtCIb",
    "outputId": "c1608ddd-6735-492d-a429-d457330b9cee"
   },
   "outputs": [
    {
     "data": {
      "text/plain": [
       "<AxesSubplot:>"
      ]
     },
     "execution_count": 7,
     "metadata": {},
     "output_type": "execute_result"
    },
    {
     "data": {
      "image/png": "[encoded data removed]",
      "text/plain": [
       "<Figure size 432x288 with 1 Axes>"
      ]
     },
     "metadata": {
      "needs_background": "light"
     },
     "output_type": "display_data"
    }
   ],
   "source": [
    "sns.boxplot(Data=cancer['mean radius'])"
   ]
  },
  {
   "cell_type": "code",
   "execution_count": null,
   "metadata": {
    "id": "YeqNt_N_EE2m"
   },
   "outputs": [],
   "source": []
  }
 ],
 "metadata": {
  "colab": {
   "collapsed_sections": [
    "YHIWvc9Ms-Ll"
   ],
   "name": "AnalyseUnivarieeGraphique.ipynb",
   "provenance": []
  },
  "kernelspec": {
   "display_name": "Python 3 (ipykernel)",
   "language": "python",
   "name": "python3"
  },
  "language_info": {
   "codemirror_mode": {
    "name": "ipython",
    "version": 3
   },
   "file_extension": ".py",
   "mimetype": "text/x-python",
   "name": "python",
   "nbconvert_exporter": "python",
   "pygments_lexer": "ipython3",
   "version": "3.10.9"
  }
 },
 "nbformat": 4,
 "nbformat_minor": 1
}
