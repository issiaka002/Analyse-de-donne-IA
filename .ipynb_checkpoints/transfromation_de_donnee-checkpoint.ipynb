{
 "cells": [
  {
   "cell_type": "code",
   "execution_count": 10,
   "id": "d1596bf6",
   "metadata": {},
   "outputs": [],
   "source": [
    "import requests\n",
    "import pprint as p\n",
    "apikey = \"47IRDd4spRhnanq4gwkah9nClsiepLVS\"\n",
    "ville = \"paris\""
   ]
  },
  {
   "cell_type": "code",
   "execution_count": 11,
   "id": "53de9df5",
   "metadata": {},
   "outputs": [],
   "source": [
    "url = \"http://dataservice.accuweather.com/locations/v1//search?q= \" + ville+\"&apikey=\"+ apikey\n",
    "reponse = requests.get(url)"
   ]
  },
  {
   "cell_type": "code",
   "execution_count": 13,
   "id": "8ceccfd4",
   "metadata": {},
   "outputs": [
    {
     "name": "stdout",
     "output_type": "stream",
     "text": [
      "<Response [401]>\n"
     ]
    }
   ],
   "source": [
    "p.pprint(reponse)"
   ]
  },
  {
   "cell_type": "code",
   "execution_count": null,
   "id": "7b87613d",
   "metadata": {},
   "outputs": [],
   "source": []
  }
 ],
 "metadata": {
  "kernelspec": {
   "display_name": "Python 3 (ipykernel)",
   "language": "python",
   "name": "python3"
  },
  "language_info": {
   "codemirror_mode": {
    "name": "ipython",
    "version": 3
   },
   "file_extension": ".py",
   "mimetype": "text/x-python",
   "name": "python",
   "nbconvert_exporter": "python",
   "pygments_lexer": "ipython3",
   "version": "3.10.9"
  }
 },
 "nbformat": 4,
 "nbformat_minor": 5
}
