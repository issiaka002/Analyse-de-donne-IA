{
 "cells": [
  {
   "cell_type": "markdown",
   "metadata": {
    "id": "rHLcriKWLRe4"
   },
   "source": [
    " # **Analyse Prédictive**"
   ]
  },
  {
   "cell_type": "markdown",
   "metadata": {
    "id": "QvJBqX8_Bctk"
   },
   "source": [
    "**Objectifs d'apprentissage :**\n",
    "  * Introduction à l'analyse prédictive\n",
    "  * Partitionnement des données en Python\n",
    "  * Classification des données en Python\n",
    "  "
   ]
  },
  {
   "cell_type": "markdown",
   "metadata": {
    "id": "TIFJ83ZTBctl"
   },
   "source": [
    "  ## **Introduction à l'analyse prédictive**\n",
    " L'analyse prédictive est basée sur l’utilisation des techniques d’apprentissage supervisé pour effectuer des prédictions en function des données historiques. l'apprentissage supervisé se concentre sur l'entraînement des algorithmes sur un jeu de données étiquetées pour apprendre une function de prediction.\n",
    "\n",
    " Quand la variable cible à prédire est discrète on parle de **classification**, cependant si elle est continue, on parle de **regréssion**.\n",
    "\n",
    " Deux étapes sont importantes dans l'apprentissage supervisé à savoir **l'entrainement et le test**. L'entrainement de l'algorithme se fait généralement sur la majorité des données (80-90% des doonées) et le test sur les autres 10-20% des données. Pour cela un partitionnement de données est nécessaire avant les étapes d'entraînememt et de test.\n",
    "\n",
    "\n"
   ]
  },
  {
   "cell_type": "markdown",
   "metadata": {
    "id": "XtYZ7114n3b-"
   },
   "source": [
    " ## **Partitionnement des données en *Python***\n",
    "La fonction *train_test_split* de *Scikit-Learn* permet de partitionner les données. Exécutez le code suivant pour importer les modules python nécessaire, charger les données du cancer du sein dans un dataFrame et partitionner les données en deux ensembles (80% des données serviront pour entrainer le modèle et 20% seront utilisées pour le tester).\n",
    "\n"
   ]
  },
  {
   "cell_type": "code",
   "execution_count": 1,
   "metadata": {
    "id": "_TFm7-looBFF"
   },
   "outputs": [],
   "source": [
    "import pandas as pd\n",
    "from sklearn.datasets import load_breast_cancer\n",
    "from sklearn.model_selection import train_test_split\n",
    "cancerData = load_breast_cancer()\n",
    "cancer = pd.DataFrame(cancerData.data, columns=cancerData.feature_names)\n",
    "x_train, x_test, y_train, y_test= train_test_split(cancerData.data, cancerData.target, test_size=0.20, random_state=44)"
   ]
  },
  {
   "cell_type": "markdown",
   "metadata": {
    "id": "1r9KW56Bqz3_"
   },
   "source": [
    "Pour afficher les dimensions de chacun des ensembles de données, vous pouvez utiliser la fonction shape comme suit:"
   ]
  },
  {
   "cell_type": "code",
   "execution_count": 2,
   "metadata": {
    "colab": {
     "base_uri": "https://localhost:8080/"
    },
    "id": "H_B5817PrD0C",
    "outputId": "17d2941f-54fc-4129-c87c-f44ee5549421"
   },
   "outputs": [
    {
     "name": "stdout",
     "output_type": "stream",
     "text": [
      "(455, 30) (114, 30) (455,) (114,)\n"
     ]
    }
   ],
   "source": [
    "print(x_train.shape, x_test.shape, y_train.shape, y_test.shape)"
   ]
  },
  {
   "cell_type": "markdown",
   "metadata": {
    "id": "6U2Bb16QrDK2"
   },
   "source": [
    " ## **Entraînement du modèle**\n",
    "La phase d'entraînement consiste à apprendre à partir des données existantes. Il s'agit tout simplement d'appeler la fonction *fit()* du modèle, les paramètres de la fonction représentent les données d'entrainement (les variables indépendantes et la variable cible). \n",
    "\n",
    "Exécutez la commander ci-dessous pour entraîner un modèle d'arbre de décision sur les 80% de données du cancer du sein."
   ]
  },
  {
   "cell_type": "code",
   "execution_count": null,
   "metadata": {
    "colab": {
     "base_uri": "https://localhost:8080/"
    },
    "id": "x3RWjUN5tCnf",
    "outputId": "d26f2e42-d0af-41d7-e0b7-61fc0f4339cf"
   },
   "outputs": [
    {
     "data": {
      "text/plain": [
       "DecisionTreeClassifier()"
      ]
     },
     "execution_count": 2,
     "metadata": {},
     "output_type": "execute_result"
    }
   ],
   "source": [
    "from sklearn.tree import DecisionTreeClassifier\n",
    "model=DecisionTreeClassifier()\n",
    "model.fit(x_train,y_train)"
   ]
  },
  {
   "cell_type": "markdown",
   "metadata": {
    "id": "7vZF8fyksPOV"
   },
   "source": [
    " ## **Tester le modèle**\n",
    "La phase de test consiste à tester le modèle entraîné sur de nouvelles données. Il s'agit tout simplement d'appeler la fonction *predict()* du modèle, les paramètres de la fonction représentent les données de test. \n",
    "\n",
    "Exécutez la commander ci-dessous pour tester le modèle sur les 20% de données du cancer du sein."
   ]
  },
  {
   "cell_type": "code",
   "execution_count": null,
   "metadata": {
    "id": "Ke1rbbPls19k"
   },
   "outputs": [],
   "source": [
    "predict = model.predict(x_test)"
   ]
  },
  {
   "cell_type": "markdown",
   "metadata": {
    "id": "6qh63m-ayb-c"
   },
   "source": [
    " ## **Exercice**\n",
    "\n",
    "Utilisez la fonction *score()* en *Python* pour afficher la précision du modèle de prédiction."
   ]
  },
  {
   "cell_type": "code",
   "execution_count": null,
   "metadata": {
    "id": "zCOn8ftSyddH"
   },
   "outputs": [],
   "source": [
    "# Your code here"
   ]
  },
  {
   "cell_type": "markdown",
   "metadata": {
    "id": "YHIWvc9Ms-Ll"
   },
   "source": [
    " ### **Solution**\n",
    "\n",
    "Exécuter la cellule suivante pour afficher la précision du modèle de prédiction. N'oubliez pas d'exécuter les lignes de code ci-dessus avant afin de pouvoir importer les modules nécessaires ainsi que les données de cancer de sein et de charger les données dans un *DataFrame*."
   ]
  },
  {
   "cell_type": "code",
   "execution_count": null,
   "metadata": {
    "colab": {
     "base_uri": "https://localhost:8080/"
    },
    "id": "T5OlrqtdtCIb",
    "outputId": "901c5140-191f-4e67-b212-364f9e6cc7d3"
   },
   "outputs": [
    {
     "name": "stdout",
     "output_type": "stream",
     "text": [
      "0.9385964912280702\n"
     ]
    }
   ],
   "source": [
    "precision=model.score(x_test, y_test)\n",
    "print(precision)"
   ]
  }
 ],
 "metadata": {
  "colab": {
   "collapsed_sections": [],
   "name": "AnalysePrédictive.ipynb",
   "provenance": []
  },
  "kernelspec": {
   "display_name": "Python 3 (ipykernel)",
   "language": "python",
   "name": "python3"
  },
  "language_info": {
   "codemirror_mode": {
    "name": "ipython",
    "version": 3
   },
   "file_extension": ".py",
   "mimetype": "text/x-python",
   "name": "python",
   "nbconvert_exporter": "python",
   "pygments_lexer": "ipython3",
   "version": "3.10.9"
  }
 },
 "nbformat": 4,
 "nbformat_minor": 1
}
