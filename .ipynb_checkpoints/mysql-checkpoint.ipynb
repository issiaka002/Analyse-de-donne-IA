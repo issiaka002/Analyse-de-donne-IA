{
 "cells": [
  {
   "cell_type": "code",
   "execution_count": 21,
   "id": "e6804e63",
   "metadata": {},
   "outputs": [],
   "source": [
    "import mysql.connector as mysql\n",
    "from mysql.connector import errorcode"
   ]
  },
  {
   "cell_type": "code",
   "execution_count": 34,
   "id": "7fff4fc6",
   "metadata": {},
   "outputs": [],
   "source": [
    "cnx = mysql.connect(user='root', password='', host='127.0.0.1')\n",
    "cursor = cnx.cursor()"
   ]
  },
  {
   "cell_type": "code",
   "execution_count": 35,
   "id": "6ebb16d2",
   "metadata": {},
   "outputs": [],
   "source": [
    "DB_NAME=\"test_db\""
   ]
  },
  {
   "cell_type": "code",
   "execution_count": 39,
   "id": "2fd4c932",
   "metadata": {},
   "outputs": [],
   "source": [
    "TABLES = {}\n",
    "TABLES[\"etudiant\"]=(\n",
    " \"CREATE TABLE `etudiant` (\"\n",
    "    \"  `id` int(11) NOT NULL AUTO_INCREMENT,\"\n",
    "    \"  `birth_date` date NOT NULL,\"\n",
    "    \"  `first_name` varchar(14) NOT NULL,\"\n",
    "    \"  `last_name` varchar(16) NOT NULL,\"\n",
    "    \"  `gender` enum('M','F') NOT NULL,\"\n",
    "    \"  PRIMARY KEY (`id`)\"\n",
    "    \") ENGINE=InnoDB\"\n",
    ")\n",
    "\n",
    "TABLES[\"enseignant\"]=(\n",
    "\"CREATE TABLE `enseignant` (\"\n",
    "    \"  `id` int(11) NOT NULL AUTO_INCREMENT,\"\n",
    "    \"  `birth_date` date NOT NULL,\"\n",
    "    \"  `first_name` varchar(14) NOT NULL,\"\n",
    "    \"  `last_name` varchar(16) NOT NULL,\"\n",
    "    \"  `gender` enum('M','F') NOT NULL,\"\n",
    "    \"  PRIMARY KEY (`id`)\"\n",
    "    \") ENGINE=InnoDB\"\n",
    ")"
   ]
  },
  {
   "cell_type": "code",
   "execution_count": 40,
   "id": "8ade9966",
   "metadata": {},
   "outputs": [
    {
     "name": "stdout",
     "output_type": "stream",
     "text": [
      "Database test_db does not exists.\n",
      "Cursor is not connected\n"
     ]
    }
   ],
   "source": [
    "def create_database(cursor):\n",
    "    try:\n",
    "        cursor.execute(\n",
    "            \"CREATE DATABASE {} DEFAULT CHARACTER SET 'utf8'\".format(DB_NAME))\n",
    "    except mysql.Error as err:\n",
    "        print(\"Failed creating database: {}\".format(err))\n",
    "        exit(1)\n",
    "        \n",
    "try:\n",
    "    cursor.execute(\"USE {}\".format(DB_NAME))\n",
    "except mysql.Error as err:\n",
    "    print(f\"Database {DB_NAME} does not exists.\")\n",
    "    if err.errno == errorcode.ER_BAD_DB_ERROR:\n",
    "        create_database(cursor)\n",
    "        print(f\"Database {DB_NAME} created successfully.\")\n",
    "        cnx.database = DB_NAME\n",
    "    else:\n",
    "        print(err)\n",
    "        exit(1)"
   ]
  },
  {
   "cell_type": "code",
   "execution_count": 41,
   "id": "6e074387",
   "metadata": {},
   "outputs": [
    {
     "name": "stdout",
     "output_type": "stream",
     "text": [
      "Creating table etudiant: Cursor is not connected\n",
      "Creating table enseignant: Cursor is not connected\n"
     ]
    }
   ],
   "source": [
    "for table_name in TABLES:\n",
    "    table_description = TABLES[table_name]\n",
    "    try:\n",
    "        print(\"Creating table {}: \".format(table_name), end='')\n",
    "        cursor.execute(table_description)\n",
    "    except mysql.Error as err:\n",
    "        if err.errno == errorcode.ER_TABLE_EXISTS_ERROR:\n",
    "            print(\"already exists.\")\n",
    "        else:\n",
    "            print(err.msg)\n",
    "    else:\n",
    "        print(\"OK\")\n",
    "\n",
    "cursor.close()\n",
    "cnx.close()"
   ]
  },
  {
   "cell_type": "code",
   "execution_count": null,
   "id": "2f24a0df",
   "metadata": {},
   "outputs": [],
   "source": []
  }
 ],
 "metadata": {
  "kernelspec": {
   "display_name": "Python 3 (ipykernel)",
   "language": "python",
   "name": "python3"
  },
  "language_info": {
   "codemirror_mode": {
    "name": "ipython",
    "version": 3
   },
   "file_extension": ".py",
   "mimetype": "text/x-python",
   "name": "python",
   "nbconvert_exporter": "python",
   "pygments_lexer": "ipython3",
   "version": "3.10.9"
  }
 },
 "nbformat": 4,
 "nbformat_minor": 5
}
